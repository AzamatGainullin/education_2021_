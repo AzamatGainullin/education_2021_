{
 "cells": [
  {
   "cell_type": "code",
   "execution_count": 12,
   "id": "35eace93",
   "metadata": {},
   "outputs": [],
   "source": [
    "user_agent = {'User-Agent': 'Mozilla/5.0 (X11; Linux x86_64) AppleWebKit/537.36 (KHTML, like Gecko) Chrome/63.0.3239.132 Safari/537.36'}\n",
    "session = HTMLSession()\n",
    "r = session.get('https://www.samsung.com/ru/tvs/', headers=user_agent)\n",
    "links = r.html.absolute_links"
   ]
  },
  {
   "cell_type": "code",
   "execution_count": 16,
   "id": "43753705",
   "metadata": {},
   "outputs": [],
   "source": [
    "from selenium import webdriver\n",
    "driver = webdriver.Chrome(executable_path=\"/home/board/chromedriver\")\n",
    "driver.get('https://www.samsung.com/ru/tvs/')"
   ]
  },
  {
   "cell_type": "code",
   "execution_count": 30,
   "id": "1502d156",
   "metadata": {},
   "outputs": [],
   "source": [
    "button = driver.find_element_by_xpath('//*[@id=\"content\"]/div/div/div[2]/div/div[5]/div/div/div[2]/div[2]/div[2]/a')\n",
    "button.click()"
   ]
  },
  {
   "cell_type": "code",
   "execution_count": null,
   "id": "decc1a93",
   "metadata": {},
   "outputs": [],
   "source": []
  }
 ],
 "metadata": {
  "kernelspec": {
   "display_name": "Python 3",
   "language": "python",
   "name": "python3"
  },
  "language_info": {
   "codemirror_mode": {
    "name": "ipython",
    "version": 3
   },
   "file_extension": ".py",
   "mimetype": "text/x-python",
   "name": "python",
   "nbconvert_exporter": "python",
   "pygments_lexer": "ipython3",
   "version": "3.8.10"
  }
 },
 "nbformat": 4,
 "nbformat_minor": 5
}
