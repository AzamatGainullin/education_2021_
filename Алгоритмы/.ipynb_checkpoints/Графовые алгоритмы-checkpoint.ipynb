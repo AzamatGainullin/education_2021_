{
 "cells": [
  {
   "cell_type": "code",
   "execution_count": 76,
   "id": "feb3220f",
   "metadata": {},
   "outputs": [],
   "source": [
    "import networkx as nx"
   ]
  },
  {
   "cell_type": "code",
   "execution_count": 77,
   "id": "df4a0709",
   "metadata": {},
   "outputs": [],
   "source": [
    "G = nx.Graph()"
   ]
  },
  {
   "cell_type": "code",
   "execution_count": 78,
   "id": "b55091bc",
   "metadata": {},
   "outputs": [],
   "source": [
    "G.add_node('A')\n",
    "G.add_node('B')\n",
    "G.add_node('C')\n",
    "G.add_node('D')\n",
    "G.add_node('F')\n",
    "G.add_node('G')\n",
    "G.add_node('H')\n",
    "G.add_node('J')\n",
    "G.add_node('K')\n",
    "G.add_node('I')\n",
    "G.add_node('M')\n",
    "G.add_node('N')"
   ]
  },
  {
   "cell_type": "code",
   "execution_count": 79,
   "id": "dc623534",
   "metadata": {},
   "outputs": [],
   "source": [
    "G.add_edge('A', 'B')\n",
    "G.add_edge('A', 'C')\n",
    "G.add_edge('A', 'D')\n",
    "G.add_edge('C', 'H')\n",
    "G.add_edge('C', 'J')\n",
    "G.add_edge('C', 'K')\n",
    "G.add_edge('B', 'I')\n",
    "G.add_edge('B', 'M')\n",
    "G.add_edge('B', 'N')"
   ]
  },
  {
   "cell_type": "code",
   "execution_count": 80,
   "id": "bfc7c63f",
   "metadata": {},
   "outputs": [],
   "source": [
    "edges = list(G.edges())"
   ]
  },
  {
   "cell_type": "code",
   "execution_count": 81,
   "id": "7ab6ad95",
   "metadata": {},
   "outputs": [],
   "source": [
    "def neighbors_node(node='A'):\n",
    "    return [i[1] for i in edges if i[0]==node] + [i[0] for i in edges if i[1]==node]"
   ]
  },
  {
   "cell_type": "code",
   "execution_count": 82,
   "id": "5b343c1c",
   "metadata": {},
   "outputs": [],
   "source": [
    "from collections import deque, defaultdict\n",
    "def bfs_search(name):\n",
    "    dist=defaultdict()\n",
    "    search_queue = deque()\n",
    "    search_queue += neighbors_node(name)\n",
    "    searched = [name]\n",
    "    while search_queue:\n",
    "\n",
    "        person = search_queue.popleft()\n",
    "        # person = search_queue.pop() - в этои случае пойдет поиск в глубину\n",
    "\n",
    "        if person not in searched:\n",
    "\n",
    "            search_queue += neighbors_node(person)\n",
    "\n",
    "            searched.append(person)\n",
    "            \n",
    "    return searched"
   ]
  },
  {
   "cell_type": "code",
   "execution_count": 83,
   "id": "f45fa8c0",
   "metadata": {},
   "outputs": [],
   "source": [
    "#bfs_search('A')"
   ]
  },
  {
   "cell_type": "code",
   "execution_count": 84,
   "id": "dd75c893",
   "metadata": {},
   "outputs": [],
   "source": [
    "def dfs_search_reqursive(name='A'):\n",
    "    global searched\n",
    "    searched.append(name)\n",
    "    neighbors = neighbors_node(name)\n",
    "    for i in neighbors:\n",
    "        #print(i)\n",
    "        if i not in searched:\n",
    "            dfs_search_reqursive(name=i)\n",
    "    return"
   ]
  },
  {
   "cell_type": "code",
   "execution_count": 85,
   "id": "8653ae0f",
   "metadata": {},
   "outputs": [
    {
     "data": {
      "image/png": "[encoded data removed]",
      "text/plain": [
       "<Figure size 432x288 with 1 Axes>"
      ]
     },
     "metadata": {},
     "output_type": "display_data"
    }
   ],
   "source": [
    "nx.draw_networkx(G)"
   ]
  },
  {
   "cell_type": "code",
   "execution_count": 86,
   "id": "182f27ae",
   "metadata": {},
   "outputs": [],
   "source": [
    "searched = []\n",
    "dfs_search_reqursive(name='N')"
   ]
  },
  {
   "cell_type": "code",
   "execution_count": 87,
   "id": "44131420",
   "metadata": {},
   "outputs": [
    {
     "data": {
      "text/plain": [
       "['N', 'B', 'I', 'M', 'A', 'C', 'H', 'J', 'K', 'D']"
      ]
     },
     "execution_count": 87,
     "metadata": {},
     "output_type": "execute_result"
    }
   ],
   "source": [
    "searched"
   ]
  },
  {
   "cell_type": "code",
   "execution_count": null,
   "id": "acc340e6",
   "metadata": {},
   "outputs": [],
   "source": []
  }
 ],
 "metadata": {
  "kernelspec": {
   "display_name": "Python 3",
   "language": "python",
   "name": "python3"
  },
  "language_info": {
   "codemirror_mode": {
    "name": "ipython",
    "version": 3
   },
   "file_extension": ".py",
   "mimetype": "text/x-python",
   "name": "python",
   "nbconvert_exporter": "python",
   "pygments_lexer": "ipython3",
   "version": "3.8.10"
  }
 },
 "nbformat": 4,
 "nbformat_minor": 5
}
