{
 "cells": [
  {
   "cell_type": "code",
   "execution_count": 77,
   "id": "e20b30e0",
   "metadata": {},
   "outputs": [],
   "source": [
    "from random import randrange, random\n",
    "from random import choices\n",
    "from heapq import nlargest\n",
    "from statistics import mean\n",
    "from copy import deepcopy"
   ]
  },
  {
   "cell_type": "code",
   "execution_count": 68,
   "id": "785d7ccb",
   "metadata": {},
   "outputs": [],
   "source": [
    "initial_population = [[randrange(100), randrange(100)] for _ in range(20)]"
   ]
  },
  {
   "cell_type": "code",
   "execution_count": 17,
   "id": "18d58a29",
   "metadata": {},
   "outputs": [],
   "source": [
    "def fitness(item):\n",
    "    return 6 * item[0] - item[0] * item[0] + 4 * item[1] - item[1] * item[1]"
   ]
  },
  {
   "cell_type": "code",
   "execution_count": 18,
   "id": "8d9d1281",
   "metadata": {},
   "outputs": [],
   "source": [
    "def pick_roulette(population, wheel):\n",
    "    return tuple(choices(population, weights=wheel, k=2))"
   ]
  },
  {
   "cell_type": "code",
   "execution_count": 19,
   "id": "57514534",
   "metadata": {},
   "outputs": [],
   "source": [
    "def pick_tournament(population, num_participants):\n",
    "    participants = choices(population, k=num_participants)\n",
    "    return tuple(nlargest(2, participants, key=fitness))"
   ]
  },
  {
   "cell_type": "code",
   "execution_count": 95,
   "id": "9826a283",
   "metadata": {},
   "outputs": [],
   "source": [
    "def crossover(item1, item2):\n",
    "    return [item1[0], item2[1]], [item2[0], item1[1]]"
   ]
  },
  {
   "cell_type": "code",
   "execution_count": 88,
   "id": "f14847a2",
   "metadata": {},
   "outputs": [],
   "source": [
    "def reproduce_and_replace(population):\n",
    "    new_population = []\n",
    "    while len(new_population) < len(population):\n",
    "\n",
    "        if random() > 0.5:\n",
    "            parents = pick_roulette(population, wheel=[fitness(item) for item in population])\n",
    "        else:\n",
    "            parents = pick_tournament(population, len(population) // 2)\n",
    "\n",
    "        if random() < 0.7:\n",
    "            new_population.extend(crossover(parents[0], parents[1]))\n",
    "        else:\n",
    "            new_population.extend(parents)\n",
    "\n",
    "    if len(new_population) > len(population):\n",
    "        new_population.pop()\n",
    "    return new_population"
   ]
  },
  {
   "cell_type": "code",
   "execution_count": 78,
   "id": "57a8907e",
   "metadata": {},
   "outputs": [],
   "source": [
    "def mutate(item_):\n",
    "    item = deepcopy(item_)\n",
    "    if random() > 0.5: # mutate x\n",
    "        if random() > 0.5:\n",
    "            item[0] += 1\n",
    "        else:\n",
    "            item[0] -= 1\n",
    "    else: # otherwise mutate y\n",
    "        if random() > 0.5:\n",
    "            item[1] += 1\n",
    "        else:\n",
    "            item[1] -= 1\n",
    "    return item"
   ]
  },
  {
   "cell_type": "code",
   "execution_count": 132,
   "id": "baf6e6f5",
   "metadata": {},
   "outputs": [],
   "source": [
    "def run(population_):\n",
    "    population = deepcopy(population_)\n",
    "    best= max(population, key=fitness)\n",
    "    for generation in range(100):\n",
    "        # early exit if we beat threshold\n",
    "        if fitness(best) >= 13:\n",
    "            info = \"X: {0} Y: {1} Fitness: {2}\".format(best[0], best[1],fitness(best))\n",
    "            return print(info)\n",
    "        print(f\"Generation {generation} Best {fitness(best)} Avg {mean(map(fitness, population))}\")\n",
    "        population = reproduce_and_replace(population)\n",
    "        population = [mutate(item) for item in population]\n",
    "\n",
    "        highest = max(population, key=fitness)\n",
    "        if fitness(highest) > fitness(best):\n",
    "            best = highest # found a new best\n",
    "    #return best # best we found in _max_generations\n",
    "    info = \"X: {0} Y: {1} Fitness: {2}\".format(best[0], best[1],fitness(best))\n",
    "    return print(info)"
   ]
  },
  {
   "cell_type": "code",
   "execution_count": null,
   "id": "d915bc0f",
   "metadata": {},
   "outputs": [],
   "source": []
  }
 ],
 "metadata": {
  "kernelspec": {
   "display_name": "Python 3",
   "language": "python",
   "name": "python3"
  },
  "language_info": {
   "codemirror_mode": {
    "name": "ipython",
    "version": 3
   },
   "file_extension": ".py",
   "mimetype": "text/x-python",
   "name": "python",
   "nbconvert_exporter": "python",
   "pygments_lexer": "ipython3",
   "version": "3.8.10"
  }
 },
 "nbformat": 4,
 "nbformat_minor": 5
}
