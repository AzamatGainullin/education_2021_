{
 "cells": [
  {
   "cell_type": "markdown",
   "id": "618ea8fc",
   "metadata": {},
   "source": [
    "# 1. Повышение производительности используемого кода (точнее - циклов, которые тормозят Python)"
   ]
  },
  {
   "cell_type": "code",
   "execution_count": 1,
   "id": "7fc31593",
   "metadata": {},
   "outputs": [],
   "source": [
    "import numpy as np\n",
    "import pandas as pd"
   ]
  },
  {
   "cell_type": "markdown",
   "id": "76726085",
   "metadata": {},
   "source": [
    "### Функция, которая вычисляет расстояние между двумя точками на планете Земля по ширине и долготе точек:"
   ]
  },
  {
   "cell_type": "code",
   "execution_count": 2,
   "id": "9f3b5510",
   "metadata": {},
   "outputs": [],
   "source": [
    "def haversine(lat1, lon1, lat2, lon2):\n",
    "    MILES = 3959\n",
    "    lat1, lon1, lat2, lon2 = map(np.deg2rad, [lat1, lon1, lat2, lon2])\n",
    "    dlat = lat2 - lat1\n",
    "    dlon = lon2 - lon1\n",
    "    a = np.sin(dlat/2)**2 + np.cos(lat1) * np.cos(lat2) * np.sin(dlon/2)**2\n",
    "    c = 2 * np.arcsin(np.sqrt(a))\n",
    "    total_miles = MILES * c\n",
    "    return total_miles"
   ]
  },
  {
   "cell_type": "code",
   "execution_count": 3,
   "id": "e1663f1e",
   "metadata": {},
   "outputs": [
    {
     "data": {
      "text/html": [
       "<div>\n",
       "<style scoped>\n",
       "    .dataframe tbody tr th:only-of-type {\n",
       "        vertical-align: middle;\n",
       "    }\n",
       "\n",
       "    .dataframe tbody tr th {\n",
       "        vertical-align: top;\n",
       "    }\n",
       "\n",
       "    .dataframe thead th {\n",
       "        text-align: right;\n",
       "    }\n",
       "</style>\n",
       "<table border=\"1\" class=\"dataframe\">\n",
       "  <thead>\n",
       "    <tr style=\"text-align: right;\">\n",
       "      <th></th>\n",
       "      <th>ean_hotel_id</th>\n",
       "      <th>name</th>\n",
       "      <th>address1</th>\n",
       "      <th>city</th>\n",
       "      <th>state_province</th>\n",
       "      <th>postal_code</th>\n",
       "      <th>latitude</th>\n",
       "      <th>longitude</th>\n",
       "      <th>star_rating</th>\n",
       "      <th>high_rate</th>\n",
       "      <th>low_rate</th>\n",
       "    </tr>\n",
       "  </thead>\n",
       "  <tbody>\n",
       "    <tr>\n",
       "      <th>0</th>\n",
       "      <td>269955</td>\n",
       "      <td>Hilton Garden Inn Albany/SUNY Area</td>\n",
       "      <td>1389 Washington Ave</td>\n",
       "      <td>Albany</td>\n",
       "      <td>NY</td>\n",
       "      <td>12206</td>\n",
       "      <td>42.68751</td>\n",
       "      <td>-73.81643</td>\n",
       "      <td>3.0</td>\n",
       "      <td>154.0272</td>\n",
       "      <td>124.0216</td>\n",
       "    </tr>\n",
       "    <tr>\n",
       "      <th>1</th>\n",
       "      <td>113431</td>\n",
       "      <td>Courtyard by Marriott Albany Thruway</td>\n",
       "      <td>1455 Washington Avenue</td>\n",
       "      <td>Albany</td>\n",
       "      <td>NY</td>\n",
       "      <td>12206</td>\n",
       "      <td>42.68971</td>\n",
       "      <td>-73.82021</td>\n",
       "      <td>3.0</td>\n",
       "      <td>179.0100</td>\n",
       "      <td>134.0000</td>\n",
       "    </tr>\n",
       "    <tr>\n",
       "      <th>2</th>\n",
       "      <td>108151</td>\n",
       "      <td>Radisson Hotel Albany</td>\n",
       "      <td>205 Wolf Rd</td>\n",
       "      <td>Albany</td>\n",
       "      <td>NY</td>\n",
       "      <td>12205</td>\n",
       "      <td>42.72410</td>\n",
       "      <td>-73.79822</td>\n",
       "      <td>3.0</td>\n",
       "      <td>134.1700</td>\n",
       "      <td>84.1600</td>\n",
       "    </tr>\n",
       "    <tr>\n",
       "      <th>3</th>\n",
       "      <td>254756</td>\n",
       "      <td>Hilton Garden Inn Albany Medical Center</td>\n",
       "      <td>62 New Scotland Ave</td>\n",
       "      <td>Albany</td>\n",
       "      <td>NY</td>\n",
       "      <td>12208</td>\n",
       "      <td>42.65157</td>\n",
       "      <td>-73.77638</td>\n",
       "      <td>3.0</td>\n",
       "      <td>308.2807</td>\n",
       "      <td>228.4597</td>\n",
       "    </tr>\n",
       "    <tr>\n",
       "      <th>4</th>\n",
       "      <td>198232</td>\n",
       "      <td>CrestHill Suites SUNY University Albany</td>\n",
       "      <td>1415 Washington Avenue</td>\n",
       "      <td>Albany</td>\n",
       "      <td>NY</td>\n",
       "      <td>12206</td>\n",
       "      <td>42.68873</td>\n",
       "      <td>-73.81854</td>\n",
       "      <td>3.0</td>\n",
       "      <td>169.3900</td>\n",
       "      <td>89.3900</td>\n",
       "    </tr>\n",
       "  </tbody>\n",
       "</table>\n",
       "</div>"
      ],
      "text/plain": [
       "   ean_hotel_id                                     name  \\\n",
       "0        269955       Hilton Garden Inn Albany/SUNY Area   \n",
       "1        113431     Courtyard by Marriott Albany Thruway   \n",
       "2        108151                    Radisson Hotel Albany   \n",
       "3        254756  Hilton Garden Inn Albany Medical Center   \n",
       "4        198232  CrestHill Suites SUNY University Albany   \n",
       "\n",
       "                 address1    city state_province postal_code  latitude  \\\n",
       "0     1389 Washington Ave  Albany             NY       12206  42.68751   \n",
       "1  1455 Washington Avenue  Albany             NY       12206  42.68971   \n",
       "2             205 Wolf Rd  Albany             NY       12205  42.72410   \n",
       "3     62 New Scotland Ave  Albany             NY       12208  42.65157   \n",
       "4  1415 Washington Avenue  Albany             NY       12206  42.68873   \n",
       "\n",
       "   longitude  star_rating  high_rate  low_rate  \n",
       "0  -73.81643          3.0   154.0272  124.0216  \n",
       "1  -73.82021          3.0   179.0100  134.0000  \n",
       "2  -73.79822          3.0   134.1700   84.1600  \n",
       "3  -73.77638          3.0   308.2807  228.4597  \n",
       "4  -73.81854          3.0   169.3900   89.3900  "
      ]
     },
     "execution_count": 3,
     "metadata": {},
     "output_type": "execute_result"
    }
   ],
   "source": [
    "df = pd.read_csv('Data/new_york_hotels.csv', encoding='cp1252')\n",
    "df.head()"
   ]
  },
  {
   "cell_type": "markdown",
   "id": "a154a644",
   "metadata": {},
   "source": [
    "### Функция, которая вычисляет список расстояний между точкой на карте США и отелями Нью-Йорка:"
   ]
  },
  {
   "cell_type": "code",
   "execution_count": 5,
   "id": "dd8c419a",
   "metadata": {},
   "outputs": [],
   "source": [
    "def haversine_looping(df):\n",
    "    distance_list = []\n",
    "    for i in range(0, len(df)):\n",
    "        d = haversine(40.671, -73.985, df.iloc[i]['latitude'], df.iloc[i]['longitude'])\n",
    "        distance_list.append(d)\n",
    "    return distance_list"
   ]
  },
  {
   "cell_type": "code",
   "execution_count": 6,
   "id": "8edd0f18",
   "metadata": {},
   "outputs": [
    {
     "name": "stdout",
     "output_type": "stream",
     "text": [
      "3.42 s ± 88.6 ms per loop (mean ± std. dev. of 7 runs, 1 loop each)\n"
     ]
    }
   ],
   "source": [
    "%%timeit\n",
    "# запускаем итеративную функцию haversine\n",
    "df['distance'] = haversine_looping(df)"
   ]
  },
  {
   "cell_type": "code",
   "execution_count": 7,
   "id": "47b65c6e",
   "metadata": {},
   "outputs": [
    {
     "name": "stdout",
     "output_type": "stream",
     "text": [
      "1.41 s ± 108 ms per loop (mean ± std. dev. of 7 runs, 1 loop each)\n"
     ]
    }
   ],
   "source": [
    "%%timeit\n",
    "# запускаем итерирование с помощью\n",
    "# метода .iterrrows()\n",
    "haversine_series = []\n",
    "for index, row in df.iterrows():\n",
    "    haversine_series.append(haversine(40.671, -73.985, row['latitude'], row['longitude']))\n",
    "df['distance'] = haversine_series"
   ]
  },
  {
   "cell_type": "code",
   "execution_count": 8,
   "id": "11308545",
   "metadata": {},
   "outputs": [
    {
     "name": "stdout",
     "output_type": "stream",
     "text": [
      "312 ms ± 18.2 ms per loop (mean ± std. dev. of 7 runs, 1 loop each)\n"
     ]
    }
   ],
   "source": [
    "%%timeit\n",
    "# применяем функцию haversine с помощью\n",
    "# метода .apply()\n",
    "df['distance'] = df.apply(lambda row: haversine(40.671, -73.985, row['latitude'],\n",
    "                            row['longitude']), axis=1)"
   ]
  },
  {
   "cell_type": "code",
   "execution_count": 9,
   "id": "e3407646",
   "metadata": {},
   "outputs": [
    {
     "name": "stdout",
     "output_type": "stream",
     "text": [
      "19.6 ms ± 2.3 ms per loop (mean ± std. dev. of 7 runs, 1 loop each)\n"
     ]
    }
   ],
   "source": [
    "%%timeit\n",
    "# векторизированная реализация функции haversine,\n",
    "# используем объекты Series целиком\n",
    "df['distance'] = haversine(40.671, -73.985,df['latitude'], df['longitude'])"
   ]
  },
  {
   "cell_type": "code",
   "execution_count": 10,
   "id": "5df562a4",
   "metadata": {},
   "outputs": [
    {
     "name": "stdout",
     "output_type": "stream",
     "text": [
      "2.48 ms ± 442 µs per loop (mean ± std. dev. of 7 runs, 100 loops each)\n"
     ]
    }
   ],
   "source": [
    "%%timeit\n",
    "# векторизированная реализация функции haversine,\n",
    "# используем вместо объектов Series массивы NumPy\n",
    "df['distance'] = haversine(40.671, -73.985, df['latitude'].values, df['longitude'].values)"
   ]
  },
  {
   "cell_type": "markdown",
   "id": "500eb113",
   "metadata": {},
   "source": [
    "### Таким образом, мы постепенно достигли увеличения скорости кода в 3,42*1000 / 2,48 = 1380 раз. То есть надо при составлении кода с итерациями делать так, чтобы выполняемые функции в итерациях были векторизованы на основе массивов NumPy (например, `'df.values'`)."
   ]
  },
  {
   "cell_type": "markdown",
   "id": "957a7912",
   "metadata": {},
   "source": [
    "# 2. Применение Cython для повышения производительности кода"
   ]
  },
  {
   "cell_type": "code",
   "execution_count": 11,
   "id": "fa9d39ea",
   "metadata": {},
   "outputs": [],
   "source": [
    "# импортируем numpy и pandas\n",
    "import numpy as np\n",
    "import pandas as pd\n",
    "np.random.seed(12345)\n",
    "df = pd.DataFrame({'a': np.random.randn(1000),\n",
    "'b': np.random.randn(1000),\n",
    "'N': np.random.randint(100, 1000, (1000)),\n",
    "'x': 'x'})"
   ]
  },
  {
   "cell_type": "code",
   "execution_count": 12,
   "id": "c2cb3a20",
   "metadata": {},
   "outputs": [
    {
     "data": {
      "text/html": [
       "<div>\n",
       "<style scoped>\n",
       "    .dataframe tbody tr th:only-of-type {\n",
       "        vertical-align: middle;\n",
       "    }\n",
       "\n",
       "    .dataframe tbody tr th {\n",
       "        vertical-align: top;\n",
       "    }\n",
       "\n",
       "    .dataframe thead th {\n",
       "        text-align: right;\n",
       "    }\n",
       "</style>\n",
       "<table border=\"1\" class=\"dataframe\">\n",
       "  <thead>\n",
       "    <tr style=\"text-align: right;\">\n",
       "      <th></th>\n",
       "      <th>a</th>\n",
       "      <th>b</th>\n",
       "      <th>N</th>\n",
       "      <th>x</th>\n",
       "    </tr>\n",
       "  </thead>\n",
       "  <tbody>\n",
       "    <tr>\n",
       "      <th>0</th>\n",
       "      <td>-0.204708</td>\n",
       "      <td>-0.983505</td>\n",
       "      <td>826</td>\n",
       "      <td>x</td>\n",
       "    </tr>\n",
       "    <tr>\n",
       "      <th>1</th>\n",
       "      <td>0.478943</td>\n",
       "      <td>0.930944</td>\n",
       "      <td>220</td>\n",
       "      <td>x</td>\n",
       "    </tr>\n",
       "    <tr>\n",
       "      <th>2</th>\n",
       "      <td>-0.519439</td>\n",
       "      <td>-0.811676</td>\n",
       "      <td>401</td>\n",
       "      <td>x</td>\n",
       "    </tr>\n",
       "    <tr>\n",
       "      <th>3</th>\n",
       "      <td>-0.555730</td>\n",
       "      <td>-1.830156</td>\n",
       "      <td>363</td>\n",
       "      <td>x</td>\n",
       "    </tr>\n",
       "    <tr>\n",
       "      <th>4</th>\n",
       "      <td>1.965781</td>\n",
       "      <td>-0.138730</td>\n",
       "      <td>235</td>\n",
       "      <td>x</td>\n",
       "    </tr>\n",
       "    <tr>\n",
       "      <th>...</th>\n",
       "      <td>...</td>\n",
       "      <td>...</td>\n",
       "      <td>...</td>\n",
       "      <td>...</td>\n",
       "    </tr>\n",
       "    <tr>\n",
       "      <th>995</th>\n",
       "      <td>0.107657</td>\n",
       "      <td>-1.341493</td>\n",
       "      <td>700</td>\n",
       "      <td>x</td>\n",
       "    </tr>\n",
       "    <tr>\n",
       "      <th>996</th>\n",
       "      <td>-0.139298</td>\n",
       "      <td>-0.293333</td>\n",
       "      <td>211</td>\n",
       "      <td>x</td>\n",
       "    </tr>\n",
       "    <tr>\n",
       "      <th>997</th>\n",
       "      <td>-1.159926</td>\n",
       "      <td>-0.242459</td>\n",
       "      <td>315</td>\n",
       "      <td>x</td>\n",
       "    </tr>\n",
       "    <tr>\n",
       "      <th>998</th>\n",
       "      <td>0.618965</td>\n",
       "      <td>-3.056990</td>\n",
       "      <td>279</td>\n",
       "      <td>x</td>\n",
       "    </tr>\n",
       "    <tr>\n",
       "      <th>999</th>\n",
       "      <td>1.373890</td>\n",
       "      <td>1.918403</td>\n",
       "      <td>401</td>\n",
       "      <td>x</td>\n",
       "    </tr>\n",
       "  </tbody>\n",
       "</table>\n",
       "<p>1000 rows × 4 columns</p>\n",
       "</div>"
      ],
      "text/plain": [
       "            a         b    N  x\n",
       "0   -0.204708 -0.983505  826  x\n",
       "1    0.478943  0.930944  220  x\n",
       "2   -0.519439 -0.811676  401  x\n",
       "3   -0.555730 -1.830156  363  x\n",
       "4    1.965781 -0.138730  235  x\n",
       "..        ...       ...  ... ..\n",
       "995  0.107657 -1.341493  700  x\n",
       "996 -0.139298 -0.293333  211  x\n",
       "997 -1.159926 -0.242459  315  x\n",
       "998  0.618965 -3.056990  279  x\n",
       "999  1.373890  1.918403  401  x\n",
       "\n",
       "[1000 rows x 4 columns]"
      ]
     },
     "execution_count": 12,
     "metadata": {},
     "output_type": "execute_result"
    }
   ],
   "source": [
    "df"
   ]
  },
  {
   "cell_type": "code",
   "execution_count": 13,
   "id": "d43db06a",
   "metadata": {},
   "outputs": [],
   "source": [
    "def f(x):\n",
    "    return x * (x - 1)\n",
    "\n",
    "def integrate_f(a, b, N):\n",
    "    s = 0\n",
    "    dx = (b - a) / N\n",
    "    for i in range(N):\n",
    "        s += f(a + i * dx)\n",
    "    return s * dx"
   ]
  },
  {
   "cell_type": "code",
   "execution_count": 14,
   "id": "be57c753",
   "metadata": {
    "scrolled": true
   },
   "outputs": [
    {
     "name": "stdout",
     "output_type": "stream",
     "text": [
      "529 ms ± 6.35 ms per loop (mean ± std. dev. of 7 runs, 1 loop each)\n"
     ]
    }
   ],
   "source": [
    "%timeit df.apply(lambda x: integrate_f(x['a'], x['b'], x['N']), axis=1)"
   ]
  },
  {
   "cell_type": "markdown",
   "id": "f80dad68",
   "metadata": {},
   "source": [
    "### Смотрим, на что тратится основное время при выполнении кода:"
   ]
  },
  {
   "cell_type": "code",
   "execution_count": 15,
   "id": "bf86fb43",
   "metadata": {
    "scrolled": true
   },
   "outputs": [
    {
     "name": "stdout",
     "output_type": "stream",
     "text": [
      " "
     ]
    }
   ],
   "source": [
    "%prun -l 4 df.apply(lambda x: integrate_f(x['a'], x['b'], x['N']), axis=1)"
   ]
  },
  {
   "cell_type": "markdown",
   "id": "6a1a3091",
   "metadata": {},
   "source": [
    "### Загружаем Cython (надо его предварительно установить через pip). Код остается таким же, просто добавляется декоратор `%%cython`:"
   ]
  },
  {
   "cell_type": "code",
   "execution_count": 16,
   "id": "ccafe3ad",
   "metadata": {},
   "outputs": [],
   "source": [
    "%load_ext Cython"
   ]
  },
  {
   "cell_type": "code",
   "execution_count": 17,
   "id": "27a62d2b",
   "metadata": {},
   "outputs": [],
   "source": [
    "%%cython\n",
    "def f_plain(x):\n",
    "    return x * (x - 1)\n",
    "\n",
    "def integrate_f_plain(a, b, N):\n",
    "    s = 0\n",
    "    dx = (b - a) / N\n",
    "    for i in range(N):\n",
    "        s += f_plain(a + i * dx)\n",
    "    return s * dx"
   ]
  },
  {
   "cell_type": "code",
   "execution_count": 18,
   "id": "297a618c",
   "metadata": {},
   "outputs": [
    {
     "name": "stdout",
     "output_type": "stream",
     "text": [
      "324 ms ± 9.02 ms per loop (mean ± std. dev. of 7 runs, 1 loop each)\n"
     ]
    }
   ],
   "source": [
    "%timeit df.apply(lambda x: integrate_f_plain(x['a'], x['b'], x['N']), axis=1)"
   ]
  },
  {
   "cell_type": "markdown",
   "id": "b450f3c5",
   "metadata": {},
   "source": [
    "# 3. Применение Numba для повышения производительности кода (код конечно видоизменить):"
   ]
  },
  {
   "cell_type": "code",
   "execution_count": 19,
   "id": "b1636c5f",
   "metadata": {},
   "outputs": [],
   "source": [
    "import numba\n",
    "@numba.jit\n",
    "def f_plain(x):\n",
    "    return x * (x - 1)"
   ]
  },
  {
   "cell_type": "code",
   "execution_count": 20,
   "id": "b6dc0505",
   "metadata": {},
   "outputs": [],
   "source": [
    "@numba.jit\n",
    "def integrate_f_numba(a, b, N):\n",
    "    s = 0\n",
    "    dx = (b - a) / N\n",
    "    for i in range(N):\n",
    "        s += f_plain(a + i * dx)\n",
    "    return s * dx\n",
    "\n",
    "@numba.jit\n",
    "def apply_integrate_f_numba(col_a, col_b, col_N):\n",
    "    n = len(col_N)\n",
    "    result = np.empty(n, dtype='float64')\n",
    "    assert len(col_a) == len(col_b) == n\n",
    "    for i in range(n):\n",
    "        result[i] = integrate_f_numba(col_a[i], col_b[i], col_N[i])\n",
    "    return result\n",
    "\n",
    "def compute_numba(df):\n",
    "    result = apply_integrate_f_numba(df['a'].values, df['b'].values, df['N'].values)\n",
    "    return pd.Series(result, index=df.index, name='result')"
   ]
  },
  {
   "cell_type": "code",
   "execution_count": 21,
   "id": "0b361101",
   "metadata": {},
   "outputs": [
    {
     "name": "stdout",
     "output_type": "stream",
     "text": [
      "4.99 ms ± 139 µs per loop (mean ± std. dev. of 7 runs, 1 loop each)\n"
     ]
    }
   ],
   "source": [
    "%timeit compute_numba(df)"
   ]
  },
  {
   "cell_type": "markdown",
   "id": "a2c5dc2e",
   "metadata": {},
   "source": [
    "### Мы достигли 529/4,99 = 100-кратного увеличения скорости. Даже по сравнению с векторизованной формой."
   ]
  },
  {
   "cell_type": "markdown",
   "id": "090a9bd2",
   "metadata": {},
   "source": [
    "# 4. ИСПОЛЬЗУЕМ PANDAS ДЛЯ БОЛЬШИХ ДАННЫХ. Оптимизация памяти и типов используемых данных в `DataFrame`."
   ]
  },
  {
   "cell_type": "code",
   "execution_count": 22,
   "id": "baef55f6",
   "metadata": {},
   "outputs": [
    {
     "data": {
      "text/html": [
       "<div>\n",
       "<style scoped>\n",
       "    .dataframe tbody tr th:only-of-type {\n",
       "        vertical-align: middle;\n",
       "    }\n",
       "\n",
       "    .dataframe tbody tr th {\n",
       "        vertical-align: top;\n",
       "    }\n",
       "\n",
       "    .dataframe thead th {\n",
       "        text-align: right;\n",
       "    }\n",
       "</style>\n",
       "<table border=\"1\" class=\"dataframe\">\n",
       "  <thead>\n",
       "    <tr style=\"text-align: right;\">\n",
       "      <th></th>\n",
       "      <th>date</th>\n",
       "      <th>number_of_game</th>\n",
       "      <th>day_of_week</th>\n",
       "      <th>v_name</th>\n",
       "      <th>v_league</th>\n",
       "      <th>v_game_number</th>\n",
       "      <th>h_name</th>\n",
       "      <th>h_league</th>\n",
       "      <th>h_game_number</th>\n",
       "      <th>v_score</th>\n",
       "      <th>...</th>\n",
       "      <th>h_player_7_name</th>\n",
       "      <th>h_player_7_def_pos</th>\n",
       "      <th>h_player_8_id</th>\n",
       "      <th>h_player_8_name</th>\n",
       "      <th>h_player_8_def_pos</th>\n",
       "      <th>h_player_9_id</th>\n",
       "      <th>h_player_9_name</th>\n",
       "      <th>h_player_9_def_pos</th>\n",
       "      <th>additional_info</th>\n",
       "      <th>acquisition_info</th>\n",
       "    </tr>\n",
       "  </thead>\n",
       "  <tbody>\n",
       "    <tr>\n",
       "      <th>0</th>\n",
       "      <td>18710504</td>\n",
       "      <td>0</td>\n",
       "      <td>Thu</td>\n",
       "      <td>CL1</td>\n",
       "      <td>na</td>\n",
       "      <td>1</td>\n",
       "      <td>FW1</td>\n",
       "      <td>na</td>\n",
       "      <td>1</td>\n",
       "      <td>0</td>\n",
       "      <td>...</td>\n",
       "      <td>Ed Mincher</td>\n",
       "      <td>7.0</td>\n",
       "      <td>mcdej101</td>\n",
       "      <td>James McDermott</td>\n",
       "      <td>8.0</td>\n",
       "      <td>kellb105</td>\n",
       "      <td>Bill Kelly</td>\n",
       "      <td>9.0</td>\n",
       "      <td>NaN</td>\n",
       "      <td>Y</td>\n",
       "    </tr>\n",
       "    <tr>\n",
       "      <th>1</th>\n",
       "      <td>18710505</td>\n",
       "      <td>0</td>\n",
       "      <td>Fri</td>\n",
       "      <td>BS1</td>\n",
       "      <td>na</td>\n",
       "      <td>1</td>\n",
       "      <td>WS3</td>\n",
       "      <td>na</td>\n",
       "      <td>1</td>\n",
       "      <td>20</td>\n",
       "      <td>...</td>\n",
       "      <td>Asa Brainard</td>\n",
       "      <td>1.0</td>\n",
       "      <td>burrh101</td>\n",
       "      <td>Henry Burroughs</td>\n",
       "      <td>9.0</td>\n",
       "      <td>berth101</td>\n",
       "      <td>Henry Berthrong</td>\n",
       "      <td>8.0</td>\n",
       "      <td>HTBF</td>\n",
       "      <td>Y</td>\n",
       "    </tr>\n",
       "    <tr>\n",
       "      <th>2</th>\n",
       "      <td>18710506</td>\n",
       "      <td>0</td>\n",
       "      <td>Sat</td>\n",
       "      <td>CL1</td>\n",
       "      <td>na</td>\n",
       "      <td>2</td>\n",
       "      <td>RC1</td>\n",
       "      <td>na</td>\n",
       "      <td>1</td>\n",
       "      <td>12</td>\n",
       "      <td>...</td>\n",
       "      <td>Pony Sager</td>\n",
       "      <td>6.0</td>\n",
       "      <td>birdg101</td>\n",
       "      <td>George Bird</td>\n",
       "      <td>7.0</td>\n",
       "      <td>stirg101</td>\n",
       "      <td>Gat Stires</td>\n",
       "      <td>9.0</td>\n",
       "      <td>NaN</td>\n",
       "      <td>Y</td>\n",
       "    </tr>\n",
       "    <tr>\n",
       "      <th>3</th>\n",
       "      <td>18710508</td>\n",
       "      <td>0</td>\n",
       "      <td>Mon</td>\n",
       "      <td>CL1</td>\n",
       "      <td>na</td>\n",
       "      <td>3</td>\n",
       "      <td>CH1</td>\n",
       "      <td>na</td>\n",
       "      <td>1</td>\n",
       "      <td>12</td>\n",
       "      <td>...</td>\n",
       "      <td>Ed Duffy</td>\n",
       "      <td>6.0</td>\n",
       "      <td>pinke101</td>\n",
       "      <td>Ed Pinkham</td>\n",
       "      <td>5.0</td>\n",
       "      <td>zettg101</td>\n",
       "      <td>George Zettlein</td>\n",
       "      <td>1.0</td>\n",
       "      <td>NaN</td>\n",
       "      <td>Y</td>\n",
       "    </tr>\n",
       "    <tr>\n",
       "      <th>4</th>\n",
       "      <td>18710509</td>\n",
       "      <td>0</td>\n",
       "      <td>Tue</td>\n",
       "      <td>BS1</td>\n",
       "      <td>na</td>\n",
       "      <td>2</td>\n",
       "      <td>TRO</td>\n",
       "      <td>na</td>\n",
       "      <td>1</td>\n",
       "      <td>9</td>\n",
       "      <td>...</td>\n",
       "      <td>Steve Bellan</td>\n",
       "      <td>5.0</td>\n",
       "      <td>pikel101</td>\n",
       "      <td>Lip Pike</td>\n",
       "      <td>3.0</td>\n",
       "      <td>cravb101</td>\n",
       "      <td>Bill Craver</td>\n",
       "      <td>6.0</td>\n",
       "      <td>HTBF</td>\n",
       "      <td>Y</td>\n",
       "    </tr>\n",
       "  </tbody>\n",
       "</table>\n",
       "<p>5 rows × 161 columns</p>\n",
       "</div>"
      ],
      "text/plain": [
       "       date  number_of_game day_of_week v_name v_league  v_game_number h_name  \\\n",
       "0  18710504               0         Thu    CL1       na              1    FW1   \n",
       "1  18710505               0         Fri    BS1       na              1    WS3   \n",
       "2  18710506               0         Sat    CL1       na              2    RC1   \n",
       "3  18710508               0         Mon    CL1       na              3    CH1   \n",
       "4  18710509               0         Tue    BS1       na              2    TRO   \n",
       "\n",
       "  h_league  h_game_number  v_score  ...  h_player_7_name  h_player_7_def_pos  \\\n",
       "0       na              1        0  ...       Ed Mincher                 7.0   \n",
       "1       na              1       20  ...     Asa Brainard                 1.0   \n",
       "2       na              1       12  ...       Pony Sager                 6.0   \n",
       "3       na              1       12  ...         Ed Duffy                 6.0   \n",
       "4       na              1        9  ...     Steve Bellan                 5.0   \n",
       "\n",
       "  h_player_8_id  h_player_8_name h_player_8_def_pos h_player_9_id  \\\n",
       "0      mcdej101  James McDermott                8.0      kellb105   \n",
       "1      burrh101  Henry Burroughs                9.0      berth101   \n",
       "2      birdg101      George Bird                7.0      stirg101   \n",
       "3      pinke101       Ed Pinkham                5.0      zettg101   \n",
       "4      pikel101         Lip Pike                3.0      cravb101   \n",
       "\n",
       "   h_player_9_name  h_player_9_def_pos  additional_info acquisition_info  \n",
       "0       Bill Kelly                 9.0              NaN                Y  \n",
       "1  Henry Berthrong                 8.0             HTBF                Y  \n",
       "2       Gat Stires                 9.0              NaN                Y  \n",
       "3  George Zettlein                 1.0              NaN                Y  \n",
       "4      Bill Craver                 6.0             HTBF                Y  \n",
       "\n",
       "[5 rows x 161 columns]"
      ]
     },
     "execution_count": 22,
     "metadata": {},
     "output_type": "execute_result"
    }
   ],
   "source": [
    "# отключаем предупреждения Anaconda\n",
    "import warnings\n",
    "warnings.simplefilter('ignore')\n",
    "# импортируем библиотеку pandas\n",
    "import pandas as pd\n",
    "# cчитываем данные и выводим первые 5 наблюдений\n",
    "gl = pd.read_csv('Data/game_logs.csv')\n",
    "gl.head()"
   ]
  },
  {
   "cell_type": "code",
   "execution_count": 23,
   "id": "65f9755c",
   "metadata": {
    "scrolled": true
   },
   "outputs": [
    {
     "name": "stdout",
     "output_type": "stream",
     "text": [
      "<class 'pandas.core.frame.DataFrame'>\n",
      "RangeIndex: 171907 entries, 0 to 171906\n",
      "Columns: 161 entries, date to acquisition_info\n",
      "dtypes: float64(77), int64(6), object(78)\n",
      "memory usage: 859.4 MB\n"
     ]
    }
   ],
   "source": [
    "# выводим точную информацию об использовании памяти\n",
    "gl.info(memory_usage='deep')"
   ]
  },
  {
   "cell_type": "code",
   "execution_count": 24,
   "id": "ba99993f",
   "metadata": {
    "scrolled": true
   },
   "outputs": [
    {
     "name": "stdout",
     "output_type": "stream",
     "text": [
      "Использование памяти в среднем для float столбцов: 1.29 MB\n",
      "Использование памяти в среднем для int столбцов: 1.12 MB\n",
      "Использование памяти в среднем для object столбцов: 9.50 MB\n"
     ]
    }
   ],
   "source": [
    "# посмотрим, сколько памяти в среднем используют\n",
    "# столбцы определенного типа\n",
    "for dtype in ['float','int','object']:\n",
    "    selected_dtype = gl.select_dtypes(include=[dtype])\n",
    "    mean_usage_b = selected_dtype.memory_usage(deep=True).mean()\n",
    "    mean_usage_mb = mean_usage_b / 1024 ** 2\n",
    "    print(\"Использование памяти в среднем для {} столбцов: {:03.2f} MB\".format(dtype,mean_usage_mb))"
   ]
  },
  {
   "cell_type": "code",
   "execution_count": 25,
   "id": "f036702e",
   "metadata": {},
   "outputs": [
    {
     "name": "stdout",
     "output_type": "stream",
     "text": [
      "7.87 MB\n",
      "1.48 MB\n"
     ]
    }
   ],
   "source": [
    "# мы будем довольно часто подсчитывать использование памяти,\n",
    "# поэтому напишем функцию, которая сэкономит нам немного времени\n",
    "def mem_usage(pandas_obj):\n",
    "    if isinstance(pandas_obj,pd.DataFrame):\n",
    "        usage_b = pandas_obj.memory_usage(deep=True).sum()\n",
    "    else: # предположим, что если это не датафрейм, то серия\n",
    "        usage_b = pandas_obj.memory_usage(deep=True)\n",
    "    usage_mb = usage_b / 1024 ** 2 # преобразуем байты в мегабайты\n",
    "    return \"{:03.2f} MB\".format(usage_mb)\n",
    "# выполняем понижающее преобразование\n",
    "# для столбцов типа int\n",
    "gl_int = gl.select_dtypes(include=['int'])\n",
    "converted_int = gl_int.apply(pd.to_numeric,downcast='unsigned')\n",
    "print(mem_usage(gl_int))\n",
    "print(mem_usage(converted_int))"
   ]
  },
  {
   "cell_type": "code",
   "execution_count": 26,
   "id": "8fde0d38",
   "metadata": {},
   "outputs": [
    {
     "data": {
      "text/html": [
       "<div>\n",
       "<style scoped>\n",
       "    .dataframe tbody tr th:only-of-type {\n",
       "        vertical-align: middle;\n",
       "    }\n",
       "\n",
       "    .dataframe tbody tr th {\n",
       "        vertical-align: top;\n",
       "    }\n",
       "\n",
       "    .dataframe thead th {\n",
       "        text-align: right;\n",
       "    }\n",
       "</style>\n",
       "<table border=\"1\" class=\"dataframe\">\n",
       "  <thead>\n",
       "    <tr style=\"text-align: right;\">\n",
       "      <th></th>\n",
       "      <th>before</th>\n",
       "      <th>after</th>\n",
       "    </tr>\n",
       "  </thead>\n",
       "  <tbody>\n",
       "    <tr>\n",
       "      <th>uint8</th>\n",
       "      <td>NaN</td>\n",
       "      <td>5.0</td>\n",
       "    </tr>\n",
       "    <tr>\n",
       "      <th>uint32</th>\n",
       "      <td>NaN</td>\n",
       "      <td>1.0</td>\n",
       "    </tr>\n",
       "    <tr>\n",
       "      <th>int64</th>\n",
       "      <td>6.0</td>\n",
       "      <td>NaN</td>\n",
       "    </tr>\n",
       "  </tbody>\n",
       "</table>\n",
       "</div>"
      ],
      "text/plain": [
       "        before  after\n",
       "uint8      NaN    5.0\n",
       "uint32     NaN    1.0\n",
       "int64      6.0    NaN"
      ]
     },
     "execution_count": 26,
     "metadata": {},
     "output_type": "execute_result"
    }
   ],
   "source": [
    "compare_ints = pd.concat([gl_int.dtypes,converted_int.dtypes],axis=1)\n",
    "compare_ints.columns = ['before','after']\n",
    "compare_ints.apply(pd.Series.value_counts)"
   ]
  },
  {
   "cell_type": "code",
   "execution_count": 27,
   "id": "b1411ca8",
   "metadata": {},
   "outputs": [
    {
     "name": "stdout",
     "output_type": "stream",
     "text": [
      "100.99 MB\n",
      "50.49 MB\n"
     ]
    },
    {
     "data": {
      "text/html": [
       "<div>\n",
       "<style scoped>\n",
       "    .dataframe tbody tr th:only-of-type {\n",
       "        vertical-align: middle;\n",
       "    }\n",
       "\n",
       "    .dataframe tbody tr th {\n",
       "        vertical-align: top;\n",
       "    }\n",
       "\n",
       "    .dataframe thead th {\n",
       "        text-align: right;\n",
       "    }\n",
       "</style>\n",
       "<table border=\"1\" class=\"dataframe\">\n",
       "  <thead>\n",
       "    <tr style=\"text-align: right;\">\n",
       "      <th></th>\n",
       "      <th>before</th>\n",
       "      <th>after</th>\n",
       "    </tr>\n",
       "  </thead>\n",
       "  <tbody>\n",
       "    <tr>\n",
       "      <th>float32</th>\n",
       "      <td>NaN</td>\n",
       "      <td>77.0</td>\n",
       "    </tr>\n",
       "    <tr>\n",
       "      <th>float64</th>\n",
       "      <td>77.0</td>\n",
       "      <td>NaN</td>\n",
       "    </tr>\n",
       "  </tbody>\n",
       "</table>\n",
       "</div>"
      ],
      "text/plain": [
       "         before  after\n",
       "float32     NaN   77.0\n",
       "float64    77.0    NaN"
      ]
     },
     "execution_count": 27,
     "metadata": {},
     "output_type": "execute_result"
    }
   ],
   "source": [
    "# выполняем понижающее преобразование\n",
    "# для столбцов типа float\n",
    "gl_float = gl.select_dtypes(include=['float'])\n",
    "converted_float = gl_float.apply(pd.to_numeric,downcast='float')\n",
    "print(mem_usage(gl_float))\n",
    "print(mem_usage(converted_float))\n",
    "compare_floats = pd.concat([gl_float.dtypes,converted_float.dtypes],axis=1)\n",
    "compare_floats.columns = ['before','after']\n",
    "compare_floats.apply(pd.Series.value_counts)"
   ]
  },
  {
   "cell_type": "code",
   "execution_count": 28,
   "id": "57ae46ef",
   "metadata": {},
   "outputs": [
    {
     "name": "stdout",
     "output_type": "stream",
     "text": [
      "859.43 MB\n",
      "802.54 MB\n"
     ]
    }
   ],
   "source": [
    "# создаем копию исходного датафрейма\n",
    "optimized_gl = gl.copy()\n",
    "# заменяем исходные числовые столбцы\n",
    "# оптимизированными\n",
    "optimized_gl[converted_int.columns] = converted_int\n",
    "optimized_gl[converted_float.columns] = converted_float\n",
    "# смотрим использование памяти\n",
    "print(mem_usage(gl))\n",
    "print(mem_usage(optimized_gl))"
   ]
  },
  {
   "cell_type": "code",
   "execution_count": 29,
   "id": "facb391f",
   "metadata": {},
   "outputs": [
    {
     "data": {
      "text/html": [
       "<div>\n",
       "<style scoped>\n",
       "    .dataframe tbody tr th:only-of-type {\n",
       "        vertical-align: middle;\n",
       "    }\n",
       "\n",
       "    .dataframe tbody tr th {\n",
       "        vertical-align: top;\n",
       "    }\n",
       "\n",
       "    .dataframe thead th {\n",
       "        text-align: right;\n",
       "    }\n",
       "</style>\n",
       "<table border=\"1\" class=\"dataframe\">\n",
       "  <thead>\n",
       "    <tr style=\"text-align: right;\">\n",
       "      <th></th>\n",
       "      <th>day_of_week</th>\n",
       "      <th>v_name</th>\n",
       "      <th>v_league</th>\n",
       "      <th>h_name</th>\n",
       "      <th>h_league</th>\n",
       "      <th>day_night</th>\n",
       "      <th>completion</th>\n",
       "      <th>forefeit</th>\n",
       "      <th>protest</th>\n",
       "      <th>park_id</th>\n",
       "      <th>...</th>\n",
       "      <th>h_player_6_id</th>\n",
       "      <th>h_player_6_name</th>\n",
       "      <th>h_player_7_id</th>\n",
       "      <th>h_player_7_name</th>\n",
       "      <th>h_player_8_id</th>\n",
       "      <th>h_player_8_name</th>\n",
       "      <th>h_player_9_id</th>\n",
       "      <th>h_player_9_name</th>\n",
       "      <th>additional_info</th>\n",
       "      <th>acquisition_info</th>\n",
       "    </tr>\n",
       "  </thead>\n",
       "  <tbody>\n",
       "    <tr>\n",
       "      <th>count</th>\n",
       "      <td>171907</td>\n",
       "      <td>171907</td>\n",
       "      <td>171907</td>\n",
       "      <td>171907</td>\n",
       "      <td>171907</td>\n",
       "      <td>140150</td>\n",
       "      <td>116</td>\n",
       "      <td>145</td>\n",
       "      <td>180</td>\n",
       "      <td>171907</td>\n",
       "      <td>...</td>\n",
       "      <td>140838</td>\n",
       "      <td>140838</td>\n",
       "      <td>140838</td>\n",
       "      <td>140838</td>\n",
       "      <td>140838</td>\n",
       "      <td>140838</td>\n",
       "      <td>140838</td>\n",
       "      <td>140838</td>\n",
       "      <td>1456</td>\n",
       "      <td>140841</td>\n",
       "    </tr>\n",
       "    <tr>\n",
       "      <th>unique</th>\n",
       "      <td>7</td>\n",
       "      <td>148</td>\n",
       "      <td>7</td>\n",
       "      <td>148</td>\n",
       "      <td>7</td>\n",
       "      <td>2</td>\n",
       "      <td>116</td>\n",
       "      <td>3</td>\n",
       "      <td>5</td>\n",
       "      <td>245</td>\n",
       "      <td>...</td>\n",
       "      <td>4774</td>\n",
       "      <td>4720</td>\n",
       "      <td>5253</td>\n",
       "      <td>5197</td>\n",
       "      <td>4760</td>\n",
       "      <td>4710</td>\n",
       "      <td>5193</td>\n",
       "      <td>5142</td>\n",
       "      <td>332</td>\n",
       "      <td>1</td>\n",
       "    </tr>\n",
       "    <tr>\n",
       "      <th>top</th>\n",
       "      <td>Sat</td>\n",
       "      <td>CHN</td>\n",
       "      <td>NL</td>\n",
       "      <td>CHN</td>\n",
       "      <td>NL</td>\n",
       "      <td>D</td>\n",
       "      <td>20150718,,2,3,30</td>\n",
       "      <td>H</td>\n",
       "      <td>V</td>\n",
       "      <td>STL07</td>\n",
       "      <td>...</td>\n",
       "      <td>grimc101</td>\n",
       "      <td>Charlie Grimm</td>\n",
       "      <td>grimc101</td>\n",
       "      <td>Charlie Grimm</td>\n",
       "      <td>lopea102</td>\n",
       "      <td>Al Lopez</td>\n",
       "      <td>spahw101</td>\n",
       "      <td>Warren Spahn</td>\n",
       "      <td>HTBF</td>\n",
       "      <td>Y</td>\n",
       "    </tr>\n",
       "    <tr>\n",
       "      <th>freq</th>\n",
       "      <td>28891</td>\n",
       "      <td>8870</td>\n",
       "      <td>88866</td>\n",
       "      <td>9024</td>\n",
       "      <td>88867</td>\n",
       "      <td>82724</td>\n",
       "      <td>1</td>\n",
       "      <td>69</td>\n",
       "      <td>90</td>\n",
       "      <td>7022</td>\n",
       "      <td>...</td>\n",
       "      <td>427</td>\n",
       "      <td>427</td>\n",
       "      <td>491</td>\n",
       "      <td>491</td>\n",
       "      <td>676</td>\n",
       "      <td>676</td>\n",
       "      <td>339</td>\n",
       "      <td>339</td>\n",
       "      <td>1112</td>\n",
       "      <td>140841</td>\n",
       "    </tr>\n",
       "  </tbody>\n",
       "</table>\n",
       "<p>4 rows × 78 columns</p>\n",
       "</div>"
      ],
      "text/plain": [
       "       day_of_week  v_name v_league  h_name h_league day_night  \\\n",
       "count       171907  171907   171907  171907   171907    140150   \n",
       "unique           7     148        7     148        7         2   \n",
       "top            Sat     CHN       NL     CHN       NL         D   \n",
       "freq         28891    8870    88866    9024    88867     82724   \n",
       "\n",
       "              completion forefeit protest park_id  ... h_player_6_id  \\\n",
       "count                116      145     180  171907  ...        140838   \n",
       "unique               116        3       5     245  ...          4774   \n",
       "top     20150718,,2,3,30        H       V   STL07  ...      grimc101   \n",
       "freq                   1       69      90    7022  ...           427   \n",
       "\n",
       "       h_player_6_name h_player_7_id h_player_7_name h_player_8_id  \\\n",
       "count           140838        140838          140838        140838   \n",
       "unique            4720          5253            5197          4760   \n",
       "top      Charlie Grimm      grimc101   Charlie Grimm      lopea102   \n",
       "freq               427           491             491           676   \n",
       "\n",
       "       h_player_8_name h_player_9_id h_player_9_name additional_info  \\\n",
       "count           140838        140838          140838            1456   \n",
       "unique            4710          5193            5142             332   \n",
       "top           Al Lopez      spahw101    Warren Spahn            HTBF   \n",
       "freq               676           339             339            1112   \n",
       "\n",
       "       acquisition_info  \n",
       "count            140841  \n",
       "unique                1  \n",
       "top                   Y  \n",
       "freq             140841  \n",
       "\n",
       "[4 rows x 78 columns]"
      ]
     },
     "execution_count": 29,
     "metadata": {},
     "output_type": "execute_result"
    }
   ],
   "source": [
    "# смотрим количество уникальных значений\n",
    "# по каждому столбцу типа object\n",
    "gl_obj = gl.select_dtypes(include=['object']).copy()\n",
    "gl_obj.describe()"
   ]
  },
  {
   "cell_type": "code",
   "execution_count": 30,
   "id": "1adbd90f",
   "metadata": {},
   "outputs": [
    {
     "name": "stdout",
     "output_type": "stream",
     "text": [
      "0    Thu\n",
      "1    Fri\n",
      "2    Sat\n",
      "3    Mon\n",
      "4    Tue\n",
      "Name: day_of_week, dtype: object\n"
     ]
    }
   ],
   "source": [
    "# запишем столбец day_of_week как dow\n",
    "dow = gl_obj.day_of_week\n",
    "print(dow.head())"
   ]
  },
  {
   "cell_type": "markdown",
   "id": "6c6f45c3",
   "metadata": {},
   "source": [
    "### Эффектный финт. Переводим при ограниченном кол-ве значений столбца тип данных из `object` в `category`:"
   ]
  },
  {
   "cell_type": "code",
   "execution_count": 31,
   "id": "c9a66752",
   "metadata": {},
   "outputs": [
    {
     "name": "stdout",
     "output_type": "stream",
     "text": [
      "0    Thu\n",
      "1    Fri\n",
      "2    Sat\n",
      "3    Mon\n",
      "4    Tue\n",
      "Name: day_of_week, dtype: category\n",
      "Categories (7, object): ['Fri', 'Mon', 'Sat', 'Sun', 'Thu', 'Tue', 'Wed']\n"
     ]
    }
   ],
   "source": [
    "# присваиваем столбцу dow тип category\n",
    "dow_cat = dow.astype('category')\n",
    "print(dow_cat.head())"
   ]
  },
  {
   "cell_type": "code",
   "execution_count": 32,
   "id": "d4c381e2",
   "metadata": {},
   "outputs": [
    {
     "name": "stdout",
     "output_type": "stream",
     "text": [
      "9.84 MB\n",
      "0.16 MB\n"
     ]
    }
   ],
   "source": [
    "print(mem_usage(dow))\n",
    "print(mem_usage(dow_cat))\n"
   ]
  },
  {
   "cell_type": "code",
   "execution_count": 33,
   "id": "e5582efe",
   "metadata": {},
   "outputs": [],
   "source": [
    "converted_obj = pd.DataFrame()\n",
    "# пишем цикл, которой перебирает каждый столбец object,\n",
    "# проверяет его на соответствие заданному порогу\n",
    "# (количество уникальных значений должно быть меньше 50%\n",
    "# от общего количества значений), и если столбец\n",
    "# удовлетворяет порогу, преобразовывает его в тип category\n",
    "for col in gl_obj.columns:\n",
    "    num_unique_values = len(gl_obj[col].unique())\n",
    "    num_total_values = len(gl_obj[col])\n",
    "    if num_unique_values / num_total_values < 0.5:\n",
    "        converted_obj.loc[:,col] = gl_obj[col].astype('category')\n",
    "    else:\n",
    "        converted_obj.loc[:,col] = gl_obj[col]"
   ]
  },
  {
   "cell_type": "code",
   "execution_count": 34,
   "id": "695bf4da",
   "metadata": {},
   "outputs": [
    {
     "name": "stdout",
     "output_type": "stream",
     "text": [
      "750.57 MB\n",
      "49.89 MB\n"
     ]
    },
    {
     "data": {
      "text/html": [
       "<div>\n",
       "<style scoped>\n",
       "    .dataframe tbody tr th:only-of-type {\n",
       "        vertical-align: middle;\n",
       "    }\n",
       "\n",
       "    .dataframe tbody tr th {\n",
       "        vertical-align: top;\n",
       "    }\n",
       "\n",
       "    .dataframe thead th {\n",
       "        text-align: right;\n",
       "    }\n",
       "</style>\n",
       "<table border=\"1\" class=\"dataframe\">\n",
       "  <thead>\n",
       "    <tr style=\"text-align: right;\">\n",
       "      <th></th>\n",
       "      <th>before</th>\n",
       "      <th>after</th>\n",
       "    </tr>\n",
       "  </thead>\n",
       "  <tbody>\n",
       "    <tr>\n",
       "      <th>object</th>\n",
       "      <td>78.0</td>\n",
       "      <td>NaN</td>\n",
       "    </tr>\n",
       "    <tr>\n",
       "      <th>category</th>\n",
       "      <td>NaN</td>\n",
       "      <td>2.0</td>\n",
       "    </tr>\n",
       "    <tr>\n",
       "      <th>category</th>\n",
       "      <td>NaN</td>\n",
       "      <td>1.0</td>\n",
       "    </tr>\n",
       "    <tr>\n",
       "      <th>category</th>\n",
       "      <td>NaN</td>\n",
       "      <td>1.0</td>\n",
       "    </tr>\n",
       "    <tr>\n",
       "      <th>category</th>\n",
       "      <td>NaN</td>\n",
       "      <td>1.0</td>\n",
       "    </tr>\n",
       "    <tr>\n",
       "      <th>...</th>\n",
       "      <td>...</td>\n",
       "      <td>...</td>\n",
       "    </tr>\n",
       "    <tr>\n",
       "      <th>category</th>\n",
       "      <td>NaN</td>\n",
       "      <td>1.0</td>\n",
       "    </tr>\n",
       "    <tr>\n",
       "      <th>category</th>\n",
       "      <td>NaN</td>\n",
       "      <td>1.0</td>\n",
       "    </tr>\n",
       "    <tr>\n",
       "      <th>category</th>\n",
       "      <td>NaN</td>\n",
       "      <td>1.0</td>\n",
       "    </tr>\n",
       "    <tr>\n",
       "      <th>category</th>\n",
       "      <td>NaN</td>\n",
       "      <td>1.0</td>\n",
       "    </tr>\n",
       "    <tr>\n",
       "      <th>category</th>\n",
       "      <td>NaN</td>\n",
       "      <td>1.0</td>\n",
       "    </tr>\n",
       "  </tbody>\n",
       "</table>\n",
       "<p>78 rows × 2 columns</p>\n",
       "</div>"
      ],
      "text/plain": [
       "          before  after\n",
       "object      78.0    NaN\n",
       "category     NaN    2.0\n",
       "category     NaN    1.0\n",
       "category     NaN    1.0\n",
       "category     NaN    1.0\n",
       "...          ...    ...\n",
       "category     NaN    1.0\n",
       "category     NaN    1.0\n",
       "category     NaN    1.0\n",
       "category     NaN    1.0\n",
       "category     NaN    1.0\n",
       "\n",
       "[78 rows x 2 columns]"
      ]
     },
     "execution_count": 34,
     "metadata": {},
     "output_type": "execute_result"
    }
   ],
   "source": [
    "# снова применяем функцию mem_usage, смотрим,\n",
    "# сколько памяти занимают все столбцы типа object\n",
    "# до и после преобразования в тип category\n",
    "print(mem_usage(gl_obj))\n",
    "print(mem_usage(converted_obj))\n",
    "compare_obj = pd.concat([gl_obj.dtypes,converted_obj.dtypes],axis=1)\n",
    "compare_obj.columns = ['before','after']\n",
    "compare_obj.apply(pd.Series.value_counts)"
   ]
  },
  {
   "cell_type": "code",
   "execution_count": 35,
   "id": "68fb3c47",
   "metadata": {},
   "outputs": [
    {
     "data": {
      "text/plain": [
       "'101.86 MB'"
      ]
     },
     "execution_count": 35,
     "metadata": {},
     "output_type": "execute_result"
    }
   ],
   "source": [
    "# смотрим, сколько памяти использует датафрейм\n",
    "# после оптимизации типов\n",
    "optimized_gl[converted_obj.columns] = converted_obj\n",
    "mem_usage(optimized_gl)"
   ]
  },
  {
   "cell_type": "markdown",
   "id": "f00ab5e2",
   "metadata": {},
   "source": [
    "### Эффектный финт номер 2. Задаем типы во время считывания данных. То есть мы предварительно изучаем, какие столбцы могут быть оптимизированы при загрузке путем указания категориального или числового типа. И явно в параметрах указываем, что надо считывать такой-то столбец как определенный тип данных:"
   ]
  },
  {
   "cell_type": "code",
   "execution_count": 36,
   "id": "02d9aef4",
   "metadata": {},
   "outputs": [
    {
     "name": "stdout",
     "output_type": "stream",
     "text": [
      "{   'day_of_week': 'category',\n",
      "    'h_game_number': 'uint8',\n",
      "    'h_league': 'category',\n",
      "    'h_name': 'category',\n",
      "    'h_score': 'uint8',\n",
      "    'number_of_game': 'uint8',\n",
      "    'v_game_number': 'uint8',\n",
      "    'v_league': 'category',\n",
      "    'v_name': 'category',\n",
      "    'v_score': 'uint8'}\n"
     ]
    }
   ],
   "source": [
    "# создаем словарь, в котором ключами будут имена\n",
    "# столбцов, а значениями - типы столбцов\n",
    "dtypes = optimized_gl.drop('date',axis=1).dtypes\n",
    "dtypes_col = dtypes.index\n",
    "dtypes_type = [i.name for i in dtypes.values]\n",
    "column_types = dict(zip(dtypes_col, dtypes_type))\n",
    "# вместо того, чтобы печатать 161 столбец,\n",
    "# выберем 10 пар \"ключ-значение\" из словаря\n",
    "# и красиво распечатаем их, используя prettyprint\n",
    "preview = first2pairs = {key:value for key,value in list(column_types.items())[:10]}\n",
    "import pprint\n",
    "pp = pp = pprint.PrettyPrinter(indent=4)\n",
    "pp.pprint(preview)"
   ]
  },
  {
   "cell_type": "code",
   "execution_count": 38,
   "id": "17aaf958",
   "metadata": {},
   "outputs": [
    {
     "name": "stdout",
     "output_type": "stream",
     "text": [
      "102.51 MB\n"
     ]
    },
    {
     "data": {
      "text/html": [
       "<div>\n",
       "<style scoped>\n",
       "    .dataframe tbody tr th:only-of-type {\n",
       "        vertical-align: middle;\n",
       "    }\n",
       "\n",
       "    .dataframe tbody tr th {\n",
       "        vertical-align: top;\n",
       "    }\n",
       "\n",
       "    .dataframe thead th {\n",
       "        text-align: right;\n",
       "    }\n",
       "</style>\n",
       "<table border=\"1\" class=\"dataframe\">\n",
       "  <thead>\n",
       "    <tr style=\"text-align: right;\">\n",
       "      <th></th>\n",
       "      <th>date</th>\n",
       "      <th>number_of_game</th>\n",
       "      <th>day_of_week</th>\n",
       "      <th>v_name</th>\n",
       "      <th>v_league</th>\n",
       "      <th>v_game_number</th>\n",
       "      <th>h_name</th>\n",
       "      <th>h_league</th>\n",
       "      <th>h_game_number</th>\n",
       "      <th>v_score</th>\n",
       "      <th>...</th>\n",
       "      <th>h_player_7_name</th>\n",
       "      <th>h_player_7_def_pos</th>\n",
       "      <th>h_player_8_id</th>\n",
       "      <th>h_player_8_name</th>\n",
       "      <th>h_player_8_def_pos</th>\n",
       "      <th>h_player_9_id</th>\n",
       "      <th>h_player_9_name</th>\n",
       "      <th>h_player_9_def_pos</th>\n",
       "      <th>additional_info</th>\n",
       "      <th>acquisition_info</th>\n",
       "    </tr>\n",
       "  </thead>\n",
       "  <tbody>\n",
       "    <tr>\n",
       "      <th>0</th>\n",
       "      <td>1871-05-04</td>\n",
       "      <td>0</td>\n",
       "      <td>Thu</td>\n",
       "      <td>CL1</td>\n",
       "      <td>na</td>\n",
       "      <td>1</td>\n",
       "      <td>FW1</td>\n",
       "      <td>na</td>\n",
       "      <td>1</td>\n",
       "      <td>0</td>\n",
       "      <td>...</td>\n",
       "      <td>Ed Mincher</td>\n",
       "      <td>7.0</td>\n",
       "      <td>mcdej101</td>\n",
       "      <td>James McDermott</td>\n",
       "      <td>8.0</td>\n",
       "      <td>kellb105</td>\n",
       "      <td>Bill Kelly</td>\n",
       "      <td>9.0</td>\n",
       "      <td>NaN</td>\n",
       "      <td>Y</td>\n",
       "    </tr>\n",
       "    <tr>\n",
       "      <th>1</th>\n",
       "      <td>1871-05-05</td>\n",
       "      <td>0</td>\n",
       "      <td>Fri</td>\n",
       "      <td>BS1</td>\n",
       "      <td>na</td>\n",
       "      <td>1</td>\n",
       "      <td>WS3</td>\n",
       "      <td>na</td>\n",
       "      <td>1</td>\n",
       "      <td>20</td>\n",
       "      <td>...</td>\n",
       "      <td>Asa Brainard</td>\n",
       "      <td>1.0</td>\n",
       "      <td>burrh101</td>\n",
       "      <td>Henry Burroughs</td>\n",
       "      <td>9.0</td>\n",
       "      <td>berth101</td>\n",
       "      <td>Henry Berthrong</td>\n",
       "      <td>8.0</td>\n",
       "      <td>HTBF</td>\n",
       "      <td>Y</td>\n",
       "    </tr>\n",
       "    <tr>\n",
       "      <th>2</th>\n",
       "      <td>1871-05-06</td>\n",
       "      <td>0</td>\n",
       "      <td>Sat</td>\n",
       "      <td>CL1</td>\n",
       "      <td>na</td>\n",
       "      <td>2</td>\n",
       "      <td>RC1</td>\n",
       "      <td>na</td>\n",
       "      <td>1</td>\n",
       "      <td>12</td>\n",
       "      <td>...</td>\n",
       "      <td>Pony Sager</td>\n",
       "      <td>6.0</td>\n",
       "      <td>birdg101</td>\n",
       "      <td>George Bird</td>\n",
       "      <td>7.0</td>\n",
       "      <td>stirg101</td>\n",
       "      <td>Gat Stires</td>\n",
       "      <td>9.0</td>\n",
       "      <td>NaN</td>\n",
       "      <td>Y</td>\n",
       "    </tr>\n",
       "    <tr>\n",
       "      <th>3</th>\n",
       "      <td>1871-05-08</td>\n",
       "      <td>0</td>\n",
       "      <td>Mon</td>\n",
       "      <td>CL1</td>\n",
       "      <td>na</td>\n",
       "      <td>3</td>\n",
       "      <td>CH1</td>\n",
       "      <td>na</td>\n",
       "      <td>1</td>\n",
       "      <td>12</td>\n",
       "      <td>...</td>\n",
       "      <td>Ed Duffy</td>\n",
       "      <td>6.0</td>\n",
       "      <td>pinke101</td>\n",
       "      <td>Ed Pinkham</td>\n",
       "      <td>5.0</td>\n",
       "      <td>zettg101</td>\n",
       "      <td>George Zettlein</td>\n",
       "      <td>1.0</td>\n",
       "      <td>NaN</td>\n",
       "      <td>Y</td>\n",
       "    </tr>\n",
       "    <tr>\n",
       "      <th>4</th>\n",
       "      <td>1871-05-09</td>\n",
       "      <td>0</td>\n",
       "      <td>Tue</td>\n",
       "      <td>BS1</td>\n",
       "      <td>na</td>\n",
       "      <td>2</td>\n",
       "      <td>TRO</td>\n",
       "      <td>na</td>\n",
       "      <td>1</td>\n",
       "      <td>9</td>\n",
       "      <td>...</td>\n",
       "      <td>Steve Bellan</td>\n",
       "      <td>5.0</td>\n",
       "      <td>pikel101</td>\n",
       "      <td>Lip Pike</td>\n",
       "      <td>3.0</td>\n",
       "      <td>cravb101</td>\n",
       "      <td>Bill Craver</td>\n",
       "      <td>6.0</td>\n",
       "      <td>HTBF</td>\n",
       "      <td>Y</td>\n",
       "    </tr>\n",
       "  </tbody>\n",
       "</table>\n",
       "<p>5 rows × 161 columns</p>\n",
       "</div>"
      ],
      "text/plain": [
       "        date  number_of_game day_of_week v_name v_league  v_game_number  \\\n",
       "0 1871-05-04               0         Thu    CL1       na              1   \n",
       "1 1871-05-05               0         Fri    BS1       na              1   \n",
       "2 1871-05-06               0         Sat    CL1       na              2   \n",
       "3 1871-05-08               0         Mon    CL1       na              3   \n",
       "4 1871-05-09               0         Tue    BS1       na              2   \n",
       "\n",
       "  h_name h_league  h_game_number  v_score  ...  h_player_7_name  \\\n",
       "0    FW1       na              1        0  ...       Ed Mincher   \n",
       "1    WS3       na              1       20  ...     Asa Brainard   \n",
       "2    RC1       na              1       12  ...       Pony Sager   \n",
       "3    CH1       na              1       12  ...         Ed Duffy   \n",
       "4    TRO       na              1        9  ...     Steve Bellan   \n",
       "\n",
       "   h_player_7_def_pos h_player_8_id  h_player_8_name h_player_8_def_pos  \\\n",
       "0                 7.0      mcdej101  James McDermott                8.0   \n",
       "1                 1.0      burrh101  Henry Burroughs                9.0   \n",
       "2                 6.0      birdg101      George Bird                7.0   \n",
       "3                 6.0      pinke101       Ed Pinkham                5.0   \n",
       "4                 5.0      pikel101         Lip Pike                3.0   \n",
       "\n",
       "  h_player_9_id  h_player_9_name  h_player_9_def_pos  additional_info  \\\n",
       "0      kellb105       Bill Kelly                 9.0              NaN   \n",
       "1      berth101  Henry Berthrong                 8.0             HTBF   \n",
       "2      stirg101       Gat Stires                 9.0              NaN   \n",
       "3      zettg101  George Zettlein                 1.0              NaN   \n",
       "4      cravb101      Bill Craver                 6.0             HTBF   \n",
       "\n",
       "  acquisition_info  \n",
       "0                Y  \n",
       "1                Y  \n",
       "2                Y  \n",
       "3                Y  \n",
       "4                Y  \n",
       "\n",
       "[5 rows x 161 columns]"
      ]
     },
     "execution_count": 38,
     "metadata": {},
     "output_type": "execute_result"
    }
   ],
   "source": [
    "# считываем данные с нужными нам типами\n",
    "read_and_optimized = pd.read_csv('Data/game_logs.csv', dtype=column_types,\n",
    "                                 parse_dates=['date'], infer_datetime_format=True)\n",
    "# смотрим использование памяти\n",
    "print(mem_usage(read_and_optimized))\n",
    "read_and_optimized.head()"
   ]
  },
  {
   "cell_type": "markdown",
   "id": "9d16f346",
   "metadata": {},
   "source": [
    "### Таким образом, мы в 8 раз снизили размер загружаемого файла."
   ]
  }
 ],
 "metadata": {
  "kernelspec": {
   "display_name": "Python 3",
   "language": "python",
   "name": "python3"
  },
  "language_info": {
   "codemirror_mode": {
    "name": "ipython",
    "version": 3
   },
   "file_extension": ".py",
   "mimetype": "text/x-python",
   "name": "python",
   "nbconvert_exporter": "python",
   "pygments_lexer": "ipython3",
   "version": "3.8.10"
  }
 },
 "nbformat": 4,
 "nbformat_minor": 5
}
