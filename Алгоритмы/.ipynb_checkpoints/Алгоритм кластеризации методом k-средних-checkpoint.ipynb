{
 "cells": [
  {
   "cell_type": "markdown",
   "id": "a3bdbbe2",
   "metadata": {},
   "source": [
    "### Для кластеризации неразмеченных данных делается следующее. Случайным образом выбираются k-центров из имеющихся точек данных. Каждая точка данных вычисляет для себя расстояние до этих центров и приписывает себя (**`new_assignments`**) к одному из этих центров, ближайшему. Это на первой итерации. После этого набор точек у каждого центра, поначалу случайного, вычисляет для себя настоящий центр: **`self.means[i] = vector_mean(i_points)`**. И теперь эти новые найденные центры еще раз используются всеми точками - каждая находит для себя ближайший из них (ведь центры-то сместились). И так до тех пор, пока центры перестанут смещаться."
   ]
  },
  {
   "cell_type": "code",
   "execution_count": 4,
   "id": "8dbd350d",
   "metadata": {},
   "outputs": [],
   "source": [
    "from lib.linear_algebra import squared_distance, vector_mean, distance\n",
    "import math, random\n",
    "\n",
    "# import matplotlib.image as mpimg\n",
    "# import matplotlib.pyplot as plt\n",
    "# import matplotlib as mpl\n",
    "\n",
    "class KMeans:\n",
    "    \"\"\"класс выполняет кластеризацию по методу k-средних\"\"\"\n",
    "\n",
    "    def __init__(self, k):\n",
    "        self.k = k          # число кластеров\n",
    "        self.means = None   # средние кластеров\n",
    "        self.count = 0\n",
    "\n",
    "    def classify(self, input):\n",
    "        \"\"\"вернуть индекс кластера, ближайшего к входящему значению input\"\"\"\n",
    "        return min(range(self.k),\n",
    "                   key=lambda i: squared_distance(input, self.means[i]))\n",
    "\n",
    "    def train(self, inputs):\n",
    "\n",
    "        self.means = random.sample(inputs, self.k)\n",
    "        assignments = None\n",
    "\n",
    "        while True:\n",
    "            self.count = self.count + 1\n",
    "            # найти новые назначения\n",
    "            new_assignments = list(map(self.classify, inputs))\n",
    "\n",
    "            # если ни одно назначение не изменилось, то завершить\n",
    "            if assignments == new_assignments:\n",
    "                return\n",
    "\n",
    "            # в противном случае сохранить новые назначения\n",
    "            assignments = new_assignments\n",
    "\n",
    "            for i in range(self.k):\n",
    "                i_points = [p for p, a in zip(inputs, assignments) if a == i]\n",
    "                # удостовериться, что i_points не пуст, чтобы не делить на 0\n",
    "                if i_points:\n",
    "                    self.means[i] = vector_mean(i_points)"
   ]
  },
  {
   "cell_type": "code",
   "execution_count": 5,
   "id": "544295ed",
   "metadata": {},
   "outputs": [
    {
     "name": "stdout",
     "output_type": "stream",
     "text": [
      "3-средних:\n",
      "[[-13.2, -28.333333333333332], [-43.666666666666664, 5.833333333333333], [12.785714285714285, 20.21428571428571]]\n",
      "______________________________________\n",
      "2-средних:\n",
      "[[-0.5357142857142857, -8.214285714285714], [-38.0, 17.57142857142857]]\n",
      "______________________________________\n"
     ]
    }
   ],
   "source": [
    "inputs = [[-14,-5],[13,13],[20,23],[-19,-11],[-9,-16],\n",
    "          [21,27],[-49,15],[26,13],[-46,5],[-34,-1],\n",
    "          [11,15],[-49,0],[-22,-16],[19,28],[-12,-8],\n",
    "          [-13,-19],[-41,8],[-11,-6],[-25,-9],[-18,-3],\n",
    "         [3,-1],[-4,88],[-1,-60],[-2,-90],[-1,-5],\n",
    "         [33,11],[-43,8],[-12,-30],[-22,-92],[-17,-55],\n",
    "         [3,1],[3,28],[12,30],[2,2],[17,5]]\n",
    "\n",
    "random.seed(0) # чтобы получить  повторимые результаты\n",
    "clusterer = KMeans(3)\n",
    "clusterer.train(inputs)\n",
    "print(\"3-средних:\")\n",
    "print(clusterer.means)\n",
    "print('______________________________________')\n",
    "\n",
    "random.seed(0)\n",
    "clusterer2 = KMeans(2)\n",
    "clusterer2.train(inputs)\n",
    "print(\"2-средних:\")\n",
    "print(clusterer2.means)\n",
    "print('______________________________________')"
   ]
  },
  {
   "cell_type": "code",
   "execution_count": 6,
   "id": "ce345b9f",
   "metadata": {},
   "outputs": [
    {
     "data": {
      "text/plain": [
       "4"
      ]
     },
     "execution_count": 6,
     "metadata": {},
     "output_type": "execute_result"
    }
   ],
   "source": [
    "clusterer.count # потребовалось 4 итерации чтобы найти оптимальные центры"
   ]
  }
 ],
 "metadata": {
  "kernelspec": {
   "display_name": "Python 3",
   "language": "python",
   "name": "python3"
  },
  "language_info": {
   "codemirror_mode": {
    "name": "ipython",
    "version": 3
   },
   "file_extension": ".py",
   "mimetype": "text/x-python",
   "name": "python",
   "nbconvert_exporter": "python",
   "pygments_lexer": "ipython3",
   "version": "3.8.10"
  }
 },
 "nbformat": 4,
 "nbformat_minor": 5
}
