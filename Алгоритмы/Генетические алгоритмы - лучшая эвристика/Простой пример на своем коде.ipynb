{
 "cells": [
  {
   "cell_type": "code",
   "execution_count": 2,
   "id": "e20b30e0",
   "metadata": {},
   "outputs": [],
   "source": [
    "from random import randrange, random\n",
    "from random import choices\n",
    "from heapq import nlargest\n",
    "from statistics import mean\n",
    "from copy import deepcopy"
   ]
  },
  {
   "cell_type": "markdown",
   "id": "cb24b1cf",
   "metadata": {},
   "source": [
    "### Инициализируем первичную популяцию - 20 случайных наборов чисел вида (x,y):"
   ]
  },
  {
   "cell_type": "code",
   "execution_count": 3,
   "id": "785d7ccb",
   "metadata": {},
   "outputs": [],
   "source": [
    "initial_population = [[randrange(100), randrange(100)] for _ in range(20)]"
   ]
  },
  {
   "cell_type": "markdown",
   "id": "d0db29f1",
   "metadata": {},
   "source": [
    "### Наша задача: найти такой **`item (x,y)`**, при которых максимизируется функция **`y = 6*x - x*x+4*y - y*y`** - функция **`ВЫЖИВАНИЯ`**:"
   ]
  },
  {
   "cell_type": "code",
   "execution_count": 4,
   "id": "18d58a29",
   "metadata": {},
   "outputs": [],
   "source": [
    "def fitness(item):\n",
    "    return 6 * item[0] - item[0] * item[0] + 4 * item[1] - item[1] * item[1]"
   ]
  },
  {
   "cell_type": "markdown",
   "id": "577d8bb2",
   "metadata": {},
   "source": [
    "### Устанавливаем две функции, которые будут делать **`ОТБОР ПО ВЫЖИВАЕМОСТИ`** наиболее приспособленных (то есть тех, у кого на данный момент наилучший показатель функции **`fitness`** ). Возвращает по 2 экземпляра из первоначальной популяции с вероятностью, пропорциональной приспособленности:"
   ]
  },
  {
   "cell_type": "code",
   "execution_count": 5,
   "id": "8d9d1281",
   "metadata": {},
   "outputs": [],
   "source": [
    "def pick_roulette(population, wheel):\n",
    "    return tuple(choices(population, weights=wheel, k=2))"
   ]
  },
  {
   "cell_type": "code",
   "execution_count": 6,
   "id": "57514534",
   "metadata": {},
   "outputs": [],
   "source": [
    "def pick_tournament(population, num_participants):\n",
    "    participants = choices(population, k=num_participants)\n",
    "    return tuple(nlargest(2, participants, key=fitness))"
   ]
  },
  {
   "cell_type": "markdown",
   "id": "f6fef354",
   "metadata": {},
   "source": [
    "### Реализуем алгоритм **`СКРЕЩИВАНИЯ`** - когда вышеупомянутые два экземпляра при превышении определенной вероятности рождают потомков с измененными свойствами:"
   ]
  },
  {
   "cell_type": "code",
   "execution_count": 7,
   "id": "9826a283",
   "metadata": {},
   "outputs": [],
   "source": [
    "def crossover(item1, item2):\n",
    "    return [item1[0], item2[1]], [item2[0], item1[1]]"
   ]
  },
  {
   "cell_type": "markdown",
   "id": "a21bebe1",
   "metadata": {},
   "source": [
    "### Вводим функцию **`МУТАЦИИ`** - в отличие от скрещивания, экземпляр сам меняет свои свойства с определенной вероятностью:"
   ]
  },
  {
   "cell_type": "code",
   "execution_count": 8,
   "id": "57a8907e",
   "metadata": {},
   "outputs": [],
   "source": [
    "def mutate(item_):\n",
    "    item = deepcopy(item_)\n",
    "    if random() > 0.5: # mutate x\n",
    "        if random() > 0.5:\n",
    "            item[0] += 1\n",
    "        else:\n",
    "            item[0] -= 1\n",
    "    else: # otherwise mutate y\n",
    "        if random() > 0.5:\n",
    "            item[1] += 1\n",
    "        else:\n",
    "            item[1] -= 1\n",
    "    return item"
   ]
  },
  {
   "cell_type": "markdown",
   "id": "14ebc6e3",
   "metadata": {},
   "source": [
    "### Собираем воедино функции отбора по выживаемости, скрещивания. Возвращаем измененную популяцию:"
   ]
  },
  {
   "cell_type": "code",
   "execution_count": 9,
   "id": "f14847a2",
   "metadata": {},
   "outputs": [],
   "source": [
    "def reproduce_and_replace(population):\n",
    "    new_population = []\n",
    "    while len(new_population) < len(population):\n",
    "\n",
    "        if random() > 0.5:\n",
    "            parents = pick_roulette(population, wheel=[fitness(item) for item in population])\n",
    "        else:\n",
    "            parents = pick_tournament(population, len(population) // 2)\n",
    "\n",
    "        if random() < 0.7:\n",
    "            new_population.extend(crossover(parents[0], parents[1]))\n",
    "        else:\n",
    "            new_population.extend(parents)\n",
    "\n",
    "    if len(new_population) > len(population):\n",
    "        new_population.pop()\n",
    "    return new_population"
   ]
  },
  {
   "cell_type": "markdown",
   "id": "e23e2a4e",
   "metadata": {},
   "source": [
    "### Собираем все воедино в функцию запуска, где устанавливаем 100 итераций-прогонов, в ходе которых популяция обновляется путем отбора, скрещивания и мутаций. Отбор происходит случайно, но предпочтение отдается экземплярам, наиболее подходящих под максимизацию функции выживаемости, в итоге выбирается наилучший экземпляр наиболее максимизирующий целевую функцию:"
   ]
  },
  {
   "cell_type": "code",
   "execution_count": 10,
   "id": "baf6e6f5",
   "metadata": {},
   "outputs": [],
   "source": [
    "def run(population_):\n",
    "    population = deepcopy(population_)\n",
    "    best= max(population, key=fitness)\n",
    "    for generation in range(100):\n",
    "        # early exit if we beat threshold\n",
    "        if fitness(best) >= 13:\n",
    "            info = \"X: {0} Y: {1} Fitness: {2}\".format(best[0], best[1],fitness(best))\n",
    "            return print(info)\n",
    "        print(f\"Generation {generation} Best {fitness(best)} Avg {mean(map(fitness, population))}\")\n",
    "        population = reproduce_and_replace(population)\n",
    "        population = [mutate(item) for item in population]\n",
    "\n",
    "        highest = max(population, key=fitness)\n",
    "        if fitness(highest) > fitness(best):\n",
    "            best = highest # found a new best\n",
    "    #return best # best we found in _max_generations\n",
    "    info = \"X: {0} Y: {1} Fitness: {2}\".format(best[0], best[1],fitness(best))\n",
    "    return print(info)"
   ]
  },
  {
   "cell_type": "code",
   "execution_count": 11,
   "id": "f9459141",
   "metadata": {},
   "outputs": [
    {
     "name": "stdout",
     "output_type": "stream",
     "text": [
      "Generation 0 Best -667 Avg -6417.4\n",
      "Generation 1 Best -536 Avg -2037.35\n",
      "Generation 2 Best -432 Avg -2811.65\n",
      "Generation 3 Best -428 Avg -560.2\n",
      "Generation 4 Best -428 Avg -561.15\n",
      "Generation 5 Best -396 Avg -518.55\n",
      "Generation 6 Best -357 Avg -433.2\n",
      "Generation 7 Best -320 Avg -380.4\n",
      "Generation 8 Best -285 Avg -356.55\n",
      "Generation 9 Best -252 Avg -324.65\n",
      "Generation 10 Best -216 Avg -321.4\n",
      "Generation 11 Best -184 Avg -231.75\n",
      "Generation 12 Best -157 Avg -220.1\n",
      "Generation 13 Best -132 Avg -192.45\n",
      "Generation 14 Best -131 Avg -195.4\n",
      "Generation 15 Best -109 Avg -167.15\n",
      "Generation 16 Best -88 Avg -129.95\n",
      "Generation 17 Best -69 Avg -130.9\n",
      "Generation 18 Best -68 Avg -118.45\n",
      "Generation 19 Best -51 Avg -88.8\n",
      "Generation 20 Best -36 Avg -73.2\n",
      "Generation 21 Best -36 Avg -77.9\n",
      "Generation 22 Best -36 Avg -82.35\n",
      "Generation 23 Best -32 Avg -70.75\n",
      "Generation 24 Best -16 Avg -50.25\n",
      "Generation 25 Best -7 Avg -26.7\n",
      "Generation 26 Best 3 Avg -33.35\n",
      "Generation 27 Best 3 Avg -11.55\n",
      "Generation 28 Best 5 Avg -11.5\n",
      "Generation 29 Best 5 Avg -6.75\n",
      "Generation 30 Best 12 Avg -3.9\n",
      "Generation 31 Best 12 Avg 2.25\n",
      "Generation 32 Best 12 Avg 8.8\n",
      "X: 3 Y: 2 Fitness: 13\n"
     ]
    }
   ],
   "source": [
    "run(initial_population)"
   ]
  },
  {
   "cell_type": "markdown",
   "id": "99d5d273",
   "metadata": {},
   "source": [
    "### Математически, да и в целом с точки зрения машинного обучения, первоначальная популяция - это случайный набор чисел в соотв-щем векторном пространстве. И мы по сути решаем задачу машинного обучения - найти подпространство, такой участок, где точки будут соотв-вать обозначенным критериям (максимизации, классификации, чего угодно). И последовательный отбор, скрещивания и мутации - это плавное перемещение точек в этом векторном пространстве, эвристически стараясь не упустить может быть тонкую лазейку в этот искомый участок пространства. Все как обычно, как будто градиентный спуск, просто движения точек стохастичны и не застревают в локальных минимумах, как я понял."
   ]
  },
  {
   "cell_type": "markdown",
   "id": "5a3cdd43",
   "metadata": {},
   "source": [
    "### Огромный плюс алгоритма - в универсальности, нет нужды думать над прямым аналитическим выводом и т.п. Говорят он еще как применим, будем исследовать, судя по всему этот алгоритм очень перспективен. Главное он удобен. Можно исследовать все что угодно, нет нужды собирать датасеты/таргеты/функции потерь и т.п."
   ]
  }
 ],
 "metadata": {
  "kernelspec": {
   "display_name": "Python 3",
   "language": "python",
   "name": "python3"
  },
  "language_info": {
   "codemirror_mode": {
    "name": "ipython",
    "version": 3
   },
   "file_extension": ".py",
   "mimetype": "text/x-python",
   "name": "python",
   "nbconvert_exporter": "python",
   "pygments_lexer": "ipython3",
   "version": "3.8.10"
  }
 },
 "nbformat": 4,
 "nbformat_minor": 5
}
