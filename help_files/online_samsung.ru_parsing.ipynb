{
 "cells": [
  {
   "cell_type": "code",
   "execution_count": null,
   "id": "5b918829",
   "metadata": {},
   "outputs": [],
   "source": [
    "from requests_html import HTMLSession  \n",
    "import requests\n",
    "from bs4 import BeautifulSoup\n",
    "from time import sleep\n",
    "import numpy as np\n",
    "import pandas as pd\n",
    "import random\n",
    "import datetime, threading, time"
   ]
  },
  {
   "cell_type": "code",
   "execution_count": null,
   "id": "c2e02057",
   "metadata": {},
   "outputs": [],
   "source": [
    "def get_maxpage():\n",
    "    user_agent = {'User-Agent': 'Mozilla/5.0 (X11; Linux x86_64) AppleWebKit/537.36 (KHTML, like Gecko) Chrome/63.0.3239.132 Safari/537.36'}\n",
    "    session = HTMLSession()\n",
    "    r = session.get('https://online-samsung.ru/televizory/', headers=user_agent)\n",
    "    links = r.html.absolute_links\n",
    "    links2 = [i for i in links if 'https://online-samsung.ru/televizory?page' in i]\n",
    "    maxpage = max([int(i[42:]) for i in sorted(links2)])\n",
    "    return maxpage"
   ]
  },
  {
   "cell_type": "code",
   "execution_count": null,
   "id": "264fbb64",
   "metadata": {},
   "outputs": [],
   "source": [
    "def get_html(url):\n",
    "    user_agent = {'User-Agent': 'Mozilla/5.0 (X11; Linux x86_64) AppleWebKit/537.36 (KHTML, like Gecko) Chrome/63.0.3239.132 Safari/537.36'}\n",
    "    r = requests.get(url, headers=user_agent)\n",
    "    return r.text\n",
    "\n",
    "def get_html2(url):\n",
    "    user_agent = {'User-Agent': 'Mozilla/5.0 (X11; Linux x86_64) AppleWebKit/537.36 (KHTML, like Gecko) Chrome/63.0.3239.132 Safari/537.36'}\n",
    "    session = HTMLSession()\n",
    "    r = session.get(url, headers=user_agent)\n",
    "    return r.text"
   ]
  },
  {
   "cell_type": "code",
   "execution_count": null,
   "id": "0439ce75",
   "metadata": {},
   "outputs": [],
   "source": [
    "def get_prices(method, maxpage):\n",
    "    dd = []\n",
    "    for page in range(maxpage+2):\n",
    "        sec = random.randint(1,5)\n",
    "        sleep(sec)\n",
    "        url = 'https://online-samsung.ru/televizory?page='+str(page)\n",
    "\n",
    "        html = method(url)\n",
    "        soup = BeautifulSoup(html, 'lxml')\n",
    "        tvs = soup.find_all('div', {'data-product-category':\"Телевизоры\"})\n",
    "        for tv in tvs:\n",
    "            sku = tv.find('div', class_=\"rating-wrapper\")['data-productsku']\n",
    "            name = tv.find('div', class_=\"teaser-title\").text\n",
    "            try:\n",
    "                prices = tv.find('div', class_=\"field-item\").text.split()\n",
    "            except:\n",
    "                prices = tv.find('div', class_=\"field field-name-commerce-price field-type-commerce-price field-label-hidden\").text.split()\n",
    "            price = ''\n",
    "            for i in prices[:-1]:\n",
    "                price = price + i\n",
    "            dd.append([sku,name,int(price)])\n",
    "    df = pd.DataFrame(dd, columns=['sku', 'name', 'price'])\n",
    "    return df"
   ]
  },
  {
   "cell_type": "code",
   "execution_count": null,
   "id": "0be9bd2b",
   "metadata": {},
   "outputs": [],
   "source": [
    "def get_df_final():\n",
    "    maxpage = get_maxpage()\n",
    "    df1 = get_prices(method=get_html, maxpage=maxpage)\n",
    "    df2 = get_prices(method=get_html2, maxpage=maxpage)\n",
    "    result=pd.concat([df1, df2], axis=0)\n",
    "    result.drop_duplicates(inplace=True)\n",
    "    result.sort_values(by='price', inplace=True, ascending=False)\n",
    "    result.reset_index(inplace=True, drop=True)\n",
    "    result.index.name = 'index'\n",
    "    return result"
   ]
  },
  {
   "cell_type": "code",
   "execution_count": null,
   "id": "f40f50d5",
   "metadata": {},
   "outputs": [],
   "source": [
    "result = get_df_final()"
   ]
  },
  {
   "cell_type": "code",
   "execution_count": null,
   "id": "28c3521d",
   "metadata": {},
   "outputs": [],
   "source": [
    "result.to_csv('result.csv')"
   ]
  },
  {
   "cell_type": "code",
   "execution_count": null,
   "id": "06c14408",
   "metadata": {},
   "outputs": [],
   "source": [
    "result2 = get_df_final() # загрузка на следующий день"
   ]
  },
  {
   "cell_type": "code",
   "execution_count": null,
   "id": "3168f9d7",
   "metadata": {},
   "outputs": [],
   "source": [
    "result2.to_csv('result2.csv')"
   ]
  },
  {
   "cell_type": "code",
   "execution_count": null,
   "id": "a782097e",
   "metadata": {},
   "outputs": [],
   "source": [
    "result = pd.read_csv('result.csv', index_col='index')"
   ]
  },
  {
   "cell_type": "code",
   "execution_count": null,
   "id": "58cc96ba",
   "metadata": {},
   "outputs": [],
   "source": [
    "result2 = pd.read_csv('result2.csv', index_col='index')"
   ]
  },
  {
   "cell_type": "code",
   "execution_count": null,
   "id": "d90e870f",
   "metadata": {},
   "outputs": [],
   "source": [
    "# df=pd.concat([result, result2], axis=0)"
   ]
  },
  {
   "cell_type": "code",
   "execution_count": null,
   "id": "afcde9e4",
   "metadata": {},
   "outputs": [],
   "source": [
    "# df.drop_duplicates(keep = False, inplace = True)"
   ]
  },
  {
   "cell_type": "code",
   "execution_count": null,
   "id": "c0a0f59c",
   "metadata": {},
   "outputs": [],
   "source": [
    "result2['price_yesterday'] = '_'"
   ]
  },
  {
   "cell_type": "code",
   "execution_count": null,
   "id": "d9d41bc0",
   "metadata": {},
   "outputs": [],
   "source": [
    "for i in range(len(result2)):\n",
    "    for j in range(len(result)):\n",
    "        if result2.iloc[i,1] == result.iloc[j,1]:\n",
    "            result2.iloc[i,3] = result.iloc[j,2]"
   ]
  },
  {
   "cell_type": "code",
   "execution_count": null,
   "id": "c8e7c9c7",
   "metadata": {},
   "outputs": [],
   "source": [
    "result2['percent'] = '_'"
   ]
  },
  {
   "cell_type": "code",
   "execution_count": null,
   "id": "01017276",
   "metadata": {},
   "outputs": [],
   "source": [
    "def get_percent(x,y):\n",
    "    try:\n",
    "        return round((x-y)/y*100, ndigits=1)\n",
    "    except:\n",
    "        return x"
   ]
  },
  {
   "cell_type": "code",
   "execution_count": null,
   "id": "db5a9847",
   "metadata": {},
   "outputs": [],
   "source": [
    "for i in range(len(result2)):\n",
    "    result2.iloc[i,4] = get_percent(result2.iloc[i,3], result2.iloc[i,2])"
   ]
  },
  {
   "cell_type": "code",
   "execution_count": null,
   "id": "5589c59f",
   "metadata": {},
   "outputs": [],
   "source": [
    "result2.to_excel('dayli_file_to_sent.xlsx')"
   ]
  },
  {
   "cell_type": "code",
   "execution_count": null,
   "id": "6def1e5b",
   "metadata": {},
   "outputs": [],
   "source": [
    "#start_time = datetime.datetime.now()\n",
    "def daily_download_call():\n",
    "    result2 = get_df_final()\n",
    "    result = pd.read_csv('result.csv', index_col='index')\n",
    "    result2.to_csv('result.csv')\n",
    "    result2['price_yesterday'] = '_'\n",
    "    for i in range(len(result2)):\n",
    "        for j in range(len(result)):\n",
    "            if result2.iloc[i,1] == result.iloc[j,1]:\n",
    "                result2.iloc[i,3] = result.iloc[j,2]    \n",
    "    result2['percent'] = '_'\n",
    "    for i in range(len(result2)):\n",
    "        result2.iloc[i,4] = get_percent(result2.iloc[i,3], result2.iloc[i,2])\n",
    "    result2.to_excel('dayli_file_to_sent.xlsx')\n",
    "\n",
    "    threading.Timer(3600, daily_download_call ).start()\n",
    "daily_download_call()"
   ]
  },
  {
   "cell_type": "code",
   "execution_count": null,
   "id": "3440e6bd",
   "metadata": {},
   "outputs": [],
   "source": []
  },
  {
   "cell_type": "code",
   "execution_count": null,
   "id": "1cafe73f",
   "metadata": {},
   "outputs": [],
   "source": []
  }
 ],
 "metadata": {
  "kernelspec": {
   "display_name": "Python 3",
   "language": "python",
   "name": "python3"
  },
  "language_info": {
   "codemirror_mode": {
    "name": "ipython",
    "version": 3
   },
   "file_extension": ".py",
   "mimetype": "text/x-python",
   "name": "python",
   "nbconvert_exporter": "python",
   "pygments_lexer": "ipython3",
   "version": "3.8.10"
  }
 },
 "nbformat": 4,
 "nbformat_minor": 5
}
