{
 "cells": [
  {
   "cell_type": "code",
   "execution_count": 76,
   "id": "feb3220f",
   "metadata": {},
   "outputs": [],
   "source": [
    "import networkx as nx"
   ]
  },
  {
   "cell_type": "code",
   "execution_count": 90,
   "id": "df4a0709",
   "metadata": {},
   "outputs": [],
   "source": [
    "G = nx.Graph()"
   ]
  },
  {
   "cell_type": "code",
   "execution_count": 91,
   "id": "b55091bc",
   "metadata": {},
   "outputs": [],
   "source": [
    "G.add_node('A')\n",
    "G.add_node('B')\n",
    "G.add_node('C')\n",
    "G.add_node('D')\n",
    "G.add_node('F')\n",
    "G.add_node('G')\n",
    "G.add_node('H')\n",
    "G.add_node('J')\n",
    "G.add_node('K')\n",
    "G.add_node('I')\n",
    "G.add_node('M')\n",
    "G.add_node('N')"
   ]
  },
  {
   "cell_type": "code",
   "execution_count": 92,
   "id": "dc623534",
   "metadata": {},
   "outputs": [],
   "source": [
    "G.add_edge('A', 'B')\n",
    "G.add_edge('A', 'C')\n",
    "G.add_edge('A', 'D')\n",
    "G.add_edge('C', 'H')\n",
    "G.add_edge('C', 'J')\n",
    "G.add_edge('C', 'K')\n",
    "G.add_edge('B', 'I')\n",
    "G.add_edge('B', 'M')\n",
    "G.add_edge('B', 'N')\n",
    "G.add_edge('J', 'F')"
   ]
  },
  {
   "cell_type": "code",
   "execution_count": 93,
   "id": "bfc7c63f",
   "metadata": {},
   "outputs": [],
   "source": [
    "edges = list(G.edges())"
   ]
  },
  {
   "cell_type": "code",
   "execution_count": 94,
   "id": "7ab6ad95",
   "metadata": {},
   "outputs": [],
   "source": [
    "def neighbors_node(node='A'):\n",
    "    return [i[1] for i in edges if i[0]==node] + [i[0] for i in edges if i[1]==node]"
   ]
  },
  {
   "cell_type": "code",
   "execution_count": 95,
   "id": "5b343c1c",
   "metadata": {},
   "outputs": [],
   "source": [
    "from collections import deque, defaultdict\n",
    "def bfs_search(name):\n",
    "    dist=defaultdict()\n",
    "    search_queue = deque()\n",
    "    search_queue += neighbors_node(name)\n",
    "    searched = [name]\n",
    "    while search_queue:\n",
    "\n",
    "        person = search_queue.popleft()\n",
    "        # person = search_queue.pop() - в этои случае пойдет поиск в глубину\n",
    "\n",
    "        if person not in searched:\n",
    "\n",
    "            search_queue += neighbors_node(person)\n",
    "\n",
    "            searched.append(person)\n",
    "            \n",
    "    return searched"
   ]
  },
  {
   "cell_type": "code",
   "execution_count": 96,
   "id": "f45fa8c0",
   "metadata": {},
   "outputs": [],
   "source": [
    "#bfs_search('A')"
   ]
  },
  {
   "cell_type": "code",
   "execution_count": 97,
   "id": "ccdfd6e3",
   "metadata": {},
   "outputs": [],
   "source": [
    "def dfs_search_reqursive(name='A'):\n",
    "    global searched\n",
    "    searched.append(name)\n",
    "    neighbors = neighbors_node(name)\n",
    "    for i in neighbors:\n",
    "        #print(i)\n",
    "        if i not in searched:\n",
    "            dfs_search_reqursive(name=i)\n",
    "    return"
   ]
  },
  {
   "cell_type": "code",
   "execution_count": 102,
   "id": "1203a802",
   "metadata": {},
   "outputs": [
    {
     "data": {
      "image/png": "[encoded data removed]",
      "text/plain": [
       "<Figure size 432x288 with 1 Axes>"
      ]
     },
     "metadata": {},
     "output_type": "display_data"
    }
   ],
   "source": [
    "nx.draw_networkx(G)"
   ]
  },
  {
   "cell_type": "code",
   "execution_count": 98,
   "id": "98339cec",
   "metadata": {},
   "outputs": [],
   "source": [
    "searched = []\n",
    "dfs_search_reqursive(name='N')"
   ]
  },
  {
   "cell_type": "code",
   "execution_count": 99,
   "id": "f8dbd862",
   "metadata": {
    "scrolled": true
   },
   "outputs": [
    {
     "data": {
      "text/plain": [
       "['N', 'B', 'I', 'M', 'A', 'C', 'H', 'J', 'F', 'K', 'D']"
      ]
     },
     "execution_count": 99,
     "metadata": {},
     "output_type": "execute_result"
    }
   ],
   "source": [
    "searched"
   ]
  },
  {
   "cell_type": "code",
   "execution_count": null,
   "id": "6ce528f0",
   "metadata": {},
   "outputs": [],
   "source": []
  },
  {
   "cell_type": "code",
   "execution_count": null,
   "id": "4b0b92b1",
   "metadata": {},
   "outputs": [],
   "source": []
  },
  {
   "cell_type": "code",
   "execution_count": null,
   "id": "45555b15",
   "metadata": {},
   "outputs": [],
   "source": []
  },
  {
   "cell_type": "code",
   "execution_count": 100,
   "id": "a04b0b40",
   "metadata": {},
   "outputs": [],
   "source": [
    "def shortest_path_dijkstra(G, source):\n",
    "    dist = {source: 0}\n",
    "    queue = deque([source])\n",
    "    while queue:\n",
    "        node = queue.popleft()\n",
    "        new_dist = dist[node] + 1\n",
    "        neighbors = set(G[node]).difference(dist)\n",
    "        for n in neighbors:\n",
    "            dist[n] = new_dist\n",
    "        queue.extend(neighbors)\n",
    "    return dist"
   ]
  },
  {
   "cell_type": "code",
   "execution_count": 101,
   "id": "4613edc2",
   "metadata": {
    "collapsed": true
   },
   "outputs": [
    {
     "data": {
      "text/plain": [
       "{'A': 0,\n",
       " 'D': 1,\n",
       " 'C': 1,\n",
       " 'B': 1,\n",
       " 'K': 2,\n",
       " 'J': 2,\n",
       " 'H': 2,\n",
       " 'N': 2,\n",
       " 'I': 2,\n",
       " 'M': 2,\n",
       " 'F': 3}"
      ]
     },
     "execution_count": 101,
     "metadata": {},
     "output_type": "execute_result"
    }
   ],
   "source": [
    "shortest_path_dijkstra(G, 'A')"
   ]
  }
 ],
 "metadata": {
  "kernelspec": {
   "display_name": "Python 3",
   "language": "python",
   "name": "python3"
  },
  "language_info": {
   "codemirror_mode": {
    "name": "ipython",
    "version": 3
   },
   "file_extension": ".py",
   "mimetype": "text/x-python",
   "name": "python",
   "nbconvert_exporter": "python",
   "pygments_lexer": "ipython3",
   "version": "3.8.10"
  }
 },
 "nbformat": 4,
 "nbformat_minor": 5
}
