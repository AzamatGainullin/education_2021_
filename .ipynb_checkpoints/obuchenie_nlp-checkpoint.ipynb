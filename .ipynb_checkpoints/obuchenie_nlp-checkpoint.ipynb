{
 "cells": [
  {
   "cell_type": "markdown",
   "id": "4b57f132",
   "metadata": {},
   "source": [
    "# Непосредственно работа с mfd_ria_news.csv"
   ]
  },
  {
   "cell_type": "code",
   "execution_count": 19,
   "id": "65e45cfd",
   "metadata": {},
   "outputs": [],
   "source": [
    "import pandas as pd\n",
    "from nltk.tokenize import TreebankWordTokenizer\n",
    "from collections import Counter, defaultdict\n",
    "from nltk.util import ngrams\n",
    "import numpy as np"
   ]
  },
  {
   "cell_type": "code",
   "execution_count": 6,
   "id": "dc2b08ef",
   "metadata": {},
   "outputs": [],
   "source": [
    "df = pd.read_csv('./project/mfd_ria_news.csv', names=['news_date', 'news_text','url'])"
   ]
  },
  {
   "cell_type": "code",
   "execution_count": 70,
   "id": "b4990235",
   "metadata": {},
   "outputs": [
    {
     "data": {
      "text/html": [
       "<div>\n",
       "<style scoped>\n",
       "    .dataframe tbody tr th:only-of-type {\n",
       "        vertical-align: middle;\n",
       "    }\n",
       "\n",
       "    .dataframe tbody tr th {\n",
       "        vertical-align: top;\n",
       "    }\n",
       "\n",
       "    .dataframe thead th {\n",
       "        text-align: right;\n",
       "    }\n",
       "</style>\n",
       "<table border=\"1\" class=\"dataframe\">\n",
       "  <thead>\n",
       "    <tr style=\"text-align: right;\">\n",
       "      <th></th>\n",
       "      <th>news_date</th>\n",
       "      <th>news_text</th>\n",
       "      <th>url</th>\n",
       "      <th>column_with_tokens</th>\n",
       "      <th>three_grams</th>\n",
       "      <th>two_grams</th>\n",
       "    </tr>\n",
       "  </thead>\n",
       "  <tbody>\n",
       "    <tr>\n",
       "      <th>0</th>\n",
       "      <td>28.05.2021</td>\n",
       "      <td>МОСКВА, 28 мая - РИА Новости/Прайм. Мировые це...</td>\n",
       "      <td>https://mfd.ru/news/view/?id=2425835</td>\n",
       "      <td>[28, мая, Мировые, цены, на, нефть, растут, в,...</td>\n",
       "      <td>[(28, мая, Мировые), (мая, Мировые, цены), (Ми...</td>\n",
       "      <td>[(28, мая), (мая, Мировые), (Мировые, цены), (...</td>\n",
       "    </tr>\n",
       "    <tr>\n",
       "      <th>1</th>\n",
       "      <td>28.05.2021</td>\n",
       "      <td>МОСКВА, 28 мая - РИА Новости/Прайм. Средневзве...</td>\n",
       "      <td>https://mfd.ru/news/view/?id=2425675</td>\n",
       "      <td>[28, мая, Средневзвешенный, курс, доллара, к, ...</td>\n",
       "      <td>[(28, мая, Средневзвешенный), (мая, Средневзве...</td>\n",
       "      <td>[(28, мая), (мая, Средневзвешенный), (Средневз...</td>\n",
       "    </tr>\n",
       "    <tr>\n",
       "      <th>2</th>\n",
       "      <td>27.05.2021</td>\n",
       "      <td>МОСКВА, 27 мая - РИА Новости/Прайм, Сергей Аст...</td>\n",
       "      <td>https://mfd.ru/news/view/?id=2425520</td>\n",
       "      <td>[27, мая, Сергей, Астахов., Российский, рынок,...</td>\n",
       "      <td>[(27, мая, Сергей), (мая, Сергей, Астахов.), (...</td>\n",
       "      <td>[(27, мая), (мая, Сергей), (Сергей, Астахов.),...</td>\n",
       "    </tr>\n",
       "    <tr>\n",
       "      <th>3</th>\n",
       "      <td>27.05.2021</td>\n",
       "      <td>МОСКВА, 27 мая - РИА Новости/Прайм. Мировые це...</td>\n",
       "      <td>https://mfd.ru/news/view/?id=2425435</td>\n",
       "      <td>[27, мая, Мировые, цены, на, нефть, в, четверг...</td>\n",
       "      <td>[(27, мая, Мировые), (мая, Мировые, цены), (Ми...</td>\n",
       "      <td>[(27, мая), (мая, Мировые), (Мировые, цены), (...</td>\n",
       "    </tr>\n",
       "    <tr>\n",
       "      <th>4</th>\n",
       "      <td>26.05.2021</td>\n",
       "      <td>МОСКВА, 26 мая - РИА Новости/Прайм, Дмитрий Ма...</td>\n",
       "      <td>https://mfd.ru/news/view/?id=2425330</td>\n",
       "      <td>[26, мая, Дмитрий, Майоров., Рубль, вечером, м...</td>\n",
       "      <td>[(26, мая, Дмитрий), (мая, Дмитрий, Майоров.),...</td>\n",
       "      <td>[(26, мая), (мая, Дмитрий), (Дмитрий, Майоров....</td>\n",
       "    </tr>\n",
       "  </tbody>\n",
       "</table>\n",
       "</div>"
      ],
      "text/plain": [
       "    news_date                                          news_text  \\\n",
       "0  28.05.2021  МОСКВА, 28 мая - РИА Новости/Прайм. Мировые це...   \n",
       "1  28.05.2021  МОСКВА, 28 мая - РИА Новости/Прайм. Средневзве...   \n",
       "2  27.05.2021  МОСКВА, 27 мая - РИА Новости/Прайм, Сергей Аст...   \n",
       "3  27.05.2021  МОСКВА, 27 мая - РИА Новости/Прайм. Мировые це...   \n",
       "4  26.05.2021  МОСКВА, 26 мая - РИА Новости/Прайм, Дмитрий Ма...   \n",
       "\n",
       "                                    url  \\\n",
       "0  https://mfd.ru/news/view/?id=2425835   \n",
       "1  https://mfd.ru/news/view/?id=2425675   \n",
       "2  https://mfd.ru/news/view/?id=2425520   \n",
       "3  https://mfd.ru/news/view/?id=2425435   \n",
       "4  https://mfd.ru/news/view/?id=2425330   \n",
       "\n",
       "                                  column_with_tokens  \\\n",
       "0  [28, мая, Мировые, цены, на, нефть, растут, в,...   \n",
       "1  [28, мая, Средневзвешенный, курс, доллара, к, ...   \n",
       "2  [27, мая, Сергей, Астахов., Российский, рынок,...   \n",
       "3  [27, мая, Мировые, цены, на, нефть, в, четверг...   \n",
       "4  [26, мая, Дмитрий, Майоров., Рубль, вечером, м...   \n",
       "\n",
       "                                         three_grams  \\\n",
       "0  [(28, мая, Мировые), (мая, Мировые, цены), (Ми...   \n",
       "1  [(28, мая, Средневзвешенный), (мая, Средневзве...   \n",
       "2  [(27, мая, Сергей), (мая, Сергей, Астахов.), (...   \n",
       "3  [(27, мая, Мировые), (мая, Мировые, цены), (Ми...   \n",
       "4  [(26, мая, Дмитрий), (мая, Дмитрий, Майоров.),...   \n",
       "\n",
       "                                           two_grams  \n",
       "0  [(28, мая), (мая, Мировые), (Мировые, цены), (...  \n",
       "1  [(28, мая), (мая, Средневзвешенный), (Средневз...  \n",
       "2  [(27, мая), (мая, Сергей), (Сергей, Астахов.),...  \n",
       "3  [(27, мая), (мая, Мировые), (Мировые, цены), (...  \n",
       "4  [(26, мая), (мая, Дмитрий), (Дмитрий, Майоров....  "
      ]
     },
     "execution_count": 70,
     "metadata": {},
     "output_type": "execute_result"
    }
   ],
   "source": [
    "df.head()"
   ]
  },
  {
   "cell_type": "code",
   "execution_count": 8,
   "id": "f3af8aa4",
   "metadata": {},
   "outputs": [
    {
     "data": {
      "text/plain": [
       "'МОСКВА, 28 мая - РИА Новости/Прайм. Средневзвешенный курс доллара к рублю расчетами \"завтра\" на единой торговой сессии (ЕТС) Московской биржи, по которому устанавливается официальный курс ЦБ, на 11.30 мск пятницы вырос на 12,90 копейки, составив 73,5870 рубля, свидетельствуют данные биржи\\u200b\\u200b\\u200b.   В четверг средневзвешенный курс доллара составлял 73,4580 рубля за доллар.'"
      ]
     },
     "execution_count": 8,
     "metadata": {},
     "output_type": "execute_result"
    }
   ],
   "source": [
    "df.news_text[1][:-169]"
   ]
  },
  {
   "cell_type": "code",
   "execution_count": 5,
   "id": "fde2b84b",
   "metadata": {},
   "outputs": [],
   "source": [
    "def get_tokens(sentence):\n",
    "    sentence = sentence[:-169]\n",
    "    tokenizer = TreebankWordTokenizer()\n",
    "    sentence = tokenizer.tokenize(sentence)\n",
    "    new_sentence = [x for x in sentence if x and x not in '- \\t\\n.,;:!?(—)/©' \\\n",
    "                    and x not in ['ria.ru', 'РИА', 'Новости', 'МОСКВА', 'Новости/Прайм', '``', \"''\", 'Новости/Прайм.']]\n",
    "    return new_sentence"
   ]
  },
  {
   "cell_type": "code",
   "execution_count": 9,
   "id": "089f759f",
   "metadata": {},
   "outputs": [],
   "source": [
    "df['column_with_tokens'] = df.news_text.apply(get_tokens)"
   ]
  },
  {
   "cell_type": "code",
   "execution_count": 16,
   "id": "e2d3f931",
   "metadata": {},
   "outputs": [],
   "source": [
    "def get_counter_for_column_with_tokens(column_with_tokens=df['column_with_tokens']):\n",
    "    spisok = []\n",
    "    for article in column_with_tokens:\n",
    "        spisok = spisok + article\n",
    "    return Counter(spisok)"
   ]
  },
  {
   "cell_type": "code",
   "execution_count": null,
   "id": "5e10ff1c",
   "metadata": {},
   "outputs": [],
   "source": [
    "count = get_counter_for_column_with_tokens(column_with_tokens=df['column_with_tokens'])"
   ]
  },
  {
   "cell_type": "code",
   "execution_count": 29,
   "id": "e24ec981",
   "metadata": {
    "collapsed": true
   },
   "outputs": [
    {
     "ename": "NameError",
     "evalue": "name 'count' is not defined",
     "output_type": "error",
     "traceback": [
      "\u001b[0;31m---------------------------------------------------------------------------\u001b[0m",
      "\u001b[0;31mNameError\u001b[0m                                 Traceback (most recent call last)",
      "\u001b[0;32m<ipython-input-29-909da248629e>\u001b[0m in \u001b[0;36m<module>\u001b[0;34m\u001b[0m\n\u001b[0;32m----> 1\u001b[0;31m \u001b[0mcount\u001b[0m\u001b[0;34m.\u001b[0m\u001b[0mmost_common\u001b[0m\u001b[0;34m(\u001b[0m\u001b[0;36m50000\u001b[0m\u001b[0;34m)\u001b[0m\u001b[0;34m[\u001b[0m\u001b[0;36m49980\u001b[0m\u001b[0;34m:\u001b[0m\u001b[0;36m49999\u001b[0m\u001b[0;34m]\u001b[0m\u001b[0;34m\u001b[0m\u001b[0;34m\u001b[0m\u001b[0m\n\u001b[0m",
      "\u001b[0;31mNameError\u001b[0m: name 'count' is not defined"
     ]
    }
   ],
   "source": [
    "count.most_common(50000)[49980:49999]"
   ]
  },
  {
   "cell_type": "code",
   "execution_count": 33,
   "id": "c63e97e8",
   "metadata": {
    "scrolled": false
   },
   "outputs": [
    {
     "data": {
      "text/plain": [
       "67838"
      ]
     },
     "execution_count": 33,
     "metadata": {},
     "output_type": "execute_result"
    }
   ],
   "source": [
    "len(sorted(count)) # - число уникальных слов/токенов"
   ]
  },
  {
   "cell_type": "markdown",
   "id": "8972d091",
   "metadata": {},
   "source": [
    "### Думаю, что слова которые встречаются менее 10 раз (а это отсекается на уровне уже 8 тыс.слов), имеет смысл удалить. Информативности ноль, если ты встретился в 4 тыс. статьях лишь 10 раз. Пока думаю так, чтобы уменьшить словарь с 67 тыс. слов до 8 тыс."
   ]
  },
  {
   "cell_type": "code",
   "execution_count": 24,
   "id": "38c87681",
   "metadata": {},
   "outputs": [],
   "source": [
    "df['three_grams'] = df['column_with_tokens'].apply(lambda x: list(ngrams(x, 3)))"
   ]
  },
  {
   "cell_type": "code",
   "execution_count": 51,
   "id": "aea155e4",
   "metadata": {},
   "outputs": [],
   "source": [
    "df['two_grams'] = df['column_with_tokens'].apply(lambda x: list(ngrams(x, 2)))"
   ]
  },
  {
   "cell_type": "code",
   "execution_count": 59,
   "id": "f90f95e7",
   "metadata": {},
   "outputs": [],
   "source": [
    "c = []\n",
    "for item in df['three_grams']:\n",
    "    c = c + item"
   ]
  },
  {
   "cell_type": "code",
   "execution_count": 60,
   "id": "3842fb8b",
   "metadata": {},
   "outputs": [],
   "source": [
    "count_three_grams = Counter(c)"
   ]
  },
  {
   "cell_type": "code",
   "execution_count": 69,
   "id": "0087acc1",
   "metadata": {},
   "outputs": [
    {
     "data": {
      "text/plain": [
       "[(('доллара', 'за', 'баррель'), 1734),\n",
       " (('на', 'нефть', 'марки'), 1282),\n",
       " (('следует', 'из', 'данных'), 1263),\n",
       " (('доллара', 'расчетами', 'завтра'), 1258),\n",
       " (('рубля', 'курс', 'евро'), 1074),\n",
       " (('долларов', 'за', 'баррель'), 1000),\n",
       " (('цены', 'на', 'нефть'), 907),\n",
       " (('из', 'данных', 'Московской'), 882),\n",
       " (('рубля', 'следует', 'из'), 840),\n",
       " (('торгов.По', 'состоянию', 'на'), 826)]"
      ]
     },
     "execution_count": 69,
     "metadata": {},
     "output_type": "execute_result"
    }
   ],
   "source": [
    "count_three_grams.most_common(10)"
   ]
  },
  {
   "cell_type": "code",
   "execution_count": null,
   "id": "57de756e",
   "metadata": {},
   "outputs": [],
   "source": []
  },
  {
   "cell_type": "code",
   "execution_count": null,
   "id": "879e4144",
   "metadata": {},
   "outputs": [],
   "source": []
  },
  {
   "cell_type": "code",
   "execution_count": null,
   "id": "3575954d",
   "metadata": {},
   "outputs": [],
   "source": []
  },
  {
   "cell_type": "code",
   "execution_count": null,
   "id": "b3164e2d",
   "metadata": {},
   "outputs": [],
   "source": []
  },
  {
   "cell_type": "code",
   "execution_count": null,
   "id": "2ef84738",
   "metadata": {},
   "outputs": [],
   "source": []
  },
  {
   "cell_type": "code",
   "execution_count": null,
   "id": "cfd24f45",
   "metadata": {},
   "outputs": [],
   "source": []
  },
  {
   "cell_type": "code",
   "execution_count": null,
   "id": "b4ccd22b",
   "metadata": {},
   "outputs": [],
   "source": []
  },
  {
   "cell_type": "code",
   "execution_count": null,
   "id": "ee4752f8",
   "metadata": {},
   "outputs": [],
   "source": []
  },
  {
   "cell_type": "code",
   "execution_count": null,
   "id": "29e3d41a",
   "metadata": {},
   "outputs": [],
   "source": []
  },
  {
   "cell_type": "code",
   "execution_count": null,
   "id": "eb7aca9c",
   "metadata": {},
   "outputs": [],
   "source": []
  },
  {
   "cell_type": "code",
   "execution_count": null,
   "id": "81032654",
   "metadata": {},
   "outputs": [],
   "source": []
  },
  {
   "cell_type": "code",
   "execution_count": null,
   "id": "aa367422",
   "metadata": {},
   "outputs": [],
   "source": []
  },
  {
   "cell_type": "code",
   "execution_count": null,
   "id": "cb7a0550",
   "metadata": {},
   "outputs": [],
   "source": []
  },
  {
   "cell_type": "markdown",
   "id": "451e0718",
   "metadata": {},
   "source": [
    "# С помощью регулярных выражений можно делать простые выделители смыслов по условию if ... else..."
   ]
  },
  {
   "cell_type": "code",
   "execution_count": 1,
   "id": "31cc38b9",
   "metadata": {},
   "outputs": [],
   "source": [
    "import re"
   ]
  },
  {
   "cell_type": "code",
   "execution_count": 2,
   "id": "969292c9",
   "metadata": {},
   "outputs": [],
   "source": [
    "r = '(hi|hello|hey)[]*([a-z]*)'"
   ]
  },
  {
   "cell_type": "code",
   "execution_count": 3,
   "id": "b6e718aa",
   "metadata": {},
   "outputs": [],
   "source": [
    "from itertools import permutations"
   ]
  },
  {
   "cell_type": "code",
   "execution_count": 4,
   "id": "48f0a0ff",
   "metadata": {
    "scrolled": true
   },
   "outputs": [
    {
     "data": {
      "text/plain": [
       "[('Good', 'morning', 'Rosa!'),\n",
       " ('Good', 'Rosa!', 'morning'),\n",
       " ('morning', 'Good', 'Rosa!'),\n",
       " ('morning', 'Rosa!', 'Good'),\n",
       " ('Rosa!', 'Good', 'morning'),\n",
       " ('Rosa!', 'morning', 'Good')]"
      ]
     },
     "execution_count": 4,
     "metadata": {},
     "output_type": "execute_result"
    }
   ],
   "source": [
    "list(permutations('Good morning Rosa!'.split(), 3))"
   ]
  },
  {
   "cell_type": "markdown",
   "id": "8b9fe11d",
   "metadata": {},
   "source": [
    "# Токенизация"
   ]
  },
  {
   "cell_type": "code",
   "execution_count": 1,
   "id": "a404c304",
   "metadata": {},
   "outputs": [],
   "source": [
    "sentence = 'Thomas Jefferson began building Monticello at the age of 26.'"
   ]
  },
  {
   "cell_type": "code",
   "execution_count": 2,
   "id": "bf25c287",
   "metadata": {
    "scrolled": true
   },
   "outputs": [
    {
     "data": {
      "text/plain": [
       "['Thomas',\n",
       " 'Jefferson',\n",
       " 'began',\n",
       " 'building',\n",
       " 'Monticello',\n",
       " 'at',\n",
       " 'the',\n",
       " 'age',\n",
       " 'of',\n",
       " '26.']"
      ]
     },
     "execution_count": 2,
     "metadata": {},
     "output_type": "execute_result"
    }
   ],
   "source": [
    "sentence.split()"
   ]
  },
  {
   "cell_type": "code",
   "execution_count": 3,
   "id": "34a913e1",
   "metadata": {},
   "outputs": [],
   "source": [
    "import numpy as np"
   ]
  },
  {
   "cell_type": "code",
   "execution_count": 4,
   "id": "36a1b20f",
   "metadata": {},
   "outputs": [],
   "source": [
    "token_sequense = str.split(sentence)"
   ]
  },
  {
   "cell_type": "code",
   "execution_count": 5,
   "id": "7edd3fc8",
   "metadata": {},
   "outputs": [],
   "source": [
    "vocab = sorted(set(token_sequense))"
   ]
  },
  {
   "cell_type": "code",
   "execution_count": 6,
   "id": "df526eaf",
   "metadata": {},
   "outputs": [
    {
     "data": {
      "text/plain": [
       "['26.',\n",
       " 'Jefferson',\n",
       " 'Monticello',\n",
       " 'Thomas',\n",
       " 'age',\n",
       " 'at',\n",
       " 'began',\n",
       " 'building',\n",
       " 'of',\n",
       " 'the']"
      ]
     },
     "execution_count": 6,
     "metadata": {},
     "output_type": "execute_result"
    }
   ],
   "source": [
    "vocab"
   ]
  },
  {
   "cell_type": "code",
   "execution_count": 7,
   "id": "21af5c33",
   "metadata": {},
   "outputs": [
    {
     "data": {
      "text/plain": [
       "'26., Jefferson, Monticello, Thomas, age, at, began, building, of, the'"
      ]
     },
     "execution_count": 7,
     "metadata": {},
     "output_type": "execute_result"
    }
   ],
   "source": [
    "', '.join(vocab)"
   ]
  },
  {
   "cell_type": "code",
   "execution_count": 8,
   "id": "19564e46",
   "metadata": {},
   "outputs": [],
   "source": [
    "num_tokens = len(token_sequense)"
   ]
  },
  {
   "cell_type": "code",
   "execution_count": 9,
   "id": "40344829",
   "metadata": {},
   "outputs": [],
   "source": [
    "vocab_size = len(vocab)"
   ]
  },
  {
   "cell_type": "code",
   "execution_count": 10,
   "id": "a82353a1",
   "metadata": {},
   "outputs": [],
   "source": [
    "onehot_vectors = np.zeros((num_tokens, vocab_size), int)"
   ]
  },
  {
   "cell_type": "code",
   "execution_count": 11,
   "id": "a5b9ed9a",
   "metadata": {
    "scrolled": true
   },
   "outputs": [
    {
     "data": {
      "text/plain": [
       "array([[0, 0, 0, 0, 0, 0, 0, 0, 0, 0],\n",
       "       [0, 0, 0, 0, 0, 0, 0, 0, 0, 0],\n",
       "       [0, 0, 0, 0, 0, 0, 0, 0, 0, 0],\n",
       "       [0, 0, 0, 0, 0, 0, 0, 0, 0, 0],\n",
       "       [0, 0, 0, 0, 0, 0, 0, 0, 0, 0],\n",
       "       [0, 0, 0, 0, 0, 0, 0, 0, 0, 0],\n",
       "       [0, 0, 0, 0, 0, 0, 0, 0, 0, 0],\n",
       "       [0, 0, 0, 0, 0, 0, 0, 0, 0, 0],\n",
       "       [0, 0, 0, 0, 0, 0, 0, 0, 0, 0],\n",
       "       [0, 0, 0, 0, 0, 0, 0, 0, 0, 0]])"
      ]
     },
     "execution_count": 11,
     "metadata": {},
     "output_type": "execute_result"
    }
   ],
   "source": [
    "onehot_vectors"
   ]
  },
  {
   "cell_type": "code",
   "execution_count": 12,
   "id": "d359fcdf",
   "metadata": {},
   "outputs": [],
   "source": [
    "for i, word in enumerate(token_sequense):\n",
    "    onehot_vectors[i, vocab.index(word)]=1"
   ]
  },
  {
   "cell_type": "code",
   "execution_count": 13,
   "id": "0096f7d6",
   "metadata": {},
   "outputs": [
    {
     "data": {
      "text/plain": [
       "array([[0, 0, 0, 1, 0, 0, 0, 0, 0, 0],\n",
       "       [0, 1, 0, 0, 0, 0, 0, 0, 0, 0],\n",
       "       [0, 0, 0, 0, 0, 0, 1, 0, 0, 0],\n",
       "       [0, 0, 0, 0, 0, 0, 0, 1, 0, 0],\n",
       "       [0, 0, 1, 0, 0, 0, 0, 0, 0, 0],\n",
       "       [0, 0, 0, 0, 0, 1, 0, 0, 0, 0],\n",
       "       [0, 0, 0, 0, 0, 0, 0, 0, 0, 1],\n",
       "       [0, 0, 0, 0, 1, 0, 0, 0, 0, 0],\n",
       "       [0, 0, 0, 0, 0, 0, 0, 0, 1, 0],\n",
       "       [1, 0, 0, 0, 0, 0, 0, 0, 0, 0]])"
      ]
     },
     "execution_count": 13,
     "metadata": {},
     "output_type": "execute_result"
    }
   ],
   "source": [
    "onehot_vectors"
   ]
  },
  {
   "cell_type": "code",
   "execution_count": 14,
   "id": "3bb383d7",
   "metadata": {},
   "outputs": [
    {
     "data": {
      "text/plain": [
       "'26. Jefferson Monticello Thomas age at began building of the'"
      ]
     },
     "execution_count": 14,
     "metadata": {},
     "output_type": "execute_result"
    }
   ],
   "source": [
    "' '.join(vocab)"
   ]
  },
  {
   "cell_type": "code",
   "execution_count": 15,
   "id": "705cb3b9",
   "metadata": {},
   "outputs": [],
   "source": [
    "import pandas as pd"
   ]
  },
  {
   "cell_type": "code",
   "execution_count": 16,
   "id": "1e30693e",
   "metadata": {},
   "outputs": [
    {
     "data": {
      "text/html": [
       "<div>\n",
       "<style scoped>\n",
       "    .dataframe tbody tr th:only-of-type {\n",
       "        vertical-align: middle;\n",
       "    }\n",
       "\n",
       "    .dataframe tbody tr th {\n",
       "        vertical-align: top;\n",
       "    }\n",
       "\n",
       "    .dataframe thead th {\n",
       "        text-align: right;\n",
       "    }\n",
       "</style>\n",
       "<table border=\"1\" class=\"dataframe\">\n",
       "  <thead>\n",
       "    <tr style=\"text-align: right;\">\n",
       "      <th></th>\n",
       "      <th>26.</th>\n",
       "      <th>Jefferson</th>\n",
       "      <th>Monticello</th>\n",
       "      <th>Thomas</th>\n",
       "      <th>age</th>\n",
       "      <th>at</th>\n",
       "      <th>began</th>\n",
       "      <th>building</th>\n",
       "      <th>of</th>\n",
       "      <th>the</th>\n",
       "    </tr>\n",
       "  </thead>\n",
       "  <tbody>\n",
       "    <tr>\n",
       "      <th>0</th>\n",
       "      <td>0</td>\n",
       "      <td>0</td>\n",
       "      <td>0</td>\n",
       "      <td>1</td>\n",
       "      <td>0</td>\n",
       "      <td>0</td>\n",
       "      <td>0</td>\n",
       "      <td>0</td>\n",
       "      <td>0</td>\n",
       "      <td>0</td>\n",
       "    </tr>\n",
       "    <tr>\n",
       "      <th>1</th>\n",
       "      <td>0</td>\n",
       "      <td>1</td>\n",
       "      <td>0</td>\n",
       "      <td>0</td>\n",
       "      <td>0</td>\n",
       "      <td>0</td>\n",
       "      <td>0</td>\n",
       "      <td>0</td>\n",
       "      <td>0</td>\n",
       "      <td>0</td>\n",
       "    </tr>\n",
       "    <tr>\n",
       "      <th>2</th>\n",
       "      <td>0</td>\n",
       "      <td>0</td>\n",
       "      <td>0</td>\n",
       "      <td>0</td>\n",
       "      <td>0</td>\n",
       "      <td>0</td>\n",
       "      <td>1</td>\n",
       "      <td>0</td>\n",
       "      <td>0</td>\n",
       "      <td>0</td>\n",
       "    </tr>\n",
       "    <tr>\n",
       "      <th>3</th>\n",
       "      <td>0</td>\n",
       "      <td>0</td>\n",
       "      <td>0</td>\n",
       "      <td>0</td>\n",
       "      <td>0</td>\n",
       "      <td>0</td>\n",
       "      <td>0</td>\n",
       "      <td>1</td>\n",
       "      <td>0</td>\n",
       "      <td>0</td>\n",
       "    </tr>\n",
       "    <tr>\n",
       "      <th>4</th>\n",
       "      <td>0</td>\n",
       "      <td>0</td>\n",
       "      <td>1</td>\n",
       "      <td>0</td>\n",
       "      <td>0</td>\n",
       "      <td>0</td>\n",
       "      <td>0</td>\n",
       "      <td>0</td>\n",
       "      <td>0</td>\n",
       "      <td>0</td>\n",
       "    </tr>\n",
       "    <tr>\n",
       "      <th>5</th>\n",
       "      <td>0</td>\n",
       "      <td>0</td>\n",
       "      <td>0</td>\n",
       "      <td>0</td>\n",
       "      <td>0</td>\n",
       "      <td>1</td>\n",
       "      <td>0</td>\n",
       "      <td>0</td>\n",
       "      <td>0</td>\n",
       "      <td>0</td>\n",
       "    </tr>\n",
       "    <tr>\n",
       "      <th>6</th>\n",
       "      <td>0</td>\n",
       "      <td>0</td>\n",
       "      <td>0</td>\n",
       "      <td>0</td>\n",
       "      <td>0</td>\n",
       "      <td>0</td>\n",
       "      <td>0</td>\n",
       "      <td>0</td>\n",
       "      <td>0</td>\n",
       "      <td>1</td>\n",
       "    </tr>\n",
       "    <tr>\n",
       "      <th>7</th>\n",
       "      <td>0</td>\n",
       "      <td>0</td>\n",
       "      <td>0</td>\n",
       "      <td>0</td>\n",
       "      <td>1</td>\n",
       "      <td>0</td>\n",
       "      <td>0</td>\n",
       "      <td>0</td>\n",
       "      <td>0</td>\n",
       "      <td>0</td>\n",
       "    </tr>\n",
       "    <tr>\n",
       "      <th>8</th>\n",
       "      <td>0</td>\n",
       "      <td>0</td>\n",
       "      <td>0</td>\n",
       "      <td>0</td>\n",
       "      <td>0</td>\n",
       "      <td>0</td>\n",
       "      <td>0</td>\n",
       "      <td>0</td>\n",
       "      <td>1</td>\n",
       "      <td>0</td>\n",
       "    </tr>\n",
       "    <tr>\n",
       "      <th>9</th>\n",
       "      <td>1</td>\n",
       "      <td>0</td>\n",
       "      <td>0</td>\n",
       "      <td>0</td>\n",
       "      <td>0</td>\n",
       "      <td>0</td>\n",
       "      <td>0</td>\n",
       "      <td>0</td>\n",
       "      <td>0</td>\n",
       "      <td>0</td>\n",
       "    </tr>\n",
       "  </tbody>\n",
       "</table>\n",
       "</div>"
      ],
      "text/plain": [
       "   26.  Jefferson  Monticello  Thomas  age  at  began  building  of  the\n",
       "0    0          0           0       1    0   0      0         0   0    0\n",
       "1    0          1           0       0    0   0      0         0   0    0\n",
       "2    0          0           0       0    0   0      1         0   0    0\n",
       "3    0          0           0       0    0   0      0         1   0    0\n",
       "4    0          0           1       0    0   0      0         0   0    0\n",
       "5    0          0           0       0    0   1      0         0   0    0\n",
       "6    0          0           0       0    0   0      0         0   0    1\n",
       "7    0          0           0       0    1   0      0         0   0    0\n",
       "8    0          0           0       0    0   0      0         0   1    0\n",
       "9    1          0           0       0    0   0      0         0   0    0"
      ]
     },
     "execution_count": 16,
     "metadata": {},
     "output_type": "execute_result"
    }
   ],
   "source": [
    "pd.DataFrame(onehot_vectors, columns=vocab)"
   ]
  },
  {
   "cell_type": "code",
   "execution_count": 17,
   "id": "bf0bbf71",
   "metadata": {},
   "outputs": [],
   "source": [
    "df = pd.DataFrame(onehot_vectors, columns=vocab)"
   ]
  },
  {
   "cell_type": "code",
   "execution_count": 18,
   "id": "b751acef",
   "metadata": {},
   "outputs": [],
   "source": [
    "df[df == 0] = ''"
   ]
  },
  {
   "cell_type": "code",
   "execution_count": 19,
   "id": "2529b9e4",
   "metadata": {},
   "outputs": [
    {
     "data": {
      "text/html": [
       "<div>\n",
       "<style scoped>\n",
       "    .dataframe tbody tr th:only-of-type {\n",
       "        vertical-align: middle;\n",
       "    }\n",
       "\n",
       "    .dataframe tbody tr th {\n",
       "        vertical-align: top;\n",
       "    }\n",
       "\n",
       "    .dataframe thead th {\n",
       "        text-align: right;\n",
       "    }\n",
       "</style>\n",
       "<table border=\"1\" class=\"dataframe\">\n",
       "  <thead>\n",
       "    <tr style=\"text-align: right;\">\n",
       "      <th></th>\n",
       "      <th>26.</th>\n",
       "      <th>Jefferson</th>\n",
       "      <th>Monticello</th>\n",
       "      <th>Thomas</th>\n",
       "      <th>age</th>\n",
       "      <th>at</th>\n",
       "      <th>began</th>\n",
       "      <th>building</th>\n",
       "      <th>of</th>\n",
       "      <th>the</th>\n",
       "    </tr>\n",
       "  </thead>\n",
       "  <tbody>\n",
       "    <tr>\n",
       "      <th>0</th>\n",
       "      <td></td>\n",
       "      <td></td>\n",
       "      <td></td>\n",
       "      <td>1</td>\n",
       "      <td></td>\n",
       "      <td></td>\n",
       "      <td></td>\n",
       "      <td></td>\n",
       "      <td></td>\n",
       "      <td></td>\n",
       "    </tr>\n",
       "    <tr>\n",
       "      <th>1</th>\n",
       "      <td></td>\n",
       "      <td>1</td>\n",
       "      <td></td>\n",
       "      <td></td>\n",
       "      <td></td>\n",
       "      <td></td>\n",
       "      <td></td>\n",
       "      <td></td>\n",
       "      <td></td>\n",
       "      <td></td>\n",
       "    </tr>\n",
       "    <tr>\n",
       "      <th>2</th>\n",
       "      <td></td>\n",
       "      <td></td>\n",
       "      <td></td>\n",
       "      <td></td>\n",
       "      <td></td>\n",
       "      <td></td>\n",
       "      <td>1</td>\n",
       "      <td></td>\n",
       "      <td></td>\n",
       "      <td></td>\n",
       "    </tr>\n",
       "    <tr>\n",
       "      <th>3</th>\n",
       "      <td></td>\n",
       "      <td></td>\n",
       "      <td></td>\n",
       "      <td></td>\n",
       "      <td></td>\n",
       "      <td></td>\n",
       "      <td></td>\n",
       "      <td>1</td>\n",
       "      <td></td>\n",
       "      <td></td>\n",
       "    </tr>\n",
       "    <tr>\n",
       "      <th>4</th>\n",
       "      <td></td>\n",
       "      <td></td>\n",
       "      <td>1</td>\n",
       "      <td></td>\n",
       "      <td></td>\n",
       "      <td></td>\n",
       "      <td></td>\n",
       "      <td></td>\n",
       "      <td></td>\n",
       "      <td></td>\n",
       "    </tr>\n",
       "    <tr>\n",
       "      <th>5</th>\n",
       "      <td></td>\n",
       "      <td></td>\n",
       "      <td></td>\n",
       "      <td></td>\n",
       "      <td></td>\n",
       "      <td>1</td>\n",
       "      <td></td>\n",
       "      <td></td>\n",
       "      <td></td>\n",
       "      <td></td>\n",
       "    </tr>\n",
       "    <tr>\n",
       "      <th>6</th>\n",
       "      <td></td>\n",
       "      <td></td>\n",
       "      <td></td>\n",
       "      <td></td>\n",
       "      <td></td>\n",
       "      <td></td>\n",
       "      <td></td>\n",
       "      <td></td>\n",
       "      <td></td>\n",
       "      <td>1</td>\n",
       "    </tr>\n",
       "    <tr>\n",
       "      <th>7</th>\n",
       "      <td></td>\n",
       "      <td></td>\n",
       "      <td></td>\n",
       "      <td></td>\n",
       "      <td>1</td>\n",
       "      <td></td>\n",
       "      <td></td>\n",
       "      <td></td>\n",
       "      <td></td>\n",
       "      <td></td>\n",
       "    </tr>\n",
       "    <tr>\n",
       "      <th>8</th>\n",
       "      <td></td>\n",
       "      <td></td>\n",
       "      <td></td>\n",
       "      <td></td>\n",
       "      <td></td>\n",
       "      <td></td>\n",
       "      <td></td>\n",
       "      <td></td>\n",
       "      <td>1</td>\n",
       "      <td></td>\n",
       "    </tr>\n",
       "    <tr>\n",
       "      <th>9</th>\n",
       "      <td>1</td>\n",
       "      <td></td>\n",
       "      <td></td>\n",
       "      <td></td>\n",
       "      <td></td>\n",
       "      <td></td>\n",
       "      <td></td>\n",
       "      <td></td>\n",
       "      <td></td>\n",
       "      <td></td>\n",
       "    </tr>\n",
       "  </tbody>\n",
       "</table>\n",
       "</div>"
      ],
      "text/plain": [
       "  26. Jefferson Monticello Thomas age at began building of the\n",
       "0                               1                             \n",
       "1             1                                               \n",
       "2                                            1                \n",
       "3                                                     1       \n",
       "4                        1                                    \n",
       "5                                      1                      \n",
       "6                                                            1\n",
       "7                                   1                         \n",
       "8                                                        1    \n",
       "9   1                                                         "
      ]
     },
     "execution_count": 19,
     "metadata": {},
     "output_type": "execute_result"
    }
   ],
   "source": [
    "df"
   ]
  },
  {
   "cell_type": "code",
   "execution_count": 20,
   "id": "ab410403",
   "metadata": {},
   "outputs": [
    {
     "data": {
      "text/plain": [
       "[('26.', 1),\n",
       " ('Jefferson', 1),\n",
       " ('Monticello', 1),\n",
       " ('Thomas', 1),\n",
       " ('age', 1),\n",
       " ('at', 1),\n",
       " ('began', 1),\n",
       " ('building', 1),\n",
       " ('of', 1),\n",
       " ('the', 1)]"
      ]
     },
     "execution_count": 20,
     "metadata": {},
     "output_type": "execute_result"
    }
   ],
   "source": [
    "sentence_bow = {}\n",
    "for token in sentence.split():\n",
    "    sentence_bow[token] = 1\n",
    "sorted(sentence_bow.items())"
   ]
  },
  {
   "cell_type": "code",
   "execution_count": 21,
   "id": "427e5e66",
   "metadata": {},
   "outputs": [],
   "source": [
    "import pandas as pd\n",
    "df = pd.DataFrame(pd.Series(dict([(token, 1) for token in sentence.split()])), columns=['sent']).T"
   ]
  },
  {
   "cell_type": "code",
   "execution_count": 22,
   "id": "9880f351",
   "metadata": {},
   "outputs": [
    {
     "data": {
      "text/html": [
       "<div>\n",
       "<style scoped>\n",
       "    .dataframe tbody tr th:only-of-type {\n",
       "        vertical-align: middle;\n",
       "    }\n",
       "\n",
       "    .dataframe tbody tr th {\n",
       "        vertical-align: top;\n",
       "    }\n",
       "\n",
       "    .dataframe thead th {\n",
       "        text-align: right;\n",
       "    }\n",
       "</style>\n",
       "<table border=\"1\" class=\"dataframe\">\n",
       "  <thead>\n",
       "    <tr style=\"text-align: right;\">\n",
       "      <th></th>\n",
       "      <th>Thomas</th>\n",
       "      <th>Jefferson</th>\n",
       "      <th>began</th>\n",
       "      <th>building</th>\n",
       "      <th>Monticello</th>\n",
       "      <th>at</th>\n",
       "      <th>the</th>\n",
       "      <th>age</th>\n",
       "      <th>of</th>\n",
       "      <th>26.</th>\n",
       "    </tr>\n",
       "  </thead>\n",
       "  <tbody>\n",
       "    <tr>\n",
       "      <th>sent</th>\n",
       "      <td>1</td>\n",
       "      <td>1</td>\n",
       "      <td>1</td>\n",
       "      <td>1</td>\n",
       "      <td>1</td>\n",
       "      <td>1</td>\n",
       "      <td>1</td>\n",
       "      <td>1</td>\n",
       "      <td>1</td>\n",
       "      <td>1</td>\n",
       "    </tr>\n",
       "  </tbody>\n",
       "</table>\n",
       "</div>"
      ],
      "text/plain": [
       "      Thomas  Jefferson  began  building  Monticello  at  the  age  of  26.\n",
       "sent       1          1      1         1           1   1    1    1   1    1"
      ]
     },
     "execution_count": 22,
     "metadata": {},
     "output_type": "execute_result"
    }
   ],
   "source": [
    "df"
   ]
  },
  {
   "cell_type": "code",
   "execution_count": 34,
   "id": "cf3f72ec",
   "metadata": {},
   "outputs": [],
   "source": [
    "sentences = 'Thomas Jefferson began building Monticello at the\\\n",
    "age of 26.\\n'"
   ]
  },
  {
   "cell_type": "code",
   "execution_count": 36,
   "id": "b2c5dab3",
   "metadata": {},
   "outputs": [],
   "source": [
    "sentences+='Construction was done mostly by local masons and carpenters.\\n'"
   ]
  },
  {
   "cell_type": "code",
   "execution_count": 37,
   "id": "ab43e718",
   "metadata": {},
   "outputs": [],
   "source": [
    "sentences+='He moved in to the South Pavilion in 1770.\\n'"
   ]
  },
  {
   "cell_type": "code",
   "execution_count": 38,
   "id": "339aa676",
   "metadata": {},
   "outputs": [],
   "source": [
    "sentences+=\"Turning Monticello into neoclassical masterpiece was Jefferson's obsession\""
   ]
  },
  {
   "cell_type": "code",
   "execution_count": 39,
   "id": "2489378c",
   "metadata": {},
   "outputs": [],
   "source": [
    "corpus = {}"
   ]
  },
  {
   "cell_type": "code",
   "execution_count": 40,
   "id": "4ed30444",
   "metadata": {},
   "outputs": [],
   "source": [
    "for i, sent in enumerate(sentences.split('\\n')):\n",
    "    corpus['sent{}'.format(i)] = dict((tok, 1) for tok in sent.split())"
   ]
  },
  {
   "cell_type": "code",
   "execution_count": 41,
   "id": "cf85c60f",
   "metadata": {},
   "outputs": [],
   "source": [
    "df = pd.DataFrame.from_records(corpus).fillna(0).astype(int).T"
   ]
  },
  {
   "cell_type": "code",
   "execution_count": 42,
   "id": "daf55f56",
   "metadata": {},
   "outputs": [
    {
     "data": {
      "text/html": [
       "<div>\n",
       "<style scoped>\n",
       "    .dataframe tbody tr th:only-of-type {\n",
       "        vertical-align: middle;\n",
       "    }\n",
       "\n",
       "    .dataframe tbody tr th {\n",
       "        vertical-align: top;\n",
       "    }\n",
       "\n",
       "    .dataframe thead th {\n",
       "        text-align: right;\n",
       "    }\n",
       "</style>\n",
       "<table border=\"1\" class=\"dataframe\">\n",
       "  <thead>\n",
       "    <tr style=\"text-align: right;\">\n",
       "      <th></th>\n",
       "      <th>Thomas</th>\n",
       "      <th>Jefferson</th>\n",
       "      <th>began</th>\n",
       "      <th>building</th>\n",
       "      <th>Monticello</th>\n",
       "      <th>at</th>\n",
       "      <th>theage</th>\n",
       "      <th>of</th>\n",
       "      <th>26.</th>\n",
       "      <th>Construction</th>\n",
       "      <th>...</th>\n",
       "      <th>the</th>\n",
       "      <th>South</th>\n",
       "      <th>Pavilion</th>\n",
       "      <th>1770.</th>\n",
       "      <th>Turning</th>\n",
       "      <th>into</th>\n",
       "      <th>neoclassical</th>\n",
       "      <th>masterpiece</th>\n",
       "      <th>Jefferson's</th>\n",
       "      <th>obsession</th>\n",
       "    </tr>\n",
       "  </thead>\n",
       "  <tbody>\n",
       "    <tr>\n",
       "      <th>sent0</th>\n",
       "      <td>1</td>\n",
       "      <td>1</td>\n",
       "      <td>1</td>\n",
       "      <td>1</td>\n",
       "      <td>1</td>\n",
       "      <td>1</td>\n",
       "      <td>1</td>\n",
       "      <td>1</td>\n",
       "      <td>1</td>\n",
       "      <td>0</td>\n",
       "      <td>...</td>\n",
       "      <td>0</td>\n",
       "      <td>0</td>\n",
       "      <td>0</td>\n",
       "      <td>0</td>\n",
       "      <td>0</td>\n",
       "      <td>0</td>\n",
       "      <td>0</td>\n",
       "      <td>0</td>\n",
       "      <td>0</td>\n",
       "      <td>0</td>\n",
       "    </tr>\n",
       "    <tr>\n",
       "      <th>sent1</th>\n",
       "      <td>0</td>\n",
       "      <td>0</td>\n",
       "      <td>0</td>\n",
       "      <td>0</td>\n",
       "      <td>0</td>\n",
       "      <td>0</td>\n",
       "      <td>0</td>\n",
       "      <td>0</td>\n",
       "      <td>0</td>\n",
       "      <td>1</td>\n",
       "      <td>...</td>\n",
       "      <td>0</td>\n",
       "      <td>0</td>\n",
       "      <td>0</td>\n",
       "      <td>0</td>\n",
       "      <td>0</td>\n",
       "      <td>0</td>\n",
       "      <td>0</td>\n",
       "      <td>0</td>\n",
       "      <td>0</td>\n",
       "      <td>0</td>\n",
       "    </tr>\n",
       "    <tr>\n",
       "      <th>sent2</th>\n",
       "      <td>0</td>\n",
       "      <td>0</td>\n",
       "      <td>0</td>\n",
       "      <td>0</td>\n",
       "      <td>0</td>\n",
       "      <td>0</td>\n",
       "      <td>0</td>\n",
       "      <td>0</td>\n",
       "      <td>0</td>\n",
       "      <td>0</td>\n",
       "      <td>...</td>\n",
       "      <td>1</td>\n",
       "      <td>1</td>\n",
       "      <td>1</td>\n",
       "      <td>1</td>\n",
       "      <td>0</td>\n",
       "      <td>0</td>\n",
       "      <td>0</td>\n",
       "      <td>0</td>\n",
       "      <td>0</td>\n",
       "      <td>0</td>\n",
       "    </tr>\n",
       "    <tr>\n",
       "      <th>sent3</th>\n",
       "      <td>0</td>\n",
       "      <td>0</td>\n",
       "      <td>0</td>\n",
       "      <td>0</td>\n",
       "      <td>1</td>\n",
       "      <td>0</td>\n",
       "      <td>0</td>\n",
       "      <td>0</td>\n",
       "      <td>0</td>\n",
       "      <td>0</td>\n",
       "      <td>...</td>\n",
       "      <td>0</td>\n",
       "      <td>0</td>\n",
       "      <td>0</td>\n",
       "      <td>0</td>\n",
       "      <td>1</td>\n",
       "      <td>1</td>\n",
       "      <td>1</td>\n",
       "      <td>1</td>\n",
       "      <td>1</td>\n",
       "      <td>1</td>\n",
       "    </tr>\n",
       "  </tbody>\n",
       "</table>\n",
       "<p>4 rows × 32 columns</p>\n",
       "</div>"
      ],
      "text/plain": [
       "       Thomas  Jefferson  began  building  Monticello  at  theage  of  26.  \\\n",
       "sent0       1          1      1         1           1   1       1   1    1   \n",
       "sent1       0          0      0         0           0   0       0   0    0   \n",
       "sent2       0          0      0         0           0   0       0   0    0   \n",
       "sent3       0          0      0         0           1   0       0   0    0   \n",
       "\n",
       "       Construction  ...  the  South  Pavilion  1770.  Turning  into  \\\n",
       "sent0             0  ...    0      0         0      0        0     0   \n",
       "sent1             1  ...    0      0         0      0        0     0   \n",
       "sent2             0  ...    1      1         1      1        0     0   \n",
       "sent3             0  ...    0      0         0      0        1     1   \n",
       "\n",
       "       neoclassical  masterpiece  Jefferson's  obsession  \n",
       "sent0             0            0            0          0  \n",
       "sent1             0            0            0          0  \n",
       "sent2             0            0            0          0  \n",
       "sent3             1            1            1          1  \n",
       "\n",
       "[4 rows x 32 columns]"
      ]
     },
     "execution_count": 42,
     "metadata": {},
     "output_type": "execute_result"
    }
   ],
   "source": [
    "df"
   ]
  },
  {
   "cell_type": "code",
   "execution_count": 44,
   "id": "b9271274",
   "metadata": {},
   "outputs": [
    {
     "data": {
      "text/html": [
       "<div>\n",
       "<style scoped>\n",
       "    .dataframe tbody tr th:only-of-type {\n",
       "        vertical-align: middle;\n",
       "    }\n",
       "\n",
       "    .dataframe tbody tr th {\n",
       "        vertical-align: top;\n",
       "    }\n",
       "\n",
       "    .dataframe thead th {\n",
       "        text-align: right;\n",
       "    }\n",
       "</style>\n",
       "<table border=\"1\" class=\"dataframe\">\n",
       "  <thead>\n",
       "    <tr style=\"text-align: right;\">\n",
       "      <th></th>\n",
       "      <th>Thomas</th>\n",
       "      <th>Jefferson</th>\n",
       "      <th>began</th>\n",
       "      <th>building</th>\n",
       "      <th>Monticello</th>\n",
       "      <th>at</th>\n",
       "      <th>theage</th>\n",
       "      <th>of</th>\n",
       "      <th>26.</th>\n",
       "      <th>Construction</th>\n",
       "      <th>was</th>\n",
       "      <th>done</th>\n",
       "      <th>mostly</th>\n",
       "      <th>by</th>\n",
       "      <th>local</th>\n",
       "    </tr>\n",
       "  </thead>\n",
       "  <tbody>\n",
       "    <tr>\n",
       "      <th>sent0</th>\n",
       "      <td>1</td>\n",
       "      <td>1</td>\n",
       "      <td>1</td>\n",
       "      <td>1</td>\n",
       "      <td>1</td>\n",
       "      <td>1</td>\n",
       "      <td>1</td>\n",
       "      <td>1</td>\n",
       "      <td>1</td>\n",
       "      <td>0</td>\n",
       "      <td>0</td>\n",
       "      <td>0</td>\n",
       "      <td>0</td>\n",
       "      <td>0</td>\n",
       "      <td>0</td>\n",
       "    </tr>\n",
       "    <tr>\n",
       "      <th>sent1</th>\n",
       "      <td>0</td>\n",
       "      <td>0</td>\n",
       "      <td>0</td>\n",
       "      <td>0</td>\n",
       "      <td>0</td>\n",
       "      <td>0</td>\n",
       "      <td>0</td>\n",
       "      <td>0</td>\n",
       "      <td>0</td>\n",
       "      <td>1</td>\n",
       "      <td>1</td>\n",
       "      <td>1</td>\n",
       "      <td>1</td>\n",
       "      <td>1</td>\n",
       "      <td>1</td>\n",
       "    </tr>\n",
       "    <tr>\n",
       "      <th>sent2</th>\n",
       "      <td>0</td>\n",
       "      <td>0</td>\n",
       "      <td>0</td>\n",
       "      <td>0</td>\n",
       "      <td>0</td>\n",
       "      <td>0</td>\n",
       "      <td>0</td>\n",
       "      <td>0</td>\n",
       "      <td>0</td>\n",
       "      <td>0</td>\n",
       "      <td>0</td>\n",
       "      <td>0</td>\n",
       "      <td>0</td>\n",
       "      <td>0</td>\n",
       "      <td>0</td>\n",
       "    </tr>\n",
       "    <tr>\n",
       "      <th>sent3</th>\n",
       "      <td>0</td>\n",
       "      <td>0</td>\n",
       "      <td>0</td>\n",
       "      <td>0</td>\n",
       "      <td>1</td>\n",
       "      <td>0</td>\n",
       "      <td>0</td>\n",
       "      <td>0</td>\n",
       "      <td>0</td>\n",
       "      <td>0</td>\n",
       "      <td>1</td>\n",
       "      <td>0</td>\n",
       "      <td>0</td>\n",
       "      <td>0</td>\n",
       "      <td>0</td>\n",
       "    </tr>\n",
       "  </tbody>\n",
       "</table>\n",
       "</div>"
      ],
      "text/plain": [
       "       Thomas  Jefferson  began  building  Monticello  at  theage  of  26.  \\\n",
       "sent0       1          1      1         1           1   1       1   1    1   \n",
       "sent1       0          0      0         0           0   0       0   0    0   \n",
       "sent2       0          0      0         0           0   0       0   0    0   \n",
       "sent3       0          0      0         0           1   0       0   0    0   \n",
       "\n",
       "       Construction  was  done  mostly  by  local  \n",
       "sent0             0    0     0       0   0      0  \n",
       "sent1             1    1     1       1   1      1  \n",
       "sent2             0    0     0       0   0      0  \n",
       "sent3             0    1     0       0   0      0  "
      ]
     },
     "execution_count": 44,
     "metadata": {},
     "output_type": "execute_result"
    }
   ],
   "source": [
    "df[df.columns[:15]]"
   ]
  },
  {
   "cell_type": "markdown",
   "id": "d9710490",
   "metadata": {},
   "source": [
    "# Скалярное произведение - один из способов нахождения сходства между предложениями"
   ]
  },
  {
   "cell_type": "code",
   "execution_count": 45,
   "id": "d6c8d279",
   "metadata": {},
   "outputs": [
    {
     "data": {
      "text/plain": [
       "0"
      ]
     },
     "execution_count": 45,
     "metadata": {},
     "output_type": "execute_result"
    }
   ],
   "source": [
    "df = df.T\n",
    "df.sent0.dot(df.sent1)"
   ]
  },
  {
   "cell_type": "code",
   "execution_count": 46,
   "id": "dd3e0078",
   "metadata": {},
   "outputs": [
    {
     "data": {
      "text/plain": [
       "0"
      ]
     },
     "execution_count": 46,
     "metadata": {},
     "output_type": "execute_result"
    }
   ],
   "source": [
    "df.sent0.dot(df.sent2)"
   ]
  },
  {
   "cell_type": "code",
   "execution_count": 47,
   "id": "701336db",
   "metadata": {},
   "outputs": [
    {
     "data": {
      "text/plain": [
       "1"
      ]
     },
     "execution_count": 47,
     "metadata": {},
     "output_type": "execute_result"
    }
   ],
   "source": [
    "df.sent0.dot(df.sent3)"
   ]
  },
  {
   "cell_type": "markdown",
   "id": "61b162b7",
   "metadata": {},
   "source": [
    "### *Корпус - это словарь, показывающий сколько раз встречается каждое слово. Слово - ключ, количество раз - это значение*"
   ]
  },
  {
   "cell_type": "markdown",
   "id": "27628dc1",
   "metadata": {},
   "source": [
    "Находим общее слово в sent1 и sent3:"
   ]
  },
  {
   "cell_type": "code",
   "execution_count": 49,
   "id": "f44b0b91",
   "metadata": {},
   "outputs": [
    {
     "data": {
      "text/plain": [
       "[('Monticello', 1)]"
      ]
     },
     "execution_count": 49,
     "metadata": {},
     "output_type": "execute_result"
    }
   ],
   "source": [
    "[(k, v) for (k, v) in (df.sent0 & df.sent3).items() if v]"
   ]
  },
  {
   "cell_type": "markdown",
   "id": "57b878b5",
   "metadata": {},
   "source": [
    "Это ваша первая **модель векторного пространства (VSM) документов** (предложений) на естественном языке"
   ]
  },
  {
   "cell_type": "code",
   "execution_count": 50,
   "id": "4ef082a8",
   "metadata": {},
   "outputs": [],
   "source": [
    "import re"
   ]
  },
  {
   "cell_type": "code",
   "execution_count": 51,
   "id": "6b2e8771",
   "metadata": {},
   "outputs": [],
   "source": [
    "sentence = 'Thomas Jefferson began building Monticello at the age of 26.'"
   ]
  },
  {
   "cell_type": "code",
   "execution_count": 55,
   "id": "6fe90f44",
   "metadata": {},
   "outputs": [],
   "source": [
    "tokens = re.split(r'[-\\s.,;]+', sentence)"
   ]
  },
  {
   "cell_type": "code",
   "execution_count": 58,
   "id": "2bf1d918",
   "metadata": {},
   "outputs": [
    {
     "data": {
      "text/plain": [
       "['Thomas',\n",
       " 'Jefferson',\n",
       " 'began',\n",
       " 'building',\n",
       " 'Monticello',\n",
       " 'at',\n",
       " 'the',\n",
       " 'age',\n",
       " 'of',\n",
       " '26',\n",
       " '']"
      ]
     },
     "execution_count": 58,
     "metadata": {},
     "output_type": "execute_result"
    }
   ],
   "source": [
    "tokens"
   ]
  },
  {
   "cell_type": "code",
   "execution_count": 59,
   "id": "1905fa31",
   "metadata": {},
   "outputs": [
    {
     "data": {
      "text/plain": [
       "['the', ' ', 'age', ' ', 'of', ' ', '26', '.', '']"
      ]
     },
     "execution_count": 59,
     "metadata": {},
     "output_type": "execute_result"
    }
   ],
   "source": [
    "pattern = re.compile(r\"([-\\s.,;!?])+\")\n",
    "tokens = pattern.split(sentence)\n",
    "tokens[-10:] # только последние 10 токенов\n",
    "['the', ' ', 'age', ' ', 'of', ' ', '26', '.', '']"
   ]
  },
  {
   "cell_type": "code",
   "execution_count": 60,
   "id": "79be10ad",
   "metadata": {},
   "outputs": [],
   "source": [
    "sentence = 'Thomas Jefferson began building Monticello at the age of 26.'"
   ]
  },
  {
   "cell_type": "code",
   "execution_count": 61,
   "id": "1abd8f75",
   "metadata": {},
   "outputs": [],
   "source": [
    "tokens = pattern.split(sentence)"
   ]
  },
  {
   "cell_type": "markdown",
   "id": "18dab9f2",
   "metadata": {},
   "source": [
    "Избавляемся от пробелов, точек и др. в токенах:"
   ]
  },
  {
   "cell_type": "code",
   "execution_count": 63,
   "id": "ad6250ad",
   "metadata": {},
   "outputs": [
    {
     "data": {
      "text/plain": [
       "['Thomas',\n",
       " 'Jefferson',\n",
       " 'began',\n",
       " 'building',\n",
       " 'Monticello',\n",
       " 'at',\n",
       " 'the',\n",
       " 'age',\n",
       " 'of',\n",
       " '26']"
      ]
     },
     "execution_count": 63,
     "metadata": {},
     "output_type": "execute_result"
    }
   ],
   "source": [
    "[x for x in tokens if x and x not in '- \\t\\n.,;!?']"
   ]
  },
  {
   "cell_type": "markdown",
   "id": "e708b573",
   "metadata": {},
   "source": [
    "Таким образом, встроенный re прекрасно подходит для токенизации и фильтрации"
   ]
  },
  {
   "cell_type": "code",
   "execution_count": 64,
   "id": "c2f417f0",
   "metadata": {
    "scrolled": true
   },
   "outputs": [
    {
     "data": {
      "text/plain": [
       "['Thomas',\n",
       " 'Jefferson',\n",
       " 'began',\n",
       " 'building',\n",
       " 'Monticello',\n",
       " 'at',\n",
       " 'the',\n",
       " 'age',\n",
       " 'of',\n",
       " '26',\n",
       " '.']"
      ]
     },
     "execution_count": 64,
     "metadata": {},
     "output_type": "execute_result"
    }
   ],
   "source": [
    "from nltk.tokenize import RegexpTokenizer\n",
    "tokenizer = RegexpTokenizer(r'\\w+|$[0-9.]+|\\S+')\n",
    "tokenizer.tokenize(sentence)"
   ]
  },
  {
   "cell_type": "markdown",
   "id": "78d42d3c",
   "metadata": {},
   "source": [
    "Один из лучших токенизаторов:"
   ]
  },
  {
   "cell_type": "code",
   "execution_count": 65,
   "id": "906a204d",
   "metadata": {},
   "outputs": [
    {
     "data": {
      "text/plain": [
       "['Monticello',\n",
       " 'was',\n",
       " \"n't\",\n",
       " 'designated',\n",
       " 'as',\n",
       " 'UNESCO',\n",
       " 'World',\n",
       " 'Heritage',\n",
       " 'Site',\n",
       " 'until',\n",
       " '1987',\n",
       " '.']"
      ]
     },
     "execution_count": 65,
     "metadata": {},
     "output_type": "execute_result"
    }
   ],
   "source": [
    "from nltk.tokenize import TreebankWordTokenizer\n",
    "sentence = \"\"\"Monticello wasn't designated as UNESCO World Heritage Site until 1987.\"\"\"\n",
    "tokenizer = TreebankWordTokenizer()\n",
    "tokenizer.tokenize(sentence)"
   ]
  },
  {
   "cell_type": "code",
   "execution_count": 67,
   "id": "1fd04772",
   "metadata": {},
   "outputs": [],
   "source": [
    "s = \"\"\" Россия ввела запрет на экспорт гречки\n",
    "10:21 05.06.2021 (обновлено: 11:59 05.06.2021)\n",
    "6858\n",
    "Гречневая крупа, продающаяся на развес  - РИА Новости, 1920, 05.06.2021\n",
    "© РИА Новости / Константин Михальчевский\n",
    "Перейти в фотобанк\n",
    "Читать ria.ru в\n",
    "МОСКВА, 5 июн — РИА Новости. С 5 июня в России вступил в силу временный запрет на вывоз гречки; он будет действовать до 31 августа. Правительство приняло соответствующее постановление в конце апреля.\"\"\""
   ]
  },
  {
   "cell_type": "code",
   "execution_count": 68,
   "id": "8ddbd6e2",
   "metadata": {
    "scrolled": true
   },
   "outputs": [
    {
     "data": {
      "text/plain": [
       "' Россия ввела запрет на экспорт гречки\\n10:21 05.06.2021 (обновлено: 11:59 05.06.2021)\\n6858\\nГречневая крупа, продающаяся на развес  - РИА Новости, 1920, 05.06.2021\\n© РИА Новости / Константин Михальчевский\\nПерейти в фотобанк\\nЧитать ria.ru в\\nМОСКВА, 5 июн — РИА Новости. С 5 июня в России вступил в силу временный запрет на вывоз гречки; он будет действовать до 31 августа. Правительство приняло соответствующее постановление в конце апреля.'"
      ]
     },
     "execution_count": 68,
     "metadata": {},
     "output_type": "execute_result"
    }
   ],
   "source": [
    "s"
   ]
  },
  {
   "cell_type": "code",
   "execution_count": 70,
   "id": "d608d1b8",
   "metadata": {},
   "outputs": [],
   "source": [
    "ts = tokenizer.tokenize(s)"
   ]
  },
  {
   "cell_type": "code",
   "execution_count": 84,
   "id": "0cbc885f",
   "metadata": {
    "collapsed": true
   },
   "outputs": [
    {
     "data": {
      "text/plain": [
       "['Россия',\n",
       " 'ввела',\n",
       " 'запрет',\n",
       " 'на',\n",
       " 'экспорт',\n",
       " 'гречки',\n",
       " '10:21',\n",
       " '05.06.2021',\n",
       " 'обновлено',\n",
       " '11:59',\n",
       " '05.06.2021',\n",
       " '6858',\n",
       " 'Гречневая',\n",
       " 'крупа',\n",
       " 'продающаяся',\n",
       " 'на',\n",
       " 'развес',\n",
       " '1920',\n",
       " '05.06.2021',\n",
       " 'Константин',\n",
       " 'Михальчевский',\n",
       " 'Перейти',\n",
       " 'в',\n",
       " 'фотобанк',\n",
       " 'Читать',\n",
       " 'в',\n",
       " '5',\n",
       " 'июн',\n",
       " 'Новости.',\n",
       " 'С',\n",
       " '5',\n",
       " 'июня',\n",
       " 'в',\n",
       " 'России',\n",
       " 'вступил',\n",
       " 'в',\n",
       " 'силу',\n",
       " 'временный',\n",
       " 'запрет',\n",
       " 'на',\n",
       " 'вывоз',\n",
       " 'гречки',\n",
       " 'он',\n",
       " 'будет',\n",
       " 'действовать',\n",
       " 'до',\n",
       " '31',\n",
       " 'августа.',\n",
       " 'Правительство',\n",
       " 'приняло',\n",
       " 'соответствующее',\n",
       " 'постановление',\n",
       " 'в',\n",
       " 'конце',\n",
       " 'апреля']"
      ]
     },
     "execution_count": 84,
     "metadata": {},
     "output_type": "execute_result"
    }
   ],
   "source": [
    "[x for x in ts if x and x not in '- \\t\\n.,;:!?(—)/©' and x not in ['ria.ru', 'РИА', 'Новости', 'МОСКВА']]"
   ]
  },
  {
   "cell_type": "markdown",
   "id": "da178a5f",
   "metadata": {},
   "source": [
    "### Токенизация неформального текста из социальных сетей, таких как Twitter и Facebook"
   ]
  },
  {
   "cell_type": "code",
   "execution_count": 86,
   "id": "8829daa6",
   "metadata": {},
   "outputs": [
    {
     "data": {
      "text/plain": [
       "['RT',\n",
       " '@TJMonticello',\n",
       " 'Best',\n",
       " 'day',\n",
       " 'everrrrrrr',\n",
       " 'at',\n",
       " 'Monticello',\n",
       " '.',\n",
       " 'Awesommmmmmeeeeeeee',\n",
       " 'day',\n",
       " ':*)']"
      ]
     },
     "execution_count": 86,
     "metadata": {},
     "output_type": "execute_result"
    }
   ],
   "source": [
    "from nltk.tokenize.casual import casual_tokenize\n",
    "message = \"\"\"RT @TJMonticello Best day everrrrrrr at Monticello. Awesommmmmmeeeeeeee day :*)\"\"\"\n",
    "casual_tokenize(message)"
   ]
  },
  {
   "cell_type": "code",
   "execution_count": 87,
   "id": "c3aeb1ac",
   "metadata": {},
   "outputs": [
    {
     "data": {
      "text/plain": [
       "['RT',\n",
       " 'Best',\n",
       " 'day',\n",
       " 'everrr',\n",
       " 'at',\n",
       " 'Monticello',\n",
       " '.',\n",
       " 'Awesommmeee',\n",
       " 'day',\n",
       " ':*)']"
      ]
     },
     "execution_count": 87,
     "metadata": {},
     "output_type": "execute_result"
    }
   ],
   "source": [
    "casual_tokenize(message, reduce_len=True, strip_handles=True)"
   ]
  },
  {
   "cell_type": "markdown",
   "id": "3d5e6bdf",
   "metadata": {},
   "source": [
    "# Расширяем словарь n-граммами"
   ]
  },
  {
   "cell_type": "code",
   "execution_count": 88,
   "id": "d9347684",
   "metadata": {},
   "outputs": [
    {
     "data": {
      "text/plain": [
       "['Thomas',\n",
       " 'Jefferson',\n",
       " 'began',\n",
       " 'building',\n",
       " 'Monticello',\n",
       " 'at',\n",
       " 'the',\n",
       " 'age',\n",
       " 'of',\n",
       " '26']"
      ]
     },
     "execution_count": 88,
     "metadata": {},
     "output_type": "execute_result"
    }
   ],
   "source": [
    "sentence = \"\"\"Thomas Jefferson began building Monticello at the age of 26.\"\"\"\n",
    "pattern = re.compile(r\"([-\\s.,;!?])+\")\n",
    "tokens = pattern.split(sentence)\n",
    "tokens = [x for x in tokens if x and x not in '- \\t\\n.,;!?']\n",
    "tokens"
   ]
  },
  {
   "cell_type": "code",
   "execution_count": 89,
   "id": "25bdb551",
   "metadata": {},
   "outputs": [
    {
     "data": {
      "text/plain": [
       "[('Thomas', 'Jefferson'),\n",
       " ('Jefferson', 'began'),\n",
       " ('began', 'building'),\n",
       " ('building', 'Monticello'),\n",
       " ('Monticello', 'at'),\n",
       " ('at', 'the'),\n",
       " ('the', 'age'),\n",
       " ('age', 'of'),\n",
       " ('of', '26')]"
      ]
     },
     "execution_count": 89,
     "metadata": {},
     "output_type": "execute_result"
    }
   ],
   "source": [
    "from nltk.util import ngrams\n",
    "list(ngrams(tokens, 2))"
   ]
  },
  {
   "cell_type": "code",
   "execution_count": 90,
   "id": "e447e9b6",
   "metadata": {
    "scrolled": false
   },
   "outputs": [
    {
     "data": {
      "text/plain": [
       "[('Thomas', 'Jefferson', 'began'),\n",
       " ('Jefferson', 'began', 'building'),\n",
       " ('began', 'building', 'Monticello'),\n",
       " ('building', 'Monticello', 'at'),\n",
       " ('Monticello', 'at', 'the'),\n",
       " ('at', 'the', 'age'),\n",
       " ('the', 'age', 'of'),\n",
       " ('age', 'of', '26')]"
      ]
     },
     "execution_count": 90,
     "metadata": {},
     "output_type": "execute_result"
    }
   ],
   "source": [
    "list(ngrams(tokens, 3))"
   ]
  },
  {
   "cell_type": "code",
   "execution_count": 91,
   "id": "a1b0c379",
   "metadata": {},
   "outputs": [
    {
     "data": {
      "text/plain": [
       "['Thomas Jefferson',\n",
       " 'Jefferson began',\n",
       " 'began building',\n",
       " 'building Monticello',\n",
       " 'Monticello at',\n",
       " 'at the',\n",
       " 'the age',\n",
       " 'age of',\n",
       " 'of 26']"
      ]
     },
     "execution_count": 91,
     "metadata": {},
     "output_type": "execute_result"
    }
   ],
   "source": [
    "two_grams = list(ngrams(tokens, 2))\n",
    "[\" \".join(x) for x in two_grams]"
   ]
  },
  {
   "cell_type": "markdown",
   "id": "a7daeb24",
   "metadata": {},
   "source": [
    "# Стоп-слова. Их не удаляем чтобы не терять информативность"
   ]
  },
  {
   "cell_type": "code",
   "execution_count": 53,
   "id": "8e7e7fc8",
   "metadata": {},
   "outputs": [
    {
     "name": "stderr",
     "output_type": "stream",
     "text": [
      "[nltk_data] Downloading package stopwords to /home/board/nltk_data...\n",
      "[nltk_data]   Unzipping corpora/stopwords.zip.\n"
     ]
    },
    {
     "data": {
      "text/plain": [
       "True"
      ]
     },
     "execution_count": 53,
     "metadata": {},
     "output_type": "execute_result"
    }
   ],
   "source": [
    "import nltk\n",
    "nltk.download('stopwords')"
   ]
  },
  {
   "cell_type": "code",
   "execution_count": 54,
   "id": "21310546",
   "metadata": {},
   "outputs": [],
   "source": [
    "stop_words = nltk.corpus.stopwords.words('russian')"
   ]
  },
  {
   "cell_type": "code",
   "execution_count": 55,
   "id": "855acb26",
   "metadata": {},
   "outputs": [
    {
     "data": {
      "text/plain": [
       "151"
      ]
     },
     "execution_count": 55,
     "metadata": {},
     "output_type": "execute_result"
    }
   ],
   "source": [
    "len(stop_words)"
   ]
  },
  {
   "cell_type": "markdown",
   "id": "a4a4e8de",
   "metadata": {},
   "source": [
    "# Выравнивание регистра - нормализация"
   ]
  },
  {
   "cell_type": "code",
   "execution_count": 71,
   "id": "7806147e",
   "metadata": {},
   "outputs": [],
   "source": [
    "tokens = ['House', 'Visitor', 'Center']"
   ]
  },
  {
   "cell_type": "code",
   "execution_count": 72,
   "id": "17f32c4f",
   "metadata": {},
   "outputs": [],
   "source": [
    "normalized_tokens = [x.lower() for x in tokens]"
   ]
  },
  {
   "cell_type": "code",
   "execution_count": 73,
   "id": "88efce1b",
   "metadata": {},
   "outputs": [
    {
     "name": "stdout",
     "output_type": "stream",
     "text": [
      "['house', 'visitor', 'center']\n"
     ]
    }
   ],
   "source": [
    "print(normalized_tokens)"
   ]
  },
  {
   "cell_type": "markdown",
   "id": "812485a8",
   "metadata": {},
   "source": [
    "# Стемминг - работа с окончаниями"
   ]
  },
  {
   "cell_type": "code",
   "execution_count": 1,
   "id": "0523ea3c",
   "metadata": {},
   "outputs": [
    {
     "data": {
      "text/plain": [
       "'dish washer wash dish'"
      ]
     },
     "execution_count": 1,
     "metadata": {},
     "output_type": "execute_result"
    }
   ],
   "source": [
    "from nltk.stem.porter import PorterStemmer\n",
    "stemmer = PorterStemmer()\n",
    "' '.join([stemmer.stem(w).strip(\"'\") for w in \"dish washer's washed dishes\".split()])"
   ]
  },
  {
   "cell_type": "markdown",
   "id": "e0bc5598",
   "metadata": {},
   "source": [
    "Русскоязычный стеммер (скачал файл с гитхаба):"
   ]
  },
  {
   "cell_type": "code",
   "execution_count": 2,
   "id": "a7e33321",
   "metadata": {},
   "outputs": [],
   "source": [
    "from russian_stemmer import Stemmer"
   ]
  },
  {
   "cell_type": "code",
   "execution_count": 3,
   "id": "200f5e75",
   "metadata": {},
   "outputs": [],
   "source": [
    "stemmer = Stemmer()"
   ]
  },
  {
   "cell_type": "code",
   "execution_count": 6,
   "id": "196689f9",
   "metadata": {
    "scrolled": true
   },
   "outputs": [
    {
     "data": {
      "text/plain": [
       "'окончательн'"
      ]
     },
     "execution_count": 6,
     "metadata": {},
     "output_type": "execute_result"
    }
   ],
   "source": [
    "stemmer.stem('окончательный')"
   ]
  },
  {
   "cell_type": "code",
   "execution_count": 7,
   "id": "76c7f3ed",
   "metadata": {},
   "outputs": [
    {
     "data": {
      "text/plain": [
       "'сесс'"
      ]
     },
     "execution_count": 7,
     "metadata": {},
     "output_type": "execute_result"
    }
   ],
   "source": [
    "stemmer.stem('сессии')"
   ]
  },
  {
   "cell_type": "code",
   "execution_count": 24,
   "id": "0af54cca",
   "metadata": {},
   "outputs": [
    {
     "data": {
      "text/plain": [
       "'усил'"
      ]
     },
     "execution_count": 24,
     "metadata": {},
     "output_type": "execute_result"
    }
   ],
   "source": [
    "stemmer.stem('усилили')"
   ]
  },
  {
   "cell_type": "markdown",
   "id": "3f58c0ff",
   "metadata": {},
   "source": [
    "Или можно использовать этот русскоязычный стеммер в NLTK:"
   ]
  },
  {
   "cell_type": "code",
   "execution_count": 14,
   "id": "3b6e556d",
   "metadata": {},
   "outputs": [
    {
     "data": {
      "text/plain": [
       "'Васил'"
      ]
     },
     "execution_count": 14,
     "metadata": {},
     "output_type": "execute_result"
    }
   ],
   "source": [
    "from nltk.stem.snowball import SnowballStemmer \n",
    "\n",
    "stemmer = SnowballStemmer(\"russian\") \n",
    "stemmer.stem(\"Василий\")\n",
    "'Васил'"
   ]
  },
  {
   "cell_type": "code",
   "execution_count": 15,
   "id": "cefd8fb6",
   "metadata": {},
   "outputs": [
    {
     "data": {
      "text/plain": [
       "'перешедш'"
      ]
     },
     "execution_count": 15,
     "metadata": {},
     "output_type": "execute_result"
    }
   ],
   "source": [
    "stemmer.stem('перешедший')"
   ]
  },
  {
   "cell_type": "code",
   "execution_count": 16,
   "id": "f5e7c292",
   "metadata": {},
   "outputs": [
    {
     "data": {
      "text/plain": [
       "'реализац'"
      ]
     },
     "execution_count": 16,
     "metadata": {},
     "output_type": "execute_result"
    }
   ],
   "source": [
    "stemmer.stem('реализацию')"
   ]
  },
  {
   "cell_type": "code",
   "execution_count": 17,
   "id": "c7de5cdb",
   "metadata": {},
   "outputs": [
    {
     "data": {
      "text/plain": [
       "'знающ'"
      ]
     },
     "execution_count": 17,
     "metadata": {},
     "output_type": "execute_result"
    }
   ],
   "source": [
    "stemmer.stem('знающего')"
   ]
  },
  {
   "cell_type": "code",
   "execution_count": 25,
   "id": "af032a67",
   "metadata": {},
   "outputs": [
    {
     "data": {
      "text/plain": [
       "'усил'"
      ]
     },
     "execution_count": 25,
     "metadata": {},
     "output_type": "execute_result"
    }
   ],
   "source": [
    "stemmer.stem('усилили')"
   ]
  },
  {
   "cell_type": "markdown",
   "id": "feca92de",
   "metadata": {},
   "source": [
    "# Лемматизация"
   ]
  },
  {
   "cell_type": "code",
   "execution_count": 27,
   "id": "f58a6895",
   "metadata": {},
   "outputs": [
    {
     "name": "stderr",
     "output_type": "stream",
     "text": [
      "[nltk_data] Downloading package wordnet to /home/board/nltk_data...\n",
      "[nltk_data]   Unzipping corpora/wordnet.zip.\n"
     ]
    },
    {
     "data": {
      "text/plain": [
       "True"
      ]
     },
     "execution_count": 27,
     "metadata": {},
     "output_type": "execute_result"
    }
   ],
   "source": [
    "import nltk\n",
    "nltk.download('wordnet')"
   ]
  },
  {
   "cell_type": "code",
   "execution_count": 28,
   "id": "466d8b29",
   "metadata": {},
   "outputs": [],
   "source": [
    "from nltk.stem import WordNetLemmatizer"
   ]
  },
  {
   "cell_type": "code",
   "execution_count": 29,
   "id": "a7e8829d",
   "metadata": {},
   "outputs": [],
   "source": [
    "lemmatizer = WordNetLemmatizer()"
   ]
  },
  {
   "cell_type": "code",
   "execution_count": 30,
   "id": "880c6ce3",
   "metadata": {},
   "outputs": [
    {
     "data": {
      "text/plain": [
       "'better'"
      ]
     },
     "execution_count": 30,
     "metadata": {},
     "output_type": "execute_result"
    }
   ],
   "source": [
    "lemmatizer.lemmatize('better')"
   ]
  },
  {
   "cell_type": "code",
   "execution_count": 31,
   "id": "657296ad",
   "metadata": {},
   "outputs": [
    {
     "data": {
      "text/plain": [
       "'good'"
      ]
     },
     "execution_count": 31,
     "metadata": {},
     "output_type": "execute_result"
    }
   ],
   "source": [
    "lemmatizer.lemmatize('better', pos='a')"
   ]
  },
  {
   "cell_type": "markdown",
   "id": "84112fdb",
   "metadata": {},
   "source": [
    "### *http://www.solarix.ru/* - полезные вещи для русскоязычного NLP"
   ]
  },
  {
   "cell_type": "markdown",
   "id": "03268464",
   "metadata": {},
   "source": [
    "Установил **русский лемматизатор**, код ниже"
   ]
  },
  {
   "cell_type": "code",
   "execution_count": 46,
   "id": "2eb318b2",
   "metadata": {},
   "outputs": [],
   "source": [
    "# сначала скачал с гитхаба https://github.com/Koziev/rulemma , файл rulemma-master.zip. Потом запустил\n",
    "#!pip3 install /home/board/Загрузки/rulemma-master.zip\n",
    "# pip3 install /home/board/Загрузки/rutokenizer-master.zip   - ссылка там же, на рулемме Козиева. Остальное там же\n",
    "# pip3 install /home/board/Загрузки/rusyllab-master.zip\n",
    "# pip3 install /home/board/Загрузки/ruword2tags-master.zip\n",
    "# pip3 install /home/board/Загрузки/rupostagger-master.zip\n",
    "# !pip3 install python-crfsuite"
   ]
  },
  {
   "cell_type": "markdown",
   "id": "a1f64971",
   "metadata": {},
   "source": [
    "С проектами выше вылезает ошибка - файл не является database. Залез в исходный код, могу потратить день-два, попробовать понять ошибку обращения к базе данных. Но похоже нижеследующий проект - круче:\n",
    "https://habr.com/ru/post/516098/\n",
    "Или даже DeepPavlov...  требует мощный процессор, но похоже Наташа выполняет как надо все"
   ]
  },
  {
   "cell_type": "markdown",
   "id": "e1a587da",
   "metadata": {},
   "source": [
    "Начну с основного проекта Наташи - **pip3 install natasha**. Запускаю пример использования, и вижу разбиение на части речи!..."
   ]
  },
  {
   "cell_type": "code",
   "execution_count": null,
   "id": "c2326fa5",
   "metadata": {},
   "outputs": [],
   "source": [
    "from natasha import (\n",
    "    Segmenter,\n",
    "    \n",
    "    NewsEmbedding,\n",
    "    NewsMorphTagger,\n",
    "    NewsSyntaxParser,\n",
    "    \n",
    "    Doc\n",
    ")\n",
    "\n",
    "segmenter = Segmenter()\n",
    "emb = NewsEmbedding()\n",
    "morph_tagger = NewsMorphTagger(emb)\n",
    "syntax_parser = NewsSyntaxParser(emb)\n",
    "\n",
    "text = 'Посол Израиля на Украине Йоэль Лион признался, что пришел в шок, узнав о решении властей Львовской области объявить 2019 год годом лидера запрещенной в России Организации украинских националистов (ОУН) Степана Бандеры...'\n",
    "doc = Doc(text)\n",
    "\n",
    "doc.segment(segmenter)\n",
    "doc.tag_morph(morph_tagger)\n",
    "doc.parse_syntax(syntax_parser)\n",
    "\n",
    "sent = doc.sents[0]\n",
    "# sent.morph.print()"
   ]
  },
  {
   "cell_type": "markdown",
   "id": "aa6bde72",
   "metadata": {},
   "source": [
    "Вот эти этапы надо выполнить обязательно для лемматизации:"
   ]
  },
  {
   "cell_type": "code",
   "execution_count": 16,
   "id": "4a2dec61",
   "metadata": {},
   "outputs": [],
   "source": [
    "doc2 = Doc(text)\n",
    "doc2.segment(segmenter)\n",
    "doc2.tag_morph(morph_tagger)\n",
    "doc2.parse_syntax(syntax_parser)"
   ]
  },
  {
   "cell_type": "markdown",
   "id": "e93c7962",
   "metadata": {},
   "source": [
    "Попробую решить задачу лемматизации:"
   ]
  },
  {
   "cell_type": "code",
   "execution_count": 17,
   "id": "5c7bbe75",
   "metadata": {},
   "outputs": [],
   "source": [
    "from natasha import MorphVocab\n",
    "morph_vocab = MorphVocab()\n",
    "for token in doc2.tokens:\n",
    "    token.lemmatize(morph_vocab)"
   ]
  },
  {
   "cell_type": "code",
   "execution_count": 18,
   "id": "272de68f",
   "metadata": {},
   "outputs": [
    {
     "data": {
      "text/plain": [
       "{'Посол': 'посол',\n",
       " 'Израиля': 'израиль',\n",
       " 'на': 'на',\n",
       " 'Украине': 'украина',\n",
       " 'Йоэль': 'йоэль',\n",
       " 'Лион': 'лион',\n",
       " 'признался': 'признаться',\n",
       " ',': ',',\n",
       " 'что': 'что',\n",
       " 'пришел': 'прийти',\n",
       " 'в': 'в',\n",
       " 'шок': 'шок',\n",
       " 'узнав': 'узнать',\n",
       " 'о': 'о',\n",
       " 'решении': 'решение',\n",
       " 'властей': 'власть',\n",
       " 'Львовской': 'львовский',\n",
       " 'области': 'область',\n",
       " 'объявить': 'объявить',\n",
       " '2019': '2019',\n",
       " 'год': 'год',\n",
       " 'годом': 'год',\n",
       " 'лидера': 'лидер',\n",
       " 'запрещенной': 'запретить',\n",
       " 'России': 'россия',\n",
       " 'Организации': 'организация',\n",
       " 'украинских': 'украинский',\n",
       " 'националистов': 'националист',\n",
       " '(': '(',\n",
       " 'ОУН': 'оун',\n",
       " ')': ')',\n",
       " 'Степана': 'степан',\n",
       " 'Бандеры': 'бандера',\n",
       " '...': '...'}"
      ]
     },
     "execution_count": 18,
     "metadata": {},
     "output_type": "execute_result"
    }
   ],
   "source": [
    "{_.text: _.lemma for _ in doc.tokens}"
   ]
  },
  {
   "cell_type": "markdown",
   "id": "ec7e5782",
   "metadata": {},
   "source": [
    "### !!! КРУТО !!! ТО ЧТО НУЖНО ДЛЯ СОЗДАНИЯ СЖАТОГО СЛОВАРЯ!!! Сразу решается и вопросы стемминга и регистров слов..."
   ]
  },
  {
   "cell_type": "markdown",
   "id": "3262e1dc",
   "metadata": {},
   "source": [
    " # ЧТО НАШЛОСЬ, ПАРНИ... https://github.com/natasha/corus\n",
    " Links to publicly available Russian corpora + code for loading and parsing. 20+ datasets, 350Gb+ of text.\n",
    " Ссылки на датасеты новостей и т.п."
   ]
  },
  {
   "cell_type": "code",
   "execution_count": 1,
   "id": "06748c9c",
   "metadata": {},
   "outputs": [],
   "source": [
    "path = '/home/board/lenta-ru-news.csv.gz'"
   ]
  },
  {
   "cell_type": "code",
   "execution_count": 2,
   "id": "0ce8a731",
   "metadata": {
    "scrolled": true
   },
   "outputs": [
    {
     "data": {
      "text/plain": [
       "LentaRecord(\n",
       "    url='https://lenta.ru/news/2018/12/14/cancer/',\n",
       "    title='Названы регионы России с\\xa0самой высокой смертностью от\\xa0рака',\n",
       "    text='Вице-премьер по социальным вопросам Татьяна Голикова рассказала, в каких регионах России зафиксирована наиболее высокая смертность от рака, сообщает РИА Новости. По словам Голиковой, чаще всего онкологические заболевания становились причиной смерти в Псковской, Тверской, Тульской и Орловской областях, а также в Севастополе. Вице-премьер напомнила, что главные факторы смертности в России — рак и болезни системы кровообращения. В начале года стало известно, что смертность от онкологических заболеваний среди россиян снизилась впервые за три года. По данным Росстата, в 2017 году от рака умерли 289 тысяч человек. Это на 3,5 процента меньше, чем годом ранее.',\n",
       "    topic='Россия',\n",
       "    tags='Общество',\n",
       "    date=None\n",
       ")"
      ]
     },
     "execution_count": 2,
     "metadata": {},
     "output_type": "execute_result"
    }
   ],
   "source": [
    "from corus import load_lenta\n",
    "records = load_lenta(path)\n",
    "next(records)"
   ]
  },
  {
   "cell_type": "code",
   "execution_count": null,
   "id": "d5e339a9",
   "metadata": {},
   "outputs": [],
   "source": [
    "records = load_lenta(path)\n",
    "c = 0\n",
    "for record in records:\n",
    "    c = c +1\n",
    "    if c > 10000:\n",
    "        break\n",
    "    if c%300 == 0:\n",
    "        print(record.text)\n",
    "        print(record.url)"
   ]
  },
  {
   "cell_type": "markdown",
   "id": "ae4fb83c",
   "metadata": {},
   "source": [
    "Новостей от ленты.ру - дофига короче. 500 мб, десятки-сотней новостей ежедневно. Можно в цикле ставит условие - если в новости есть упоминание курса доллара допустим, тогда только эта новость отбираеся. Это разовая работа по очистке датасета"
   ]
  },
  {
   "cell_type": "markdown",
   "id": "9ec5afdb",
   "metadata": {},
   "source": [
    "# Тональность"
   ]
  },
  {
   "cell_type": "markdown",
   "id": "ec015b0a",
   "metadata": {},
   "source": [
    "VADER — анализатор тональности на основе правил. Я так понял только для английского языка."
   ]
  },
  {
   "cell_type": "markdown",
   "id": "a1dda00d",
   "metadata": {},
   "source": [
    "Вы можете найти более детальную информацию о процессе установки на GitHub по адресу\n",
    "**github.com/cjhutto/vaderSentiment**"
   ]
  },
  {
   "cell_type": "markdown",
   "id": "d8beba43",
   "metadata": {},
   "source": [
    "Если вы еще не установили nlpia, инструкции по установке можно найти по адресу **github.com/\n",
    "totalgood/nlpia**"
   ]
  },
  {
   "cell_type": "code",
   "execution_count": 2,
   "id": "8fb1e8e0",
   "metadata": {},
   "outputs": [],
   "source": [
    "from vaderSentiment.vaderSentiment import SentimentIntensityAnalyzer"
   ]
  },
  {
   "cell_type": "code",
   "execution_count": 3,
   "id": "a429c8b2",
   "metadata": {},
   "outputs": [],
   "source": [
    "sa = SentimentIntensityAnalyzer()"
   ]
  },
  {
   "cell_type": "code",
   "execution_count": 10,
   "id": "4c805767",
   "metadata": {},
   "outputs": [
    {
     "data": {
      "text/plain": [
       "7506"
      ]
     },
     "execution_count": 10,
     "metadata": {},
     "output_type": "execute_result"
    }
   ],
   "source": [
    "len(sa.lexicon)"
   ]
  },
  {
   "cell_type": "code",
   "execution_count": 7,
   "id": "a4c5397c",
   "metadata": {},
   "outputs": [
    {
     "data": {
      "text/plain": [
       "[(\"( '}{' )\", 1.6),\n",
       " (\"can't stand\", -2.0),\n",
       " ('fed up', -1.8),\n",
       " ('screwed up', -1.5)]"
      ]
     },
     "execution_count": 7,
     "metadata": {},
     "output_type": "execute_result"
    }
   ],
   "source": [
    "[(tok, score) for tok, score in sa.lexicon.items() if ' ' in tok]"
   ]
  },
  {
   "cell_type": "code",
   "execution_count": 9,
   "id": "6c788589",
   "metadata": {},
   "outputs": [
    {
     "data": {
      "text/plain": [
       "{'neg': 0.0, 'neu': 0.687, 'pos': 0.313, 'compound': 0.6249}"
      ]
     },
     "execution_count": 9,
     "metadata": {},
     "output_type": "execute_result"
    }
   ],
   "source": [
    "sa.polarity_scores(text='Python is very readable and it is great for NLP')"
   ]
  },
  {
   "cell_type": "code",
   "execution_count": 14,
   "id": "99357bfd",
   "metadata": {},
   "outputs": [],
   "source": [
    "corpus = ['Absolutely perfect! Love it! :-) :-) :-)', 'Horrible! Completely useless', 'It was ok. Some good \\\n",
    "            and some bad things']"
   ]
  },
  {
   "cell_type": "code",
   "execution_count": 15,
   "id": "9f2bb34f",
   "metadata": {},
   "outputs": [
    {
     "name": "stdout",
     "output_type": "stream",
     "text": [
      "+0.9428: Absolutely perfect! Love it! :-) :-) :-)\n",
      "-0.7836: Horrible! Completely useless\n",
      "-0.1531: It was ok. Some good             and some bad things\n"
     ]
    }
   ],
   "source": [
    "for doc in corpus:\n",
    "    scores = sa.polarity_scores(doc)\n",
    "    print('{:+}: {}'.format(scores['compound'], doc))"
   ]
  },
  {
   "cell_type": "markdown",
   "id": "7e930fbd",
   "metadata": {},
   "source": [
    "# Наивный байесовский классификатор для измерения тональности"
   ]
  },
  {
   "cell_type": "code",
   "execution_count": 10,
   "id": "66ad911d",
   "metadata": {},
   "outputs": [],
   "source": [
    "import pandas as pd\n",
    "file_ = '/home/board/.local/lib/python3.8/site-packages/nlpia/data/hutto_ICWSM_2014/movieReviewSnippets_GroundTruth.csv.gz'\n",
    "movies = pd.read_csv(file_, index_col='id')"
   ]
  },
  {
   "cell_type": "code",
   "execution_count": 13,
   "id": "6dcf839b",
   "metadata": {},
   "outputs": [
    {
     "data": {
      "text/html": [
       "<div>\n",
       "<style scoped>\n",
       "    .dataframe tbody tr th:only-of-type {\n",
       "        vertical-align: middle;\n",
       "    }\n",
       "\n",
       "    .dataframe tbody tr th {\n",
       "        vertical-align: top;\n",
       "    }\n",
       "\n",
       "    .dataframe thead th {\n",
       "        text-align: right;\n",
       "    }\n",
       "</style>\n",
       "<table border=\"1\" class=\"dataframe\">\n",
       "  <thead>\n",
       "    <tr style=\"text-align: right;\">\n",
       "      <th></th>\n",
       "      <th>sentiment</th>\n",
       "      <th>text</th>\n",
       "    </tr>\n",
       "    <tr>\n",
       "      <th>id</th>\n",
       "      <th></th>\n",
       "      <th></th>\n",
       "    </tr>\n",
       "  </thead>\n",
       "  <tbody>\n",
       "    <tr>\n",
       "      <th>1</th>\n",
       "      <td>2.266667</td>\n",
       "      <td>The Rock is destined to be the 21st Century's ...</td>\n",
       "    </tr>\n",
       "    <tr>\n",
       "      <th>2</th>\n",
       "      <td>3.533333</td>\n",
       "      <td>The gorgeously elaborate continuation of ''The...</td>\n",
       "    </tr>\n",
       "    <tr>\n",
       "      <th>3</th>\n",
       "      <td>-0.600000</td>\n",
       "      <td>Effective but too tepid biopic</td>\n",
       "    </tr>\n",
       "    <tr>\n",
       "      <th>4</th>\n",
       "      <td>1.466667</td>\n",
       "      <td>If you sometimes like to go to the movies to h...</td>\n",
       "    </tr>\n",
       "    <tr>\n",
       "      <th>5</th>\n",
       "      <td>1.733333</td>\n",
       "      <td>Emerges as something rare, an issue movie that...</td>\n",
       "    </tr>\n",
       "  </tbody>\n",
       "</table>\n",
       "</div>"
      ],
      "text/plain": [
       "    sentiment                                               text\n",
       "id                                                              \n",
       "1    2.266667  The Rock is destined to be the 21st Century's ...\n",
       "2    3.533333  The gorgeously elaborate continuation of ''The...\n",
       "3   -0.600000                     Effective but too tepid biopic\n",
       "4    1.466667  If you sometimes like to go to the movies to h...\n",
       "5    1.733333  Emerges as something rare, an issue movie that..."
      ]
     },
     "execution_count": 13,
     "metadata": {},
     "output_type": "execute_result"
    }
   ],
   "source": [
    "movies.head()"
   ]
  },
  {
   "cell_type": "code",
   "execution_count": 14,
   "id": "7591f7bb",
   "metadata": {},
   "outputs": [
    {
     "data": {
      "text/html": [
       "<div>\n",
       "<style scoped>\n",
       "    .dataframe tbody tr th:only-of-type {\n",
       "        vertical-align: middle;\n",
       "    }\n",
       "\n",
       "    .dataframe tbody tr th {\n",
       "        vertical-align: top;\n",
       "    }\n",
       "\n",
       "    .dataframe thead th {\n",
       "        text-align: right;\n",
       "    }\n",
       "</style>\n",
       "<table border=\"1\" class=\"dataframe\">\n",
       "  <thead>\n",
       "    <tr style=\"text-align: right;\">\n",
       "      <th></th>\n",
       "      <th>sentiment</th>\n",
       "    </tr>\n",
       "  </thead>\n",
       "  <tbody>\n",
       "    <tr>\n",
       "      <th>count</th>\n",
       "      <td>10605.00</td>\n",
       "    </tr>\n",
       "    <tr>\n",
       "      <th>mean</th>\n",
       "      <td>0.00</td>\n",
       "    </tr>\n",
       "    <tr>\n",
       "      <th>std</th>\n",
       "      <td>1.92</td>\n",
       "    </tr>\n",
       "    <tr>\n",
       "      <th>min</th>\n",
       "      <td>-3.88</td>\n",
       "    </tr>\n",
       "    <tr>\n",
       "      <th>25%</th>\n",
       "      <td>-1.77</td>\n",
       "    </tr>\n",
       "    <tr>\n",
       "      <th>50%</th>\n",
       "      <td>-0.08</td>\n",
       "    </tr>\n",
       "    <tr>\n",
       "      <th>75%</th>\n",
       "      <td>1.83</td>\n",
       "    </tr>\n",
       "    <tr>\n",
       "      <th>max</th>\n",
       "      <td>3.94</td>\n",
       "    </tr>\n",
       "  </tbody>\n",
       "</table>\n",
       "</div>"
      ],
      "text/plain": [
       "       sentiment\n",
       "count   10605.00\n",
       "mean        0.00\n",
       "std         1.92\n",
       "min        -3.88\n",
       "25%        -1.77\n",
       "50%        -0.08\n",
       "75%         1.83\n",
       "max         3.94"
      ]
     },
     "execution_count": 14,
     "metadata": {},
     "output_type": "execute_result"
    }
   ],
   "source": [
    "movies.describe().round(2)"
   ]
  },
  {
   "cell_type": "code",
   "execution_count": 15,
   "id": "a42de056",
   "metadata": {},
   "outputs": [],
   "source": [
    "import pandas as pd  # noqa\n",
    "pd.set_option('display.width', 75)\n",
    "from nltk.tokenize import casual_tokenize  # noqa\n",
    "bags_of_words = []\n",
    "from collections import Counter"
   ]
  },
  {
   "cell_type": "code",
   "execution_count": 16,
   "id": "1e6898eb",
   "metadata": {},
   "outputs": [],
   "source": [
    "for text in movies.text:\n",
    "    bags_of_words.append(Counter(casual_tokenize(text)))"
   ]
  },
  {
   "cell_type": "code",
   "execution_count": 18,
   "id": "98ac29ee",
   "metadata": {
    "scrolled": true
   },
   "outputs": [
    {
     "data": {
      "text/plain": [
       "10605"
      ]
     },
     "execution_count": 18,
     "metadata": {},
     "output_type": "execute_result"
    }
   ],
   "source": [
    "len(bags_of_words)"
   ]
  },
  {
   "cell_type": "code",
   "execution_count": null,
   "id": "8c05eb71",
   "metadata": {},
   "outputs": [],
   "source": [
    "df_bows = pd.DataFrame.from_records(bags_of_words)\n",
    "df_bows = df_bows.fillna(0).astype(int)\n",
    "df_bows.shape\n",
    "# (10605, 20756)\n",
    "df_bows.head()"
   ]
  },
  {
   "cell_type": "code",
   "execution_count": null,
   "id": "cc0a6db6",
   "metadata": {},
   "outputs": [],
   "source": []
  },
  {
   "cell_type": "code",
   "execution_count": null,
   "id": "40ca19cc",
   "metadata": {},
   "outputs": [],
   "source": []
  },
  {
   "cell_type": "code",
   "execution_count": null,
   "id": "9a1fb01f",
   "metadata": {},
   "outputs": [],
   "source": []
  },
  {
   "cell_type": "code",
   "execution_count": null,
   "id": "93dd9672",
   "metadata": {},
   "outputs": [],
   "source": []
  },
  {
   "cell_type": "code",
   "execution_count": null,
   "id": "a3e950d8",
   "metadata": {},
   "outputs": [],
   "source": []
  },
  {
   "cell_type": "code",
   "execution_count": null,
   "id": "96bc672b",
   "metadata": {},
   "outputs": [],
   "source": []
  }
 ],
 "metadata": {
  "kernelspec": {
   "display_name": "Python 3",
   "language": "python",
   "name": "python3"
  },
  "language_info": {
   "codemirror_mode": {
    "name": "ipython",
    "version": 3
   },
   "file_extension": ".py",
   "mimetype": "text/x-python",
   "name": "python",
   "nbconvert_exporter": "python",
   "pygments_lexer": "ipython3",
   "version": "3.8.5"
  }
 },
 "nbformat": 4,
 "nbformat_minor": 5
}
